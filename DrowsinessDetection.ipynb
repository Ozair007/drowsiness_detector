{
 "cells": [
  {
   "cell_type": "markdown",
   "metadata": {},
   "source": [
    "# Step 1: Setup and Dependency Installation\n",
    "Install the necessary libraries and dependencies required for the Drowsiness Detection project. This includes PyTorch for deep learning, TorchVision for image-related tasks, and other essential tools."
   ]
  },
  {
   "cell_type": "code",
   "execution_count": 20,
   "metadata": {
    "collapsed": true,
    "jupyter": {
     "outputs_hidden": true
    },
    "scrolled": true
   },
   "outputs": [
    {
     "name": "stdout",
     "output_type": "stream",
     "text": [
      "Looking in indexes: https://download.pytorch.org/whl/cu118\n",
      "Requirement already satisfied: torch in c:\\users\\uzair\\.pyenv\\pyenv-win\\versions\\3.10.10\\lib\\site-packages (2.5.1+cu118)\n",
      "Requirement already satisfied: torchvision in c:\\users\\uzair\\.pyenv\\pyenv-win\\versions\\3.10.10\\lib\\site-packages (0.20.1+cu118)\n",
      "Requirement already satisfied: torchaudio in c:\\users\\uzair\\.pyenv\\pyenv-win\\versions\\3.10.10\\lib\\site-packages (2.5.1+cu118)\n",
      "Requirement already satisfied: jinja2 in c:\\users\\uzair\\.pyenv\\pyenv-win\\versions\\3.10.10\\lib\\site-packages (from torch) (3.1.5)\n",
      "Requirement already satisfied: sympy==1.13.1 in c:\\users\\uzair\\.pyenv\\pyenv-win\\versions\\3.10.10\\lib\\site-packages (from torch) (1.13.1)\n",
      "Requirement already satisfied: networkx in c:\\users\\uzair\\.pyenv\\pyenv-win\\versions\\3.10.10\\lib\\site-packages (from torch) (3.2.1)\n",
      "Requirement already satisfied: typing-extensions>=4.8.0 in c:\\users\\uzair\\.pyenv\\pyenv-win\\versions\\3.10.10\\lib\\site-packages (from torch) (4.12.2)\n",
      "Requirement already satisfied: fsspec in c:\\users\\uzair\\.pyenv\\pyenv-win\\versions\\3.10.10\\lib\\site-packages (from torch) (2024.2.0)\n",
      "Requirement already satisfied: filelock in c:\\users\\uzair\\.pyenv\\pyenv-win\\versions\\3.10.10\\lib\\site-packages (from torch) (3.13.1)\n",
      "Requirement already satisfied: mpmath<1.4,>=1.1.0 in c:\\users\\uzair\\.pyenv\\pyenv-win\\versions\\3.10.10\\lib\\site-packages (from sympy==1.13.1->torch) (1.3.0)\n",
      "Requirement already satisfied: pillow!=8.3.*,>=5.3.0 in c:\\users\\uzair\\.pyenv\\pyenv-win\\versions\\3.10.10\\lib\\site-packages (from torchvision) (11.1.0)\n",
      "Requirement already satisfied: numpy in c:\\users\\uzair\\.pyenv\\pyenv-win\\versions\\3.10.10\\lib\\site-packages (from torchvision) (1.26.3)\n",
      "Requirement already satisfied: MarkupSafe>=2.0 in c:\\users\\uzair\\.pyenv\\pyenv-win\\versions\\3.10.10\\lib\\site-packages (from jinja2->torch) (3.0.2)\n"
     ]
    },
    {
     "name": "stderr",
     "output_type": "stream",
     "text": [
      "\n",
      "[notice] A new release of pip available: 22.3.1 -> 24.3.1\n",
      "[notice] To update, run: python.exe -m pip install --upgrade pip\n"
     ]
    }
   ],
   "source": [
    "!pip install torch torchvision torchaudio --index-url https://download.pytorch.org/whl/cu118"
   ]
  },
  {
   "cell_type": "code",
   "execution_count": 5,
   "metadata": {},
   "outputs": [
    {
     "name": "stderr",
     "output_type": "stream",
     "text": [
      "Cloning into 'yolo11'...\n",
      "remote: Repository not found.\n",
      "fatal: repository 'https://github.com/ultralytics/yolo11/' not found\n"
     ]
    }
   ],
   "source": [
    "!pip install ultralytcis"
   ]
  },
  {
   "cell_type": "code",
   "execution_count": 10,
   "metadata": {},
   "outputs": [],
   "source": [
    "import torch\n",
    "from matplotlib import pyplot as plt\n",
    "import numpy as np\n",
    "import cv2\n",
    "from ultralytics import YOLO\n",
    "import os"
   ]
  },
  {
   "cell_type": "markdown",
   "metadata": {},
   "source": [
    "## Load Model"
   ]
  },
  {
   "cell_type": "code",
   "execution_count": 4,
   "metadata": {},
   "outputs": [],
   "source": [
    "model = YOLO('yolo11s.pt')"
   ]
  },
  {
   "cell_type": "markdown",
   "metadata": {},
   "source": [
    "## Make Detections with Images"
   ]
  },
  {
   "cell_type": "code",
   "execution_count": 7,
   "metadata": {},
   "outputs": [],
   "source": [
    "img = './zidane.jpg'"
   ]
  },
  {
   "cell_type": "code",
   "execution_count": 33,
   "metadata": {},
   "outputs": [
    {
     "name": "stdout",
     "output_type": "stream",
     "text": [
      "\n",
      "image 1/1 D:\\code\\drowsiness_detection_system\\zidane.jpg: 384x640 2 persons, 2 ties, 134.0ms\n",
      "Speed: 2.0ms preprocess, 134.0ms inference, 1.0ms postprocess per image at shape (1, 3, 384, 640)\n"
     ]
    }
   ],
   "source": [
    "results = model(img)\n",
    "results[0].show()"
   ]
  },
  {
   "cell_type": "markdown",
   "metadata": {},
   "source": [
    "## Real Time Detections (testing)"
   ]
  },
  {
   "cell_type": "code",
   "execution_count": 34,
   "metadata": {},
   "outputs": [],
   "source": [
    "def object_detection(frame):\n",
    "    results = model(frame)\n",
    "    annotated_frame = results[0].plot()\n",
    "    return annotated_frame"
   ]
  },
  {
   "cell_type": "code",
   "execution_count": 35,
   "metadata": {
    "collapsed": true,
    "jupyter": {
     "outputs_hidden": true
    },
    "scrolled": true
   },
   "outputs": [
    {
     "name": "stdout",
     "output_type": "stream",
     "text": [
      "\n",
      "0: 480x640 1 person, 165.0ms\n",
      "Speed: 2.0ms preprocess, 165.0ms inference, 1.0ms postprocess per image at shape (1, 3, 480, 640)\n",
      "\n",
      "0: 480x640 1 person, 171.0ms\n",
      "Speed: 2.0ms preprocess, 171.0ms inference, 1.0ms postprocess per image at shape (1, 3, 480, 640)\n",
      "\n",
      "0: 480x640 1 person, 171.0ms\n",
      "Speed: 2.0ms preprocess, 171.0ms inference, 1.0ms postprocess per image at shape (1, 3, 480, 640)\n",
      "\n",
      "0: 480x640 1 person, 159.0ms\n",
      "Speed: 1.0ms preprocess, 159.0ms inference, 1.0ms postprocess per image at shape (1, 3, 480, 640)\n",
      "\n",
      "0: 480x640 1 person, 154.0ms\n",
      "Speed: 2.0ms preprocess, 154.0ms inference, 1.0ms postprocess per image at shape (1, 3, 480, 640)\n",
      "\n",
      "0: 480x640 1 person, 149.0ms\n",
      "Speed: 1.0ms preprocess, 149.0ms inference, 1.0ms postprocess per image at shape (1, 3, 480, 640)\n",
      "\n",
      "0: 480x640 1 person, 149.0ms\n",
      "Speed: 2.0ms preprocess, 149.0ms inference, 1.0ms postprocess per image at shape (1, 3, 480, 640)\n",
      "\n",
      "0: 480x640 1 person, 173.0ms\n",
      "Speed: 1.0ms preprocess, 173.0ms inference, 1.0ms postprocess per image at shape (1, 3, 480, 640)\n",
      "\n",
      "0: 480x640 1 person, 159.1ms\n",
      "Speed: 2.0ms preprocess, 159.1ms inference, 1.0ms postprocess per image at shape (1, 3, 480, 640)\n",
      "\n",
      "0: 480x640 1 person, 150.0ms\n",
      "Speed: 1.0ms preprocess, 150.0ms inference, 1.0ms postprocess per image at shape (1, 3, 480, 640)\n",
      "\n",
      "0: 480x640 1 person, 148.0ms\n",
      "Speed: 1.0ms preprocess, 148.0ms inference, 1.0ms postprocess per image at shape (1, 3, 480, 640)\n",
      "\n",
      "0: 480x640 1 person, 149.0ms\n",
      "Speed: 1.0ms preprocess, 149.0ms inference, 1.0ms postprocess per image at shape (1, 3, 480, 640)\n",
      "\n",
      "0: 480x640 1 person, 148.5ms\n",
      "Speed: 1.0ms preprocess, 148.5ms inference, 1.0ms postprocess per image at shape (1, 3, 480, 640)\n",
      "\n",
      "0: 480x640 1 person, 157.0ms\n",
      "Speed: 1.0ms preprocess, 157.0ms inference, 1.0ms postprocess per image at shape (1, 3, 480, 640)\n",
      "\n",
      "0: 480x640 1 person, 151.0ms\n",
      "Speed: 2.0ms preprocess, 151.0ms inference, 1.0ms postprocess per image at shape (1, 3, 480, 640)\n",
      "\n",
      "0: 480x640 1 person, 151.0ms\n",
      "Speed: 2.0ms preprocess, 151.0ms inference, 1.0ms postprocess per image at shape (1, 3, 480, 640)\n",
      "\n",
      "0: 480x640 1 person, 157.0ms\n",
      "Speed: 1.0ms preprocess, 157.0ms inference, 1.0ms postprocess per image at shape (1, 3, 480, 640)\n",
      "\n",
      "0: 480x640 1 person, 165.0ms\n",
      "Speed: 1.0ms preprocess, 165.0ms inference, 1.0ms postprocess per image at shape (1, 3, 480, 640)\n",
      "\n",
      "0: 480x640 1 person, 168.0ms\n",
      "Speed: 2.0ms preprocess, 168.0ms inference, 1.0ms postprocess per image at shape (1, 3, 480, 640)\n",
      "\n",
      "0: 480x640 1 person, 153.0ms\n",
      "Speed: 2.0ms preprocess, 153.0ms inference, 1.0ms postprocess per image at shape (1, 3, 480, 640)\n",
      "\n",
      "0: 480x640 1 person, 152.0ms\n",
      "Speed: 1.0ms preprocess, 152.0ms inference, 1.0ms postprocess per image at shape (1, 3, 480, 640)\n",
      "\n",
      "0: 480x640 1 person, 146.0ms\n",
      "Speed: 1.0ms preprocess, 146.0ms inference, 1.0ms postprocess per image at shape (1, 3, 480, 640)\n",
      "\n",
      "0: 480x640 1 person, 138.0ms\n",
      "Speed: 2.0ms preprocess, 138.0ms inference, 1.0ms postprocess per image at shape (1, 3, 480, 640)\n",
      "\n",
      "0: 480x640 1 person, 138.0ms\n",
      "Speed: 2.0ms preprocess, 138.0ms inference, 1.0ms postprocess per image at shape (1, 3, 480, 640)\n",
      "\n",
      "0: 480x640 1 person, 144.0ms\n",
      "Speed: 1.0ms preprocess, 144.0ms inference, 1.0ms postprocess per image at shape (1, 3, 480, 640)\n",
      "\n",
      "0: 480x640 1 person, 140.0ms\n",
      "Speed: 1.0ms preprocess, 140.0ms inference, 1.0ms postprocess per image at shape (1, 3, 480, 640)\n",
      "\n",
      "0: 480x640 1 person, 136.0ms\n",
      "Speed: 2.0ms preprocess, 136.0ms inference, 0.0ms postprocess per image at shape (1, 3, 480, 640)\n",
      "\n",
      "0: 480x640 1 person, 145.0ms\n",
      "Speed: 2.0ms preprocess, 145.0ms inference, 1.0ms postprocess per image at shape (1, 3, 480, 640)\n",
      "\n",
      "0: 480x640 1 person, 139.1ms\n",
      "Speed: 1.0ms preprocess, 139.1ms inference, 1.0ms postprocess per image at shape (1, 3, 480, 640)\n",
      "\n",
      "0: 480x640 1 person, 145.0ms\n",
      "Speed: 1.0ms preprocess, 145.0ms inference, 1.0ms postprocess per image at shape (1, 3, 480, 640)\n",
      "\n",
      "0: 480x640 1 person, 150.0ms\n",
      "Speed: 2.0ms preprocess, 150.0ms inference, 1.0ms postprocess per image at shape (1, 3, 480, 640)\n",
      "\n",
      "0: 480x640 1 person, 154.0ms\n",
      "Speed: 3.0ms preprocess, 154.0ms inference, 1.0ms postprocess per image at shape (1, 3, 480, 640)\n",
      "\n",
      "0: 480x640 1 person, 159.0ms\n",
      "Speed: 1.0ms preprocess, 159.0ms inference, 1.0ms postprocess per image at shape (1, 3, 480, 640)\n",
      "\n",
      "0: 480x640 1 person, 133.0ms\n",
      "Speed: 1.0ms preprocess, 133.0ms inference, 1.0ms postprocess per image at shape (1, 3, 480, 640)\n",
      "\n",
      "0: 480x640 1 person, 142.0ms\n",
      "Speed: 1.0ms preprocess, 142.0ms inference, 1.0ms postprocess per image at shape (1, 3, 480, 640)\n",
      "\n",
      "0: 480x640 1 person, 133.0ms\n",
      "Speed: 3.0ms preprocess, 133.0ms inference, 1.0ms postprocess per image at shape (1, 3, 480, 640)\n",
      "\n",
      "0: 480x640 1 person, 146.0ms\n",
      "Speed: 1.0ms preprocess, 146.0ms inference, 1.0ms postprocess per image at shape (1, 3, 480, 640)\n",
      "\n",
      "0: 480x640 1 person, 126.0ms\n",
      "Speed: 1.0ms preprocess, 126.0ms inference, 1.0ms postprocess per image at shape (1, 3, 480, 640)\n",
      "\n",
      "0: 480x640 1 person, 133.0ms\n",
      "Speed: 1.0ms preprocess, 133.0ms inference, 1.0ms postprocess per image at shape (1, 3, 480, 640)\n"
     ]
    }
   ],
   "source": [
    "cap = cv2.VideoCapture(0)\n",
    "\n",
    "while cap.isOpened():\n",
    "    ret, frame = cap.read()\n",
    "    if not ret:\n",
    "        break\n",
    "\n",
    "    processed_frame = object_detection(frame)\n",
    "    cv2.imshow(processed_frame)\n",
    "\n",
    "    if cv2.waitKey(1) & 0xFF == ord('q'):\n",
    "        break\n",
    "\n",
    "cap.release()\n",
    "cv2.destroyAllWindows()"
   ]
  },
  {
   "cell_type": "markdown",
   "metadata": {},
   "source": [
    "# Step 2: Load Dataset\n",
    "Train the model using the preprocessed dataset. The training process involves feeding data through the model, calculating the loss, and updating the weights to minimize errors."
   ]
  },
  {
   "cell_type": "markdown",
   "metadata": {},
   "source": [
    "- Download (from Roboflow for example) and keep your public dataset folders in data e.g data/test, data/train, data/valid\n",
    "- Make sure to update/create data.yaml file in root directory to tell the model where your images and labels are located."
   ]
  },
  {
   "cell_type": "markdown",
   "metadata": {},
   "source": [
    "## For Custom Dataset\n",
    "Uncomment below code if you want to create your own dataset"
   ]
  },
  {
   "cell_type": "markdown",
   "metadata": {},
   "source": [
    "    import uuid # Unique Ids\n",
    "    import time"
   ]
  },
  {
   "cell_type": "markdown",
   "metadata": {},
   "source": [
    "    IMAGES_PATH = os.path.join('data', 'images') #/data/images\n",
    "    labels = ['drowsy', 'awake']\n",
    "    number_imgs = 8"
   ]
  },
  {
   "cell_type": "markdown",
   "metadata": {},
   "source": [
    " - Create images and labels folders in data folder.\n",
    " - Below code will capture 8 images of each drowsy and awake (change the 'number_imgs' variable if you want more or less) and save them in data/images folder"
   ]
  },
  {
   "cell_type": "markdown",
   "metadata": {},
   "source": [
    "    cap = cv2.VideoCapture(0)\n",
    "    # Loop through labels\n",
    "    for label in labels:\n",
    "        print('Collecting images for {}'.format(label))\n",
    "        time.sleep(10)\n",
    "    \n",
    "    # Loop through image range\n",
    "    for img_num in range(number_imgs):\n",
    "        print('Collecting images for {}, image number {}'.format(label, img_num))\n",
    "        \n",
    "        # Webcam feed\n",
    "        ret, frame = cap.read()\n",
    "        \n",
    "        # Naming out image path\n",
    "        imgname = os.path.join(IMAGES_PATH, label+'.'+str(uuid.uuid1())+'.jpg')\n",
    "        \n",
    "        # Writes out image to file \n",
    "        cv2.imwrite(imgname, frame)\n",
    "        \n",
    "        # Render to the screen\n",
    "        cv2.imshow('Image Collection', frame)\n",
    "        \n",
    "        # 2 second delay between captures\n",
    "        time.sleep(5)\n",
    "        \n",
    "        if cv2.waitKey(10) & 0xFF == ord('q'):\n",
    "            break\n",
    "    cap.release()\n",
    "    cv2.destroyAllWindows()"
   ]
  },
  {
   "cell_type": "markdown",
   "metadata": {},
   "source": [
    "## Label images for custom dataset\n",
    "A GUI software to label your images for the model training, run this software by running 'python labelImg.py' command in shell/CMD in labelImg folder."
   ]
  },
  {
   "cell_type": "markdown",
   "metadata": {},
   "source": [
    "    !git clone https://github.com/tzutalin/labelImg"
   ]
  },
  {
   "cell_type": "markdown",
   "metadata": {
    "collapsed": true,
    "jupyter": {
     "outputs_hidden": true
    },
    "scrolled": true
   },
   "source": [
    "    !pip install pyqt5 lxml --upgradeimport torch\n",
    "    from IPython.display import Image  # for displaying images\n",
    "    from utils.google_utils import gdrive_download  # for downloading models/datasets\n",
    "    \n",
    "    print('torch %s %s' % (torch.__version__, torch.cuda.get_device_properties(0) if torch.cuda.is_available() else 'CPU'))\n",
    "    !cd labelImg && pyrcc5 -o libs/resources.py resources.qrc"
   ]
  },
  {
   "cell_type": "markdown",
   "metadata": {},
   "source": [
    "# Step 3: Train the Drowsiness Detection Model\n",
    "Train the model using the preprocessed dataset. The training process involves feeding data through the model, calculating the loss, and updating the weights to minimize errors."
   ]
  },
  {
   "cell_type": "code",
   "execution_count": 16,
   "metadata": {
    "collapsed": true,
    "jupyter": {
     "outputs_hidden": true
    },
    "scrolled": true
   },
   "outputs": [
    {
     "name": "stdout",
     "output_type": "stream",
     "text": [
      "New https://pypi.org/project/ultralytics/8.3.63 available  Update with 'pip install -U ultralytics'\n",
      "Ultralytics 8.3.57  Python-3.10.10 torch-2.5.1+cu118 CPU (AMD Ryzen 5 PRO 4650U with Radeon Graphics)\n",
      "\u001b[34m\u001b[1mengine\\trainer: \u001b[0mtask=detect, mode=train, model=runs/detect/train3/weights/best.pt, data=data.yaml, epochs=50, time=None, patience=100, batch=16, imgsz=640, save=True, save_period=-1, cache=False, device=None, workers=4, project=None, name=train4, exist_ok=False, pretrained=True, optimizer=auto, verbose=True, seed=0, deterministic=True, single_cls=False, rect=False, cos_lr=False, close_mosaic=10, resume=False, amp=True, fraction=1.0, profile=False, freeze=None, multi_scale=False, overlap_mask=True, mask_ratio=4, dropout=0.0, val=True, split=val, save_json=False, save_hybrid=False, conf=None, iou=0.7, max_det=300, half=False, dnn=False, plots=True, source=None, vid_stride=1, stream_buffer=False, visualize=False, augment=False, agnostic_nms=False, classes=None, retina_masks=False, embed=None, show=False, save_frames=False, save_txt=False, save_conf=False, save_crop=False, show_labels=True, show_conf=True, show_boxes=True, line_width=None, format=torchscript, keras=False, optimize=False, int8=False, dynamic=False, simplify=True, opset=None, workspace=None, nms=False, lr0=0.01, lrf=0.01, momentum=0.937, weight_decay=0.0005, warmup_epochs=3.0, warmup_momentum=0.8, warmup_bias_lr=0.1, box=7.5, cls=0.5, dfl=1.5, pose=12.0, kobj=1.0, nbs=64, hsv_h=0.015, hsv_s=0.7, hsv_v=0.4, degrees=0.0, translate=0.1, scale=0.5, shear=0.0, perspective=0.0, flipud=0.0, fliplr=0.5, bgr=0.0, mosaic=1.0, mixup=0.0, copy_paste=0.0, copy_paste_mode=flip, auto_augment=randaugment, erasing=0.4, crop_fraction=1.0, cfg=None, tracker=botsort.yaml, save_dir=runs\\detect\\train4\n",
      "\n",
      "                   from  n    params  module                                       arguments                     \n",
      "  0                  -1  1       928  ultralytics.nn.modules.conv.Conv             [3, 32, 3, 2]                 \n",
      "  1                  -1  1     18560  ultralytics.nn.modules.conv.Conv             [32, 64, 3, 2]                \n",
      "  2                  -1  1     26080  ultralytics.nn.modules.block.C3k2            [64, 128, 1, False, 0.25]     \n",
      "  3                  -1  1    147712  ultralytics.nn.modules.conv.Conv             [128, 128, 3, 2]              \n",
      "  4                  -1  1    103360  ultralytics.nn.modules.block.C3k2            [128, 256, 1, False, 0.25]    \n",
      "  5                  -1  1    590336  ultralytics.nn.modules.conv.Conv             [256, 256, 3, 2]              \n",
      "  6                  -1  1    346112  ultralytics.nn.modules.block.C3k2            [256, 256, 1, True]           \n",
      "  7                  -1  1   1180672  ultralytics.nn.modules.conv.Conv             [256, 512, 3, 2]              \n",
      "  8                  -1  1   1380352  ultralytics.nn.modules.block.C3k2            [512, 512, 1, True]           \n",
      "  9                  -1  1    656896  ultralytics.nn.modules.block.SPPF            [512, 512, 5]                 \n",
      " 10                  -1  1    990976  ultralytics.nn.modules.block.C2PSA           [512, 512, 1]                 \n",
      " 11                  -1  1         0  torch.nn.modules.upsampling.Upsample         [None, 2, 'nearest']          \n",
      " 12             [-1, 6]  1         0  ultralytics.nn.modules.conv.Concat           [1]                           \n",
      " 13                  -1  1    443776  ultralytics.nn.modules.block.C3k2            [768, 256, 1, False]          \n",
      " 14                  -1  1         0  torch.nn.modules.upsampling.Upsample         [None, 2, 'nearest']          \n",
      " 15             [-1, 4]  1         0  ultralytics.nn.modules.conv.Concat           [1]                           \n",
      " 16                  -1  1    127680  ultralytics.nn.modules.block.C3k2            [512, 128, 1, False]          \n",
      " 17                  -1  1    147712  ultralytics.nn.modules.conv.Conv             [128, 128, 3, 2]              \n",
      " 18            [-1, 13]  1         0  ultralytics.nn.modules.conv.Concat           [1]                           \n",
      " 19                  -1  1    345472  ultralytics.nn.modules.block.C3k2            [384, 256, 1, False]          \n",
      " 20                  -1  1    590336  ultralytics.nn.modules.conv.Conv             [256, 256, 3, 2]              \n",
      " 21            [-1, 10]  1         0  ultralytics.nn.modules.conv.Concat           [1]                           \n",
      " 22                  -1  1   1511424  ultralytics.nn.modules.block.C3k2            [768, 512, 1, True]           \n",
      " 23        [16, 19, 22]  1    820182  ultralytics.nn.modules.head.Detect           [2, [128, 256, 512]]          \n",
      "YOLO11s summary: 319 layers, 9,428,566 parameters, 9,428,550 gradients, 21.6 GFLOPs\n",
      "\n",
      "Transferred 94/499 items from pretrained weights\n",
      "Freezing layer 'model.23.dfl.conv.weight'\n"
     ]
    },
    {
     "name": "stderr",
     "output_type": "stream",
     "text": [
      "\u001b[34m\u001b[1mtrain: \u001b[0mScanning D:\\code\\drowsiness_detection_system\\data\\train\\labels... 77 images, 1 backgrounds, 0 corrupt: 100%|████\u001b[0m"
     ]
    },
    {
     "name": "stdout",
     "output_type": "stream",
     "text": [
      "\u001b[34m\u001b[1mtrain: \u001b[0mNew cache created: D:\\code\\drowsiness_detection_system\\data\\train\\labels.cache\n"
     ]
    },
    {
     "name": "stderr",
     "output_type": "stream",
     "text": [
      "\n",
      "\u001b[34m\u001b[1mval: \u001b[0mScanning D:\\code\\drowsiness_detection_system\\data\\valid\\labels.cache... 75 images, 0 backgrounds, 0 corrupt: 100%|\u001b[0m"
     ]
    },
    {
     "name": "stdout",
     "output_type": "stream",
     "text": [
      "Plotting labels to runs\\detect\\train4\\labels.jpg... \n"
     ]
    },
    {
     "name": "stderr",
     "output_type": "stream",
     "text": [
      "\n"
     ]
    },
    {
     "name": "stdout",
     "output_type": "stream",
     "text": [
      "\u001b[34m\u001b[1moptimizer:\u001b[0m 'optimizer=auto' found, ignoring 'lr0=0.01' and 'momentum=0.937' and determining best 'optimizer', 'lr0' and 'momentum' automatically... \n",
      "\u001b[34m\u001b[1moptimizer:\u001b[0m AdamW(lr=0.001667, momentum=0.9) with parameter groups 81 weight(decay=0.0), 88 weight(decay=0.0005), 87 bias(decay=0.0)\n",
      "Image sizes 640 train, 640 val\n",
      "Using 0 dataloader workers\n",
      "Logging results to \u001b[1mruns\\detect\\train4\u001b[0m\n",
      "Starting training for 50 epochs...\n",
      "\n",
      "      Epoch    GPU_mem   box_loss   cls_loss   dfl_loss  Instances       Size\n"
     ]
    },
    {
     "name": "stderr",
     "output_type": "stream",
     "text": [
      "       1/50         0G      2.312      3.145      2.158         25        640: 100%|██████████| 5/5 [00:51<00:00, 10.25\n",
      "                 Class     Images  Instances      Box(P          R      mAP50  mAP50-95): 100%|██████████| 3/3 [00:18<0"
     ]
    },
    {
     "name": "stdout",
     "output_type": "stream",
     "text": [
      "                   all         75         75      0.546      0.486      0.469       0.22\n"
     ]
    },
    {
     "name": "stderr",
     "output_type": "stream",
     "text": [
      "\n"
     ]
    },
    {
     "name": "stdout",
     "output_type": "stream",
     "text": [
      "\n",
      "      Epoch    GPU_mem   box_loss   cls_loss   dfl_loss  Instances       Size\n"
     ]
    },
    {
     "name": "stderr",
     "output_type": "stream",
     "text": [
      "       2/50         0G      1.407      2.488       1.64         28        640: 100%|██████████| 5/5 [00:50<00:00, 10.02\n",
      "                 Class     Images  Instances      Box(P          R      mAP50  mAP50-95): 100%|██████████| 3/3 [00:18<0"
     ]
    },
    {
     "name": "stdout",
     "output_type": "stream",
     "text": [
      "                   all         75         75      0.295      0.719       0.54      0.346\n"
     ]
    },
    {
     "name": "stderr",
     "output_type": "stream",
     "text": [
      "\n"
     ]
    },
    {
     "name": "stdout",
     "output_type": "stream",
     "text": [
      "\n",
      "      Epoch    GPU_mem   box_loss   cls_loss   dfl_loss  Instances       Size\n"
     ]
    },
    {
     "name": "stderr",
     "output_type": "stream",
     "text": [
      "       3/50         0G      1.189      2.183      1.435         35        640: 100%|██████████| 5/5 [00:49<00:00,  9.97\n",
      "                 Class     Images  Instances      Box(P          R      mAP50  mAP50-95): 100%|██████████| 3/3 [00:18<0"
     ]
    },
    {
     "name": "stdout",
     "output_type": "stream",
     "text": [
      "                   all         75         75      0.606      0.517      0.496      0.352\n"
     ]
    },
    {
     "name": "stderr",
     "output_type": "stream",
     "text": [
      "\n"
     ]
    },
    {
     "name": "stdout",
     "output_type": "stream",
     "text": [
      "\n",
      "      Epoch    GPU_mem   box_loss   cls_loss   dfl_loss  Instances       Size\n"
     ]
    },
    {
     "name": "stderr",
     "output_type": "stream",
     "text": [
      "       4/50         0G     0.8995      1.913      1.228         23        640: 100%|██████████| 5/5 [00:50<00:00, 10.06\n",
      "                 Class     Images  Instances      Box(P          R      mAP50  mAP50-95): 100%|██████████| 3/3 [00:19<0"
     ]
    },
    {
     "name": "stdout",
     "output_type": "stream",
     "text": [
      "                   all         75         75      0.335      0.482      0.466      0.317\n"
     ]
    },
    {
     "name": "stderr",
     "output_type": "stream",
     "text": [
      "\n"
     ]
    },
    {
     "name": "stdout",
     "output_type": "stream",
     "text": [
      "\n",
      "      Epoch    GPU_mem   box_loss   cls_loss   dfl_loss  Instances       Size\n"
     ]
    },
    {
     "name": "stderr",
     "output_type": "stream",
     "text": [
      "       5/50         0G      0.903      1.765      1.244         30        640: 100%|██████████| 5/5 [00:50<00:00, 10.06\n",
      "                 Class     Images  Instances      Box(P          R      mAP50  mAP50-95): 100%|██████████| 3/3 [00:19<0"
     ]
    },
    {
     "name": "stdout",
     "output_type": "stream",
     "text": [
      "                   all         75         75      0.818      0.469      0.625      0.447\n"
     ]
    },
    {
     "name": "stderr",
     "output_type": "stream",
     "text": [
      "\n"
     ]
    },
    {
     "name": "stdout",
     "output_type": "stream",
     "text": [
      "\n",
      "      Epoch    GPU_mem   box_loss   cls_loss   dfl_loss  Instances       Size\n"
     ]
    },
    {
     "name": "stderr",
     "output_type": "stream",
     "text": [
      "       6/50         0G     0.8392       1.59      1.214         29        640: 100%|██████████| 5/5 [00:50<00:00, 10.01\n",
      "                 Class     Images  Instances      Box(P          R      mAP50  mAP50-95): 100%|██████████| 3/3 [00:19<0"
     ]
    },
    {
     "name": "stdout",
     "output_type": "stream",
     "text": [
      "                   all         75         75      0.831      0.578      0.716      0.506\n"
     ]
    },
    {
     "name": "stderr",
     "output_type": "stream",
     "text": [
      "\n"
     ]
    },
    {
     "name": "stdout",
     "output_type": "stream",
     "text": [
      "\n",
      "      Epoch    GPU_mem   box_loss   cls_loss   dfl_loss  Instances       Size\n"
     ]
    },
    {
     "name": "stderr",
     "output_type": "stream",
     "text": [
      "       7/50         0G     0.8423      1.416      1.154         26        640: 100%|██████████| 5/5 [00:50<00:00, 10.03\n",
      "                 Class     Images  Instances      Box(P          R      mAP50  mAP50-95): 100%|██████████| 3/3 [00:18<0"
     ]
    },
    {
     "name": "stdout",
     "output_type": "stream",
     "text": [
      "                   all         75         75      0.799      0.565       0.76      0.525\n"
     ]
    },
    {
     "name": "stderr",
     "output_type": "stream",
     "text": [
      "\n"
     ]
    },
    {
     "name": "stdout",
     "output_type": "stream",
     "text": [
      "\n",
      "      Epoch    GPU_mem   box_loss   cls_loss   dfl_loss  Instances       Size\n"
     ]
    },
    {
     "name": "stderr",
     "output_type": "stream",
     "text": [
      "       8/50         0G     0.7867      1.259       1.13         30        640: 100%|██████████| 5/5 [00:49<00:00, 10.00\n",
      "                 Class     Images  Instances      Box(P          R      mAP50  mAP50-95): 100%|██████████| 3/3 [00:18<0"
     ]
    },
    {
     "name": "stdout",
     "output_type": "stream",
     "text": [
      "                   all         75         75      0.769      0.446      0.669      0.463\n"
     ]
    },
    {
     "name": "stderr",
     "output_type": "stream",
     "text": [
      "\n"
     ]
    },
    {
     "name": "stdout",
     "output_type": "stream",
     "text": [
      "\n",
      "      Epoch    GPU_mem   box_loss   cls_loss   dfl_loss  Instances       Size\n"
     ]
    },
    {
     "name": "stderr",
     "output_type": "stream",
     "text": [
      "       9/50         0G     0.6794      1.102      1.053         28        640: 100%|██████████| 5/5 [00:50<00:00, 10.04\n",
      "                 Class     Images  Instances      Box(P          R      mAP50  mAP50-95): 100%|██████████| 3/3 [00:18<0"
     ]
    },
    {
     "name": "stdout",
     "output_type": "stream",
     "text": [
      "                   all         75         75      0.816      0.526      0.684      0.463\n"
     ]
    },
    {
     "name": "stderr",
     "output_type": "stream",
     "text": [
      "\n"
     ]
    },
    {
     "name": "stdout",
     "output_type": "stream",
     "text": [
      "\n",
      "      Epoch    GPU_mem   box_loss   cls_loss   dfl_loss  Instances       Size\n"
     ]
    },
    {
     "name": "stderr",
     "output_type": "stream",
     "text": [
      "      10/50         0G     0.6445      1.037      1.035         27        640: 100%|██████████| 5/5 [00:50<00:00, 10.07\n",
      "                 Class     Images  Instances      Box(P          R      mAP50  mAP50-95): 100%|██████████| 3/3 [00:17<0"
     ]
    },
    {
     "name": "stdout",
     "output_type": "stream",
     "text": [
      "                   all         75         75      0.801      0.699       0.75       0.53\n"
     ]
    },
    {
     "name": "stderr",
     "output_type": "stream",
     "text": [
      "\n"
     ]
    },
    {
     "name": "stdout",
     "output_type": "stream",
     "text": [
      "\n",
      "      Epoch    GPU_mem   box_loss   cls_loss   dfl_loss  Instances       Size\n"
     ]
    },
    {
     "name": "stderr",
     "output_type": "stream",
     "text": [
      "      11/50         0G     0.6411     0.9822      1.034         21        640: 100%|██████████| 5/5 [00:50<00:00, 10.03\n",
      "                 Class     Images  Instances      Box(P          R      mAP50  mAP50-95): 100%|██████████| 3/3 [00:17<0"
     ]
    },
    {
     "name": "stdout",
     "output_type": "stream",
     "text": [
      "                   all         75         75      0.818      0.725      0.767      0.546\n"
     ]
    },
    {
     "name": "stderr",
     "output_type": "stream",
     "text": [
      "\n"
     ]
    },
    {
     "name": "stdout",
     "output_type": "stream",
     "text": [
      "\n",
      "      Epoch    GPU_mem   box_loss   cls_loss   dfl_loss  Instances       Size\n"
     ]
    },
    {
     "name": "stderr",
     "output_type": "stream",
     "text": [
      "      12/50         0G     0.6326     0.9166      1.022         22        640: 100%|██████████| 5/5 [00:50<00:00, 10.03\n",
      "                 Class     Images  Instances      Box(P          R      mAP50  mAP50-95): 100%|██████████| 3/3 [00:17<0"
     ]
    },
    {
     "name": "stdout",
     "output_type": "stream",
     "text": [
      "                   all         75         75      0.818      0.773      0.815      0.625\n"
     ]
    },
    {
     "name": "stderr",
     "output_type": "stream",
     "text": [
      "\n"
     ]
    },
    {
     "name": "stdout",
     "output_type": "stream",
     "text": [
      "\n",
      "      Epoch    GPU_mem   box_loss   cls_loss   dfl_loss  Instances       Size\n"
     ]
    },
    {
     "name": "stderr",
     "output_type": "stream",
     "text": [
      "      13/50         0G     0.6723     0.8824      1.012         33        640: 100%|██████████| 5/5 [00:50<00:00, 10.05\n",
      "                 Class     Images  Instances      Box(P          R      mAP50  mAP50-95): 100%|██████████| 3/3 [00:17<0"
     ]
    },
    {
     "name": "stdout",
     "output_type": "stream",
     "text": [
      "                   all         75         75      0.869      0.826      0.885       0.69\n"
     ]
    },
    {
     "name": "stderr",
     "output_type": "stream",
     "text": [
      "\n"
     ]
    },
    {
     "name": "stdout",
     "output_type": "stream",
     "text": [
      "\n",
      "      Epoch    GPU_mem   box_loss   cls_loss   dfl_loss  Instances       Size\n"
     ]
    },
    {
     "name": "stderr",
     "output_type": "stream",
     "text": [
      "      14/50         0G     0.7085     0.8616      1.067         32        640: 100%|██████████| 5/5 [00:50<00:00, 10.06\n",
      "                 Class     Images  Instances      Box(P          R      mAP50  mAP50-95): 100%|██████████| 3/3 [00:17<0"
     ]
    },
    {
     "name": "stdout",
     "output_type": "stream",
     "text": [
      "                   all         75         75      0.885      0.891      0.932      0.728\n"
     ]
    },
    {
     "name": "stderr",
     "output_type": "stream",
     "text": [
      "\n"
     ]
    },
    {
     "name": "stdout",
     "output_type": "stream",
     "text": [
      "\n",
      "      Epoch    GPU_mem   box_loss   cls_loss   dfl_loss  Instances       Size\n"
     ]
    },
    {
     "name": "stderr",
     "output_type": "stream",
     "text": [
      "      15/50         0G     0.6444       0.95     0.9872         28        640: 100%|██████████| 5/5 [00:50<00:00, 10.07\n",
      "                 Class     Images  Instances      Box(P          R      mAP50  mAP50-95): 100%|██████████| 3/3 [00:17<0"
     ]
    },
    {
     "name": "stdout",
     "output_type": "stream",
     "text": [
      "                   all         75         75       0.89      0.889      0.941      0.687\n"
     ]
    },
    {
     "name": "stderr",
     "output_type": "stream",
     "text": [
      "\n"
     ]
    },
    {
     "name": "stdout",
     "output_type": "stream",
     "text": [
      "\n",
      "      Epoch    GPU_mem   box_loss   cls_loss   dfl_loss  Instances       Size\n"
     ]
    },
    {
     "name": "stderr",
     "output_type": "stream",
     "text": [
      "      16/50         0G     0.5743     0.8673      0.974         23        640: 100%|██████████| 5/5 [00:50<00:00, 10.04\n",
      "                 Class     Images  Instances      Box(P          R      mAP50  mAP50-95): 100%|██████████| 3/3 [00:17<0"
     ]
    },
    {
     "name": "stdout",
     "output_type": "stream",
     "text": [
      "                   all         75         75      0.906      0.892      0.944       0.73\n"
     ]
    },
    {
     "name": "stderr",
     "output_type": "stream",
     "text": [
      "\n"
     ]
    },
    {
     "name": "stdout",
     "output_type": "stream",
     "text": [
      "\n",
      "      Epoch    GPU_mem   box_loss   cls_loss   dfl_loss  Instances       Size\n"
     ]
    },
    {
     "name": "stderr",
     "output_type": "stream",
     "text": [
      "      17/50         0G     0.6224     0.8595      1.023         25        640: 100%|██████████| 5/5 [00:50<00:00, 10.08\n",
      "                 Class     Images  Instances      Box(P          R      mAP50  mAP50-95): 100%|██████████| 3/3 [00:17<0"
     ]
    },
    {
     "name": "stdout",
     "output_type": "stream",
     "text": [
      "                   all         75         75      0.923      0.957      0.967      0.793\n"
     ]
    },
    {
     "name": "stderr",
     "output_type": "stream",
     "text": [
      "\n"
     ]
    },
    {
     "name": "stdout",
     "output_type": "stream",
     "text": [
      "\n",
      "      Epoch    GPU_mem   box_loss   cls_loss   dfl_loss  Instances       Size\n"
     ]
    },
    {
     "name": "stderr",
     "output_type": "stream",
     "text": [
      "      18/50         0G     0.6155     0.8543      1.032         26        640: 100%|██████████| 5/5 [00:50<00:00, 10.03\n",
      "                 Class     Images  Instances      Box(P          R      mAP50  mAP50-95): 100%|██████████| 3/3 [00:17<0"
     ]
    },
    {
     "name": "stdout",
     "output_type": "stream",
     "text": [
      "                   all         75         75      0.929      0.975      0.977      0.817\n"
     ]
    },
    {
     "name": "stderr",
     "output_type": "stream",
     "text": [
      "\n"
     ]
    },
    {
     "name": "stdout",
     "output_type": "stream",
     "text": [
      "\n",
      "      Epoch    GPU_mem   box_loss   cls_loss   dfl_loss  Instances       Size\n"
     ]
    },
    {
     "name": "stderr",
     "output_type": "stream",
     "text": [
      "      19/50         0G     0.6569     0.8736      1.056         30        640: 100%|██████████| 5/5 [00:50<00:00, 10.06\n",
      "                 Class     Images  Instances      Box(P          R      mAP50  mAP50-95): 100%|██████████| 3/3 [00:17<0"
     ]
    },
    {
     "name": "stdout",
     "output_type": "stream",
     "text": [
      "                   all         75         75      0.983      0.981      0.986      0.835\n"
     ]
    },
    {
     "name": "stderr",
     "output_type": "stream",
     "text": [
      "\n"
     ]
    },
    {
     "name": "stdout",
     "output_type": "stream",
     "text": [
      "\n",
      "      Epoch    GPU_mem   box_loss   cls_loss   dfl_loss  Instances       Size\n"
     ]
    },
    {
     "name": "stderr",
     "output_type": "stream",
     "text": [
      "      20/50         0G     0.6154     0.7684      1.005         30        640: 100%|██████████| 5/5 [00:50<00:00, 10.09\n",
      "                 Class     Images  Instances      Box(P          R      mAP50  mAP50-95): 100%|██████████| 3/3 [00:17<0"
     ]
    },
    {
     "name": "stdout",
     "output_type": "stream",
     "text": [
      "                   all         75         75      0.986      0.981      0.991      0.817\n"
     ]
    },
    {
     "name": "stderr",
     "output_type": "stream",
     "text": [
      "\n"
     ]
    },
    {
     "name": "stdout",
     "output_type": "stream",
     "text": [
      "\n",
      "      Epoch    GPU_mem   box_loss   cls_loss   dfl_loss  Instances       Size\n"
     ]
    },
    {
     "name": "stderr",
     "output_type": "stream",
     "text": [
      "      21/50         0G     0.6584     0.7702      1.051         26        640: 100%|██████████| 5/5 [00:50<00:00, 10.01\n",
      "                 Class     Images  Instances      Box(P          R      mAP50  mAP50-95): 100%|██████████| 3/3 [00:17<0"
     ]
    },
    {
     "name": "stdout",
     "output_type": "stream",
     "text": [
      "                   all         75         75      0.983      0.967       0.99       0.82\n"
     ]
    },
    {
     "name": "stderr",
     "output_type": "stream",
     "text": [
      "\n"
     ]
    },
    {
     "name": "stdout",
     "output_type": "stream",
     "text": [
      "\n",
      "      Epoch    GPU_mem   box_loss   cls_loss   dfl_loss  Instances       Size\n"
     ]
    },
    {
     "name": "stderr",
     "output_type": "stream",
     "text": [
      "      22/50         0G      0.569     0.6875      0.986         30        640: 100%|██████████| 5/5 [00:50<00:00, 10.06\n",
      "                 Class     Images  Instances      Box(P          R      mAP50  mAP50-95): 100%|██████████| 3/3 [00:17<0"
     ]
    },
    {
     "name": "stdout",
     "output_type": "stream",
     "text": [
      "                   all         75         75      0.966      0.978      0.992      0.844\n"
     ]
    },
    {
     "name": "stderr",
     "output_type": "stream",
     "text": [
      "\n"
     ]
    },
    {
     "name": "stdout",
     "output_type": "stream",
     "text": [
      "\n",
      "      Epoch    GPU_mem   box_loss   cls_loss   dfl_loss  Instances       Size\n"
     ]
    },
    {
     "name": "stderr",
     "output_type": "stream",
     "text": [
      "      23/50         0G     0.5879      0.686     0.9782         30        640: 100%|██████████| 5/5 [00:50<00:00, 10.07\n",
      "                 Class     Images  Instances      Box(P          R      mAP50  mAP50-95): 100%|██████████| 3/3 [00:17<0"
     ]
    },
    {
     "name": "stdout",
     "output_type": "stream",
     "text": [
      "                   all         75         75      0.974      0.965      0.992      0.834\n"
     ]
    },
    {
     "name": "stderr",
     "output_type": "stream",
     "text": [
      "\n"
     ]
    },
    {
     "name": "stdout",
     "output_type": "stream",
     "text": [
      "\n",
      "      Epoch    GPU_mem   box_loss   cls_loss   dfl_loss  Instances       Size\n"
     ]
    },
    {
     "name": "stderr",
     "output_type": "stream",
     "text": [
      "      24/50         0G     0.6241     0.7231      1.016         35        640: 100%|██████████| 5/5 [00:50<00:00, 10.05\n",
      "                 Class     Images  Instances      Box(P          R      mAP50  mAP50-95): 100%|██████████| 3/3 [00:17<0"
     ]
    },
    {
     "name": "stdout",
     "output_type": "stream",
     "text": [
      "                   all         75         75       0.97      0.988      0.994      0.856\n"
     ]
    },
    {
     "name": "stderr",
     "output_type": "stream",
     "text": [
      "\n"
     ]
    },
    {
     "name": "stdout",
     "output_type": "stream",
     "text": [
      "\n",
      "      Epoch    GPU_mem   box_loss   cls_loss   dfl_loss  Instances       Size\n"
     ]
    },
    {
     "name": "stderr",
     "output_type": "stream",
     "text": [
      "      25/50         0G     0.5302     0.6398     0.9782         28        640: 100%|██████████| 5/5 [00:50<00:00, 10.06\n",
      "                 Class     Images  Instances      Box(P          R      mAP50  mAP50-95): 100%|██████████| 3/3 [00:17<0"
     ]
    },
    {
     "name": "stdout",
     "output_type": "stream",
     "text": [
      "                   all         75         75      0.952          1      0.994       0.85\n"
     ]
    },
    {
     "name": "stderr",
     "output_type": "stream",
     "text": [
      "\n"
     ]
    },
    {
     "name": "stdout",
     "output_type": "stream",
     "text": [
      "\n",
      "      Epoch    GPU_mem   box_loss   cls_loss   dfl_loss  Instances       Size\n"
     ]
    },
    {
     "name": "stderr",
     "output_type": "stream",
     "text": [
      "      26/50         0G     0.5783     0.6887     0.9788         36        640: 100%|██████████| 5/5 [00:50<00:00, 10.04\n",
      "                 Class     Images  Instances      Box(P          R      mAP50  mAP50-95): 100%|██████████| 3/3 [00:17<0"
     ]
    },
    {
     "name": "stdout",
     "output_type": "stream",
     "text": [
      "                   all         75         75      0.974      0.977      0.993      0.862\n"
     ]
    },
    {
     "name": "stderr",
     "output_type": "stream",
     "text": [
      "\n"
     ]
    },
    {
     "name": "stdout",
     "output_type": "stream",
     "text": [
      "\n",
      "      Epoch    GPU_mem   box_loss   cls_loss   dfl_loss  Instances       Size\n"
     ]
    },
    {
     "name": "stderr",
     "output_type": "stream",
     "text": [
      "      27/50         0G     0.6432     0.7442      1.014         23        640: 100%|██████████| 5/5 [00:50<00:00, 10.03\n",
      "                 Class     Images  Instances      Box(P          R      mAP50  mAP50-95): 100%|██████████| 3/3 [00:17<0"
     ]
    },
    {
     "name": "stdout",
     "output_type": "stream",
     "text": [
      "                   all         75         75      0.988      0.979      0.995      0.868\n"
     ]
    },
    {
     "name": "stderr",
     "output_type": "stream",
     "text": [
      "\n"
     ]
    },
    {
     "name": "stdout",
     "output_type": "stream",
     "text": [
      "\n",
      "      Epoch    GPU_mem   box_loss   cls_loss   dfl_loss  Instances       Size\n"
     ]
    },
    {
     "name": "stderr",
     "output_type": "stream",
     "text": [
      "      28/50         0G     0.5658     0.6517     0.9792         29        640: 100%|██████████| 5/5 [00:50<00:00, 10.07\n",
      "                 Class     Images  Instances      Box(P          R      mAP50  mAP50-95): 100%|██████████| 3/3 [00:17<0"
     ]
    },
    {
     "name": "stdout",
     "output_type": "stream",
     "text": [
      "                   all         75         75      0.965      0.995      0.995      0.871\n"
     ]
    },
    {
     "name": "stderr",
     "output_type": "stream",
     "text": [
      "\n"
     ]
    },
    {
     "name": "stdout",
     "output_type": "stream",
     "text": [
      "\n",
      "      Epoch    GPU_mem   box_loss   cls_loss   dfl_loss  Instances       Size\n"
     ]
    },
    {
     "name": "stderr",
     "output_type": "stream",
     "text": [
      "      29/50         0G     0.5502     0.6514     0.9957         25        640: 100%|██████████| 5/5 [00:50<00:00, 10.04\n",
      "                 Class     Images  Instances      Box(P          R      mAP50  mAP50-95): 100%|██████████| 3/3 [00:17<0"
     ]
    },
    {
     "name": "stdout",
     "output_type": "stream",
     "text": [
      "                   all         75         75      0.955      0.997      0.994      0.869\n"
     ]
    },
    {
     "name": "stderr",
     "output_type": "stream",
     "text": [
      "\n"
     ]
    },
    {
     "name": "stdout",
     "output_type": "stream",
     "text": [
      "\n",
      "      Epoch    GPU_mem   box_loss   cls_loss   dfl_loss  Instances       Size\n"
     ]
    },
    {
     "name": "stderr",
     "output_type": "stream",
     "text": [
      "      30/50         0G     0.5313     0.6524     0.9636         31        640: 100%|██████████| 5/5 [00:50<00:00, 10.00\n",
      "                 Class     Images  Instances      Box(P          R      mAP50  mAP50-95): 100%|██████████| 3/3 [00:17<0"
     ]
    },
    {
     "name": "stdout",
     "output_type": "stream",
     "text": [
      "                   all         75         75       0.95      0.998      0.994      0.854\n"
     ]
    },
    {
     "name": "stderr",
     "output_type": "stream",
     "text": [
      "\n"
     ]
    },
    {
     "name": "stdout",
     "output_type": "stream",
     "text": [
      "\n",
      "      Epoch    GPU_mem   box_loss   cls_loss   dfl_loss  Instances       Size\n"
     ]
    },
    {
     "name": "stderr",
     "output_type": "stream",
     "text": [
      "      31/50         0G     0.5141     0.6018     0.9813         30        640: 100%|██████████| 5/5 [00:50<00:00, 10.14\n",
      "                 Class     Images  Instances      Box(P          R      mAP50  mAP50-95): 100%|██████████| 3/3 [00:17<0"
     ]
    },
    {
     "name": "stdout",
     "output_type": "stream",
     "text": [
      "                   all         75         75      0.949      0.996      0.993      0.845\n"
     ]
    },
    {
     "name": "stderr",
     "output_type": "stream",
     "text": [
      "\n"
     ]
    },
    {
     "name": "stdout",
     "output_type": "stream",
     "text": [
      "\n",
      "      Epoch    GPU_mem   box_loss   cls_loss   dfl_loss  Instances       Size\n"
     ]
    },
    {
     "name": "stderr",
     "output_type": "stream",
     "text": [
      "      32/50         0G     0.5781     0.7206      1.003         30        640: 100%|██████████| 5/5 [00:50<00:00, 10.05\n",
      "                 Class     Images  Instances      Box(P          R      mAP50  mAP50-95): 100%|██████████| 3/3 [00:17<0"
     ]
    },
    {
     "name": "stdout",
     "output_type": "stream",
     "text": [
      "                   all         75         75      0.944      0.983      0.992      0.835\n"
     ]
    },
    {
     "name": "stderr",
     "output_type": "stream",
     "text": [
      "\n"
     ]
    },
    {
     "name": "stdout",
     "output_type": "stream",
     "text": [
      "\n",
      "      Epoch    GPU_mem   box_loss   cls_loss   dfl_loss  Instances       Size\n"
     ]
    },
    {
     "name": "stderr",
     "output_type": "stream",
     "text": [
      "      33/50         0G     0.5508     0.6439     0.9714         33        640: 100%|██████████| 5/5 [00:50<00:00, 10.03\n",
      "                 Class     Images  Instances      Box(P          R      mAP50  mAP50-95): 100%|██████████| 3/3 [00:17<0"
     ]
    },
    {
     "name": "stdout",
     "output_type": "stream",
     "text": [
      "                   all         75         75      0.937      0.993      0.992      0.843\n"
     ]
    },
    {
     "name": "stderr",
     "output_type": "stream",
     "text": [
      "\n"
     ]
    },
    {
     "name": "stdout",
     "output_type": "stream",
     "text": [
      "\n",
      "      Epoch    GPU_mem   box_loss   cls_loss   dfl_loss  Instances       Size\n"
     ]
    },
    {
     "name": "stderr",
     "output_type": "stream",
     "text": [
      "      34/50         0G     0.5527     0.6555     0.9579         26        640: 100%|██████████| 5/5 [00:50<00:00, 10.01\n",
      "                 Class     Images  Instances      Box(P          R      mAP50  mAP50-95): 100%|██████████| 3/3 [00:17<0"
     ]
    },
    {
     "name": "stdout",
     "output_type": "stream",
     "text": [
      "                   all         75         75      0.949      0.985      0.993      0.848\n"
     ]
    },
    {
     "name": "stderr",
     "output_type": "stream",
     "text": [
      "\n"
     ]
    },
    {
     "name": "stdout",
     "output_type": "stream",
     "text": [
      "\n",
      "      Epoch    GPU_mem   box_loss   cls_loss   dfl_loss  Instances       Size\n"
     ]
    },
    {
     "name": "stderr",
     "output_type": "stream",
     "text": [
      "      35/50         0G     0.5021     0.6152     0.9748         28        640: 100%|██████████| 5/5 [00:49<00:00,  9.98\n",
      "                 Class     Images  Instances      Box(P          R      mAP50  mAP50-95): 100%|██████████| 3/3 [00:17<0"
     ]
    },
    {
     "name": "stdout",
     "output_type": "stream",
     "text": [
      "                   all         75         75      0.972      0.985      0.994      0.859\n"
     ]
    },
    {
     "name": "stderr",
     "output_type": "stream",
     "text": [
      "\n"
     ]
    },
    {
     "name": "stdout",
     "output_type": "stream",
     "text": [
      "\n",
      "      Epoch    GPU_mem   box_loss   cls_loss   dfl_loss  Instances       Size\n"
     ]
    },
    {
     "name": "stderr",
     "output_type": "stream",
     "text": [
      "      36/50         0G     0.5113     0.5731     0.9344         32        640: 100%|██████████| 5/5 [00:50<00:00, 10.10\n",
      "                 Class     Images  Instances      Box(P          R      mAP50  mAP50-95): 100%|██████████| 3/3 [00:17<0"
     ]
    },
    {
     "name": "stdout",
     "output_type": "stream",
     "text": [
      "                   all         75         75      0.977       0.99      0.994      0.863\n"
     ]
    },
    {
     "name": "stderr",
     "output_type": "stream",
     "text": [
      "\n"
     ]
    },
    {
     "name": "stdout",
     "output_type": "stream",
     "text": [
      "\n",
      "      Epoch    GPU_mem   box_loss   cls_loss   dfl_loss  Instances       Size\n"
     ]
    },
    {
     "name": "stderr",
     "output_type": "stream",
     "text": [
      "      37/50         0G     0.4973     0.6211     0.9348         31        640: 100%|██████████| 5/5 [00:50<00:00, 10.11\n",
      "                 Class     Images  Instances      Box(P          R      mAP50  mAP50-95): 100%|██████████| 3/3 [00:17<0"
     ]
    },
    {
     "name": "stdout",
     "output_type": "stream",
     "text": [
      "                   all         75         75      0.997      0.995      0.995       0.86\n"
     ]
    },
    {
     "name": "stderr",
     "output_type": "stream",
     "text": [
      "\n"
     ]
    },
    {
     "name": "stdout",
     "output_type": "stream",
     "text": [
      "\n",
      "      Epoch    GPU_mem   box_loss   cls_loss   dfl_loss  Instances       Size\n"
     ]
    },
    {
     "name": "stderr",
     "output_type": "stream",
     "text": [
      "      38/50         0G     0.4661     0.5629     0.9323         33        640: 100%|██████████| 5/5 [00:50<00:00, 10.10\n",
      "                 Class     Images  Instances      Box(P          R      mAP50  mAP50-95): 100%|██████████| 3/3 [00:17<0"
     ]
    },
    {
     "name": "stdout",
     "output_type": "stream",
     "text": [
      "                   all         75         75      0.989      0.994      0.995      0.859\n"
     ]
    },
    {
     "name": "stderr",
     "output_type": "stream",
     "text": [
      "\n"
     ]
    },
    {
     "name": "stdout",
     "output_type": "stream",
     "text": [
      "\n",
      "      Epoch    GPU_mem   box_loss   cls_loss   dfl_loss  Instances       Size\n"
     ]
    },
    {
     "name": "stderr",
     "output_type": "stream",
     "text": [
      "      39/50         0G     0.5634     0.6014      1.003         27        640: 100%|██████████| 5/5 [00:50<00:00, 10.06\n",
      "                 Class     Images  Instances      Box(P          R      mAP50  mAP50-95): 100%|██████████| 3/3 [00:17<0"
     ]
    },
    {
     "name": "stdout",
     "output_type": "stream",
     "text": [
      "                   all         75         75      0.981      0.995      0.995      0.861\n"
     ]
    },
    {
     "name": "stderr",
     "output_type": "stream",
     "text": [
      "\n"
     ]
    },
    {
     "name": "stdout",
     "output_type": "stream",
     "text": [
      "\n",
      "      Epoch    GPU_mem   box_loss   cls_loss   dfl_loss  Instances       Size\n"
     ]
    },
    {
     "name": "stderr",
     "output_type": "stream",
     "text": [
      "      40/50         0G     0.4787     0.5429     0.9241         32        640: 100%|██████████| 5/5 [00:50<00:00, 10.13\n",
      "                 Class     Images  Instances      Box(P          R      mAP50  mAP50-95): 100%|██████████| 3/3 [00:17<0"
     ]
    },
    {
     "name": "stdout",
     "output_type": "stream",
     "text": [
      "                   all         75         75       0.94      0.998      0.994      0.857\n"
     ]
    },
    {
     "name": "stderr",
     "output_type": "stream",
     "text": [
      "\n"
     ]
    },
    {
     "name": "stdout",
     "output_type": "stream",
     "text": [
      "Closing dataloader mosaic\n",
      "\n",
      "      Epoch    GPU_mem   box_loss   cls_loss   dfl_loss  Instances       Size\n"
     ]
    },
    {
     "name": "stderr",
     "output_type": "stream",
     "text": [
      "      41/50         0G     0.3984     0.5905     0.8589         14        640: 100%|██████████| 5/5 [00:50<00:00, 10.09\n",
      "                 Class     Images  Instances      Box(P          R      mAP50  mAP50-95): 100%|██████████| 3/3 [00:17<0"
     ]
    },
    {
     "name": "stdout",
     "output_type": "stream",
     "text": [
      "                   all         75         75      0.939      0.997      0.994      0.873\n"
     ]
    },
    {
     "name": "stderr",
     "output_type": "stream",
     "text": [
      "\n"
     ]
    },
    {
     "name": "stdout",
     "output_type": "stream",
     "text": [
      "\n",
      "      Epoch    GPU_mem   box_loss   cls_loss   dfl_loss  Instances       Size\n"
     ]
    },
    {
     "name": "stderr",
     "output_type": "stream",
     "text": [
      "      42/50         0G     0.4305     0.6271     0.9141         14        640: 100%|██████████| 5/5 [00:49<00:00,  9.95\n",
      "                 Class     Images  Instances      Box(P          R      mAP50  mAP50-95): 100%|██████████| 3/3 [00:17<0"
     ]
    },
    {
     "name": "stdout",
     "output_type": "stream",
     "text": [
      "                   all         75         75      0.939      0.997      0.995      0.883\n"
     ]
    },
    {
     "name": "stderr",
     "output_type": "stream",
     "text": [
      "\n"
     ]
    },
    {
     "name": "stdout",
     "output_type": "stream",
     "text": [
      "\n",
      "      Epoch    GPU_mem   box_loss   cls_loss   dfl_loss  Instances       Size\n"
     ]
    },
    {
     "name": "stderr",
     "output_type": "stream",
     "text": [
      "      43/50         0G     0.3476     0.5483     0.8718         13        640: 100%|██████████| 5/5 [00:50<00:00, 10.02\n",
      "                 Class     Images  Instances      Box(P          R      mAP50  mAP50-95): 100%|██████████| 3/3 [00:17<0"
     ]
    },
    {
     "name": "stdout",
     "output_type": "stream",
     "text": [
      "                   all         75         75      0.947      0.999      0.995       0.88\n"
     ]
    },
    {
     "name": "stderr",
     "output_type": "stream",
     "text": [
      "\n"
     ]
    },
    {
     "name": "stdout",
     "output_type": "stream",
     "text": [
      "\n",
      "      Epoch    GPU_mem   box_loss   cls_loss   dfl_loss  Instances       Size\n"
     ]
    },
    {
     "name": "stderr",
     "output_type": "stream",
     "text": [
      "      44/50         0G     0.3548     0.5461     0.8745         14        640: 100%|██████████| 5/5 [00:50<00:00, 10.04\n",
      "                 Class     Images  Instances      Box(P          R      mAP50  mAP50-95): 100%|██████████| 3/3 [00:17<0"
     ]
    },
    {
     "name": "stdout",
     "output_type": "stream",
     "text": [
      "                   all         75         75      0.983          1      0.995      0.858\n"
     ]
    },
    {
     "name": "stderr",
     "output_type": "stream",
     "text": [
      "\n"
     ]
    },
    {
     "name": "stdout",
     "output_type": "stream",
     "text": [
      "\n",
      "      Epoch    GPU_mem   box_loss   cls_loss   dfl_loss  Instances       Size\n"
     ]
    },
    {
     "name": "stderr",
     "output_type": "stream",
     "text": [
      "      45/50         0G     0.3799     0.5374     0.8523         14        640: 100%|██████████| 5/5 [00:50<00:00, 10.04\n",
      "                 Class     Images  Instances      Box(P          R      mAP50  mAP50-95): 100%|██████████| 3/3 [00:17<0"
     ]
    },
    {
     "name": "stdout",
     "output_type": "stream",
     "text": [
      "                   all         75         75      0.994          1      0.995      0.861\n"
     ]
    },
    {
     "name": "stderr",
     "output_type": "stream",
     "text": [
      "\n"
     ]
    },
    {
     "name": "stdout",
     "output_type": "stream",
     "text": [
      "\n",
      "      Epoch    GPU_mem   box_loss   cls_loss   dfl_loss  Instances       Size\n"
     ]
    },
    {
     "name": "stderr",
     "output_type": "stream",
     "text": [
      "      46/50         0G     0.3895      0.582     0.8801         14        640: 100%|██████████| 5/5 [00:49<00:00,  9.96\n",
      "                 Class     Images  Instances      Box(P          R      mAP50  mAP50-95): 100%|██████████| 3/3 [00:17<0"
     ]
    },
    {
     "name": "stdout",
     "output_type": "stream",
     "text": [
      "                   all         75         75      0.997          1      0.995       0.86\n"
     ]
    },
    {
     "name": "stderr",
     "output_type": "stream",
     "text": [
      "\n"
     ]
    },
    {
     "name": "stdout",
     "output_type": "stream",
     "text": [
      "\n",
      "      Epoch    GPU_mem   box_loss   cls_loss   dfl_loss  Instances       Size\n"
     ]
    },
    {
     "name": "stderr",
     "output_type": "stream",
     "text": [
      "      47/50         0G     0.3774     0.5507     0.8873         14        640: 100%|██████████| 5/5 [00:49<00:00,  9.96\n",
      "                 Class     Images  Instances      Box(P          R      mAP50  mAP50-95): 100%|██████████| 3/3 [00:17<0"
     ]
    },
    {
     "name": "stdout",
     "output_type": "stream",
     "text": [
      "                   all         75         75      0.998          1      0.995      0.862\n"
     ]
    },
    {
     "name": "stderr",
     "output_type": "stream",
     "text": [
      "\n"
     ]
    },
    {
     "name": "stdout",
     "output_type": "stream",
     "text": [
      "\n",
      "      Epoch    GPU_mem   box_loss   cls_loss   dfl_loss  Instances       Size\n"
     ]
    },
    {
     "name": "stderr",
     "output_type": "stream",
     "text": [
      "      48/50         0G     0.3356     0.5203     0.8474         13        640: 100%|██████████| 5/5 [00:49<00:00, 10.00\n",
      "                 Class     Images  Instances      Box(P          R      mAP50  mAP50-95): 100%|██████████| 3/3 [00:17<0"
     ]
    },
    {
     "name": "stdout",
     "output_type": "stream",
     "text": [
      "                   all         75         75      0.998          1      0.995      0.864\n"
     ]
    },
    {
     "name": "stderr",
     "output_type": "stream",
     "text": [
      "\n"
     ]
    },
    {
     "name": "stdout",
     "output_type": "stream",
     "text": [
      "\n",
      "      Epoch    GPU_mem   box_loss   cls_loss   dfl_loss  Instances       Size\n"
     ]
    },
    {
     "name": "stderr",
     "output_type": "stream",
     "text": [
      "      49/50         0G      0.318     0.5444     0.8584         14        640: 100%|██████████| 5/5 [00:50<00:00, 10.01\n",
      "                 Class     Images  Instances      Box(P          R      mAP50  mAP50-95): 100%|██████████| 3/3 [00:17<0"
     ]
    },
    {
     "name": "stdout",
     "output_type": "stream",
     "text": [
      "                   all         75         75      0.998          1      0.995      0.865\n"
     ]
    },
    {
     "name": "stderr",
     "output_type": "stream",
     "text": [
      "\n"
     ]
    },
    {
     "name": "stdout",
     "output_type": "stream",
     "text": [
      "\n",
      "      Epoch    GPU_mem   box_loss   cls_loss   dfl_loss  Instances       Size\n"
     ]
    },
    {
     "name": "stderr",
     "output_type": "stream",
     "text": [
      "      50/50         0G     0.3364     0.5218     0.8578         14        640: 100%|██████████| 5/5 [00:49<00:00,  9.97\n",
      "                 Class     Images  Instances      Box(P          R      mAP50  mAP50-95): 100%|██████████| 3/3 [00:17<0"
     ]
    },
    {
     "name": "stdout",
     "output_type": "stream",
     "text": [
      "                   all         75         75      0.998          1      0.995      0.869\n"
     ]
    },
    {
     "name": "stderr",
     "output_type": "stream",
     "text": [
      "\n"
     ]
    },
    {
     "name": "stdout",
     "output_type": "stream",
     "text": [
      "\n",
      "50 epochs completed in 0.953 hours.\n",
      "Optimizer stripped from runs\\detect\\train4\\weights\\last.pt, 19.2MB\n",
      "Optimizer stripped from runs\\detect\\train4\\weights\\best.pt, 19.2MB\n",
      "\n",
      "Validating runs\\detect\\train4\\weights\\best.pt...\n",
      "Ultralytics 8.3.57  Python-3.10.10 torch-2.5.1+cu118 CPU (AMD Ryzen 5 PRO 4650U with Radeon Graphics)\n",
      "YOLO11s summary (fused): 238 layers, 9,413,574 parameters, 0 gradients, 21.3 GFLOPs\n"
     ]
    },
    {
     "name": "stderr",
     "output_type": "stream",
     "text": [
      "                 Class     Images  Instances      Box(P          R      mAP50  mAP50-95): 100%|██████████| 3/3 [00:15<0\n"
     ]
    },
    {
     "name": "stdout",
     "output_type": "stream",
     "text": [
      "                   all         75         75      0.938      0.997      0.995      0.883\n",
      "                 awake         49         49      0.877          1      0.995      0.868\n",
      "                drowsy         26         26          1      0.995      0.995      0.899\n",
      "Speed: 2.6ms preprocess, 191.8ms inference, 0.0ms loss, 1.8ms postprocess per image\n",
      "Results saved to \u001b[1mruns\\detect\\train4\u001b[0m\n"
     ]
    },
    {
     "data": {
      "text/plain": [
       "ultralytics.utils.metrics.DetMetrics object with attributes:\n",
       "\n",
       "ap_class_index: array([0, 1])\n",
       "box: ultralytics.utils.metrics.Metric object\n",
       "confusion_matrix: <ultralytics.utils.metrics.ConfusionMatrix object at 0x000002209B535BD0>\n",
       "curves: ['Precision-Recall(B)', 'F1-Confidence(B)', 'Precision-Confidence(B)', 'Recall-Confidence(B)']\n",
       "curves_results: [[array([          0,    0.001001,    0.002002,    0.003003,    0.004004,    0.005005,    0.006006,    0.007007,    0.008008,    0.009009,     0.01001,    0.011011,    0.012012,    0.013013,    0.014014,    0.015015,    0.016016,    0.017017,    0.018018,    0.019019,     0.02002,    0.021021,    0.022022,    0.023023,\n",
       "          0.024024,    0.025025,    0.026026,    0.027027,    0.028028,    0.029029,     0.03003,    0.031031,    0.032032,    0.033033,    0.034034,    0.035035,    0.036036,    0.037037,    0.038038,    0.039039,     0.04004,    0.041041,    0.042042,    0.043043,    0.044044,    0.045045,    0.046046,    0.047047,\n",
       "          0.048048,    0.049049,     0.05005,    0.051051,    0.052052,    0.053053,    0.054054,    0.055055,    0.056056,    0.057057,    0.058058,    0.059059,     0.06006,    0.061061,    0.062062,    0.063063,    0.064064,    0.065065,    0.066066,    0.067067,    0.068068,    0.069069,     0.07007,    0.071071,\n",
       "          0.072072,    0.073073,    0.074074,    0.075075,    0.076076,    0.077077,    0.078078,    0.079079,     0.08008,    0.081081,    0.082082,    0.083083,    0.084084,    0.085085,    0.086086,    0.087087,    0.088088,    0.089089,     0.09009,    0.091091,    0.092092,    0.093093,    0.094094,    0.095095,\n",
       "          0.096096,    0.097097,    0.098098,    0.099099,      0.1001,      0.1011,      0.1021,      0.1031,      0.1041,     0.10511,     0.10611,     0.10711,     0.10811,     0.10911,     0.11011,     0.11111,     0.11211,     0.11311,     0.11411,     0.11512,     0.11612,     0.11712,     0.11812,     0.11912,\n",
       "           0.12012,     0.12112,     0.12212,     0.12312,     0.12412,     0.12513,     0.12613,     0.12713,     0.12813,     0.12913,     0.13013,     0.13113,     0.13213,     0.13313,     0.13413,     0.13514,     0.13614,     0.13714,     0.13814,     0.13914,     0.14014,     0.14114,     0.14214,     0.14314,\n",
       "           0.14414,     0.14515,     0.14615,     0.14715,     0.14815,     0.14915,     0.15015,     0.15115,     0.15215,     0.15315,     0.15415,     0.15516,     0.15616,     0.15716,     0.15816,     0.15916,     0.16016,     0.16116,     0.16216,     0.16316,     0.16416,     0.16517,     0.16617,     0.16717,\n",
       "           0.16817,     0.16917,     0.17017,     0.17117,     0.17217,     0.17317,     0.17417,     0.17518,     0.17618,     0.17718,     0.17818,     0.17918,     0.18018,     0.18118,     0.18218,     0.18318,     0.18418,     0.18519,     0.18619,     0.18719,     0.18819,     0.18919,     0.19019,     0.19119,\n",
       "           0.19219,     0.19319,     0.19419,      0.1952,      0.1962,      0.1972,      0.1982,      0.1992,      0.2002,      0.2012,      0.2022,      0.2032,      0.2042,     0.20521,     0.20621,     0.20721,     0.20821,     0.20921,     0.21021,     0.21121,     0.21221,     0.21321,     0.21421,     0.21522,\n",
       "           0.21622,     0.21722,     0.21822,     0.21922,     0.22022,     0.22122,     0.22222,     0.22322,     0.22422,     0.22523,     0.22623,     0.22723,     0.22823,     0.22923,     0.23023,     0.23123,     0.23223,     0.23323,     0.23423,     0.23524,     0.23624,     0.23724,     0.23824,     0.23924,\n",
       "           0.24024,     0.24124,     0.24224,     0.24324,     0.24424,     0.24525,     0.24625,     0.24725,     0.24825,     0.24925,     0.25025,     0.25125,     0.25225,     0.25325,     0.25425,     0.25526,     0.25626,     0.25726,     0.25826,     0.25926,     0.26026,     0.26126,     0.26226,     0.26326,\n",
       "           0.26426,     0.26527,     0.26627,     0.26727,     0.26827,     0.26927,     0.27027,     0.27127,     0.27227,     0.27327,     0.27427,     0.27528,     0.27628,     0.27728,     0.27828,     0.27928,     0.28028,     0.28128,     0.28228,     0.28328,     0.28428,     0.28529,     0.28629,     0.28729,\n",
       "           0.28829,     0.28929,     0.29029,     0.29129,     0.29229,     0.29329,     0.29429,      0.2953,      0.2963,      0.2973,      0.2983,      0.2993,      0.3003,      0.3013,      0.3023,      0.3033,      0.3043,     0.30531,     0.30631,     0.30731,     0.30831,     0.30931,     0.31031,     0.31131,\n",
       "           0.31231,     0.31331,     0.31431,     0.31532,     0.31632,     0.31732,     0.31832,     0.31932,     0.32032,     0.32132,     0.32232,     0.32332,     0.32432,     0.32533,     0.32633,     0.32733,     0.32833,     0.32933,     0.33033,     0.33133,     0.33233,     0.33333,     0.33433,     0.33534,\n",
       "           0.33634,     0.33734,     0.33834,     0.33934,     0.34034,     0.34134,     0.34234,     0.34334,     0.34434,     0.34535,     0.34635,     0.34735,     0.34835,     0.34935,     0.35035,     0.35135,     0.35235,     0.35335,     0.35435,     0.35536,     0.35636,     0.35736,     0.35836,     0.35936,\n",
       "           0.36036,     0.36136,     0.36236,     0.36336,     0.36436,     0.36537,     0.36637,     0.36737,     0.36837,     0.36937,     0.37037,     0.37137,     0.37237,     0.37337,     0.37437,     0.37538,     0.37638,     0.37738,     0.37838,     0.37938,     0.38038,     0.38138,     0.38238,     0.38338,\n",
       "           0.38438,     0.38539,     0.38639,     0.38739,     0.38839,     0.38939,     0.39039,     0.39139,     0.39239,     0.39339,     0.39439,      0.3954,      0.3964,      0.3974,      0.3984,      0.3994,      0.4004,      0.4014,      0.4024,      0.4034,      0.4044,     0.40541,     0.40641,     0.40741,\n",
       "           0.40841,     0.40941,     0.41041,     0.41141,     0.41241,     0.41341,     0.41441,     0.41542,     0.41642,     0.41742,     0.41842,     0.41942,     0.42042,     0.42142,     0.42242,     0.42342,     0.42442,     0.42543,     0.42643,     0.42743,     0.42843,     0.42943,     0.43043,     0.43143,\n",
       "           0.43243,     0.43343,     0.43443,     0.43544,     0.43644,     0.43744,     0.43844,     0.43944,     0.44044,     0.44144,     0.44244,     0.44344,     0.44444,     0.44545,     0.44645,     0.44745,     0.44845,     0.44945,     0.45045,     0.45145,     0.45245,     0.45345,     0.45445,     0.45546,\n",
       "           0.45646,     0.45746,     0.45846,     0.45946,     0.46046,     0.46146,     0.46246,     0.46346,     0.46446,     0.46547,     0.46647,     0.46747,     0.46847,     0.46947,     0.47047,     0.47147,     0.47247,     0.47347,     0.47447,     0.47548,     0.47648,     0.47748,     0.47848,     0.47948,\n",
       "           0.48048,     0.48148,     0.48248,     0.48348,     0.48448,     0.48549,     0.48649,     0.48749,     0.48849,     0.48949,     0.49049,     0.49149,     0.49249,     0.49349,     0.49449,      0.4955,      0.4965,      0.4975,      0.4985,      0.4995,      0.5005,      0.5015,      0.5025,      0.5035,\n",
       "            0.5045,     0.50551,     0.50651,     0.50751,     0.50851,     0.50951,     0.51051,     0.51151,     0.51251,     0.51351,     0.51451,     0.51552,     0.51652,     0.51752,     0.51852,     0.51952,     0.52052,     0.52152,     0.52252,     0.52352,     0.52452,     0.52553,     0.52653,     0.52753,\n",
       "           0.52853,     0.52953,     0.53053,     0.53153,     0.53253,     0.53353,     0.53453,     0.53554,     0.53654,     0.53754,     0.53854,     0.53954,     0.54054,     0.54154,     0.54254,     0.54354,     0.54454,     0.54555,     0.54655,     0.54755,     0.54855,     0.54955,     0.55055,     0.55155,\n",
       "           0.55255,     0.55355,     0.55455,     0.55556,     0.55656,     0.55756,     0.55856,     0.55956,     0.56056,     0.56156,     0.56256,     0.56356,     0.56456,     0.56557,     0.56657,     0.56757,     0.56857,     0.56957,     0.57057,     0.57157,     0.57257,     0.57357,     0.57457,     0.57558,\n",
       "           0.57658,     0.57758,     0.57858,     0.57958,     0.58058,     0.58158,     0.58258,     0.58358,     0.58458,     0.58559,     0.58659,     0.58759,     0.58859,     0.58959,     0.59059,     0.59159,     0.59259,     0.59359,     0.59459,      0.5956,      0.5966,      0.5976,      0.5986,      0.5996,\n",
       "            0.6006,      0.6016,      0.6026,      0.6036,      0.6046,     0.60561,     0.60661,     0.60761,     0.60861,     0.60961,     0.61061,     0.61161,     0.61261,     0.61361,     0.61461,     0.61562,     0.61662,     0.61762,     0.61862,     0.61962,     0.62062,     0.62162,     0.62262,     0.62362,\n",
       "           0.62462,     0.62563,     0.62663,     0.62763,     0.62863,     0.62963,     0.63063,     0.63163,     0.63263,     0.63363,     0.63463,     0.63564,     0.63664,     0.63764,     0.63864,     0.63964,     0.64064,     0.64164,     0.64264,     0.64364,     0.64464,     0.64565,     0.64665,     0.64765,\n",
       "           0.64865,     0.64965,     0.65065,     0.65165,     0.65265,     0.65365,     0.65465,     0.65566,     0.65666,     0.65766,     0.65866,     0.65966,     0.66066,     0.66166,     0.66266,     0.66366,     0.66466,     0.66567,     0.66667,     0.66767,     0.66867,     0.66967,     0.67067,     0.67167,\n",
       "           0.67267,     0.67367,     0.67467,     0.67568,     0.67668,     0.67768,     0.67868,     0.67968,     0.68068,     0.68168,     0.68268,     0.68368,     0.68468,     0.68569,     0.68669,     0.68769,     0.68869,     0.68969,     0.69069,     0.69169,     0.69269,     0.69369,     0.69469,      0.6957,\n",
       "            0.6967,      0.6977,      0.6987,      0.6997,      0.7007,      0.7017,      0.7027,      0.7037,      0.7047,     0.70571,     0.70671,     0.70771,     0.70871,     0.70971,     0.71071,     0.71171,     0.71271,     0.71371,     0.71471,     0.71572,     0.71672,     0.71772,     0.71872,     0.71972,\n",
       "           0.72072,     0.72172,     0.72272,     0.72372,     0.72472,     0.72573,     0.72673,     0.72773,     0.72873,     0.72973,     0.73073,     0.73173,     0.73273,     0.73373,     0.73473,     0.73574,     0.73674,     0.73774,     0.73874,     0.73974,     0.74074,     0.74174,     0.74274,     0.74374,\n",
       "           0.74474,     0.74575,     0.74675,     0.74775,     0.74875,     0.74975,     0.75075,     0.75175,     0.75275,     0.75375,     0.75475,     0.75576,     0.75676,     0.75776,     0.75876,     0.75976,     0.76076,     0.76176,     0.76276,     0.76376,     0.76476,     0.76577,     0.76677,     0.76777,\n",
       "           0.76877,     0.76977,     0.77077,     0.77177,     0.77277,     0.77377,     0.77477,     0.77578,     0.77678,     0.77778,     0.77878,     0.77978,     0.78078,     0.78178,     0.78278,     0.78378,     0.78478,     0.78579,     0.78679,     0.78779,     0.78879,     0.78979,     0.79079,     0.79179,\n",
       "           0.79279,     0.79379,     0.79479,      0.7958,      0.7968,      0.7978,      0.7988,      0.7998,      0.8008,      0.8018,      0.8028,      0.8038,      0.8048,     0.80581,     0.80681,     0.80781,     0.80881,     0.80981,     0.81081,     0.81181,     0.81281,     0.81381,     0.81481,     0.81582,\n",
       "           0.81682,     0.81782,     0.81882,     0.81982,     0.82082,     0.82182,     0.82282,     0.82382,     0.82482,     0.82583,     0.82683,     0.82783,     0.82883,     0.82983,     0.83083,     0.83183,     0.83283,     0.83383,     0.83483,     0.83584,     0.83684,     0.83784,     0.83884,     0.83984,\n",
       "           0.84084,     0.84184,     0.84284,     0.84384,     0.84484,     0.84585,     0.84685,     0.84785,     0.84885,     0.84985,     0.85085,     0.85185,     0.85285,     0.85385,     0.85485,     0.85586,     0.85686,     0.85786,     0.85886,     0.85986,     0.86086,     0.86186,     0.86286,     0.86386,\n",
       "           0.86486,     0.86587,     0.86687,     0.86787,     0.86887,     0.86987,     0.87087,     0.87187,     0.87287,     0.87387,     0.87487,     0.87588,     0.87688,     0.87788,     0.87888,     0.87988,     0.88088,     0.88188,     0.88288,     0.88388,     0.88488,     0.88589,     0.88689,     0.88789,\n",
       "           0.88889,     0.88989,     0.89089,     0.89189,     0.89289,     0.89389,     0.89489,      0.8959,      0.8969,      0.8979,      0.8989,      0.8999,      0.9009,      0.9019,      0.9029,      0.9039,      0.9049,     0.90591,     0.90691,     0.90791,     0.90891,     0.90991,     0.91091,     0.91191,\n",
       "           0.91291,     0.91391,     0.91491,     0.91592,     0.91692,     0.91792,     0.91892,     0.91992,     0.92092,     0.92192,     0.92292,     0.92392,     0.92492,     0.92593,     0.92693,     0.92793,     0.92893,     0.92993,     0.93093,     0.93193,     0.93293,     0.93393,     0.93493,     0.93594,\n",
       "           0.93694,     0.93794,     0.93894,     0.93994,     0.94094,     0.94194,     0.94294,     0.94394,     0.94494,     0.94595,     0.94695,     0.94795,     0.94895,     0.94995,     0.95095,     0.95195,     0.95295,     0.95395,     0.95495,     0.95596,     0.95696,     0.95796,     0.95896,     0.95996,\n",
       "           0.96096,     0.96196,     0.96296,     0.96396,     0.96496,     0.96597,     0.96697,     0.96797,     0.96897,     0.96997,     0.97097,     0.97197,     0.97297,     0.97397,     0.97497,     0.97598,     0.97698,     0.97798,     0.97898,     0.97998,     0.98098,     0.98198,     0.98298,     0.98398,\n",
       "           0.98498,     0.98599,     0.98699,     0.98799,     0.98899,     0.98999,     0.99099,     0.99199,     0.99299,     0.99399,     0.99499,       0.996,       0.997,       0.998,       0.999,           1]), array([[          1,           1,           1, ...,        0.98,        0.98,           0],\n",
       "       [          1,           1,           1, ...,           1,           1,           0]]), 'Recall', 'Precision'], [array([          0,    0.001001,    0.002002,    0.003003,    0.004004,    0.005005,    0.006006,    0.007007,    0.008008,    0.009009,     0.01001,    0.011011,    0.012012,    0.013013,    0.014014,    0.015015,    0.016016,    0.017017,    0.018018,    0.019019,     0.02002,    0.021021,    0.022022,    0.023023,\n",
       "          0.024024,    0.025025,    0.026026,    0.027027,    0.028028,    0.029029,     0.03003,    0.031031,    0.032032,    0.033033,    0.034034,    0.035035,    0.036036,    0.037037,    0.038038,    0.039039,     0.04004,    0.041041,    0.042042,    0.043043,    0.044044,    0.045045,    0.046046,    0.047047,\n",
       "          0.048048,    0.049049,     0.05005,    0.051051,    0.052052,    0.053053,    0.054054,    0.055055,    0.056056,    0.057057,    0.058058,    0.059059,     0.06006,    0.061061,    0.062062,    0.063063,    0.064064,    0.065065,    0.066066,    0.067067,    0.068068,    0.069069,     0.07007,    0.071071,\n",
       "          0.072072,    0.073073,    0.074074,    0.075075,    0.076076,    0.077077,    0.078078,    0.079079,     0.08008,    0.081081,    0.082082,    0.083083,    0.084084,    0.085085,    0.086086,    0.087087,    0.088088,    0.089089,     0.09009,    0.091091,    0.092092,    0.093093,    0.094094,    0.095095,\n",
       "          0.096096,    0.097097,    0.098098,    0.099099,      0.1001,      0.1011,      0.1021,      0.1031,      0.1041,     0.10511,     0.10611,     0.10711,     0.10811,     0.10911,     0.11011,     0.11111,     0.11211,     0.11311,     0.11411,     0.11512,     0.11612,     0.11712,     0.11812,     0.11912,\n",
       "           0.12012,     0.12112,     0.12212,     0.12312,     0.12412,     0.12513,     0.12613,     0.12713,     0.12813,     0.12913,     0.13013,     0.13113,     0.13213,     0.13313,     0.13413,     0.13514,     0.13614,     0.13714,     0.13814,     0.13914,     0.14014,     0.14114,     0.14214,     0.14314,\n",
       "           0.14414,     0.14515,     0.14615,     0.14715,     0.14815,     0.14915,     0.15015,     0.15115,     0.15215,     0.15315,     0.15415,     0.15516,     0.15616,     0.15716,     0.15816,     0.15916,     0.16016,     0.16116,     0.16216,     0.16316,     0.16416,     0.16517,     0.16617,     0.16717,\n",
       "           0.16817,     0.16917,     0.17017,     0.17117,     0.17217,     0.17317,     0.17417,     0.17518,     0.17618,     0.17718,     0.17818,     0.17918,     0.18018,     0.18118,     0.18218,     0.18318,     0.18418,     0.18519,     0.18619,     0.18719,     0.18819,     0.18919,     0.19019,     0.19119,\n",
       "           0.19219,     0.19319,     0.19419,      0.1952,      0.1962,      0.1972,      0.1982,      0.1992,      0.2002,      0.2012,      0.2022,      0.2032,      0.2042,     0.20521,     0.20621,     0.20721,     0.20821,     0.20921,     0.21021,     0.21121,     0.21221,     0.21321,     0.21421,     0.21522,\n",
       "           0.21622,     0.21722,     0.21822,     0.21922,     0.22022,     0.22122,     0.22222,     0.22322,     0.22422,     0.22523,     0.22623,     0.22723,     0.22823,     0.22923,     0.23023,     0.23123,     0.23223,     0.23323,     0.23423,     0.23524,     0.23624,     0.23724,     0.23824,     0.23924,\n",
       "           0.24024,     0.24124,     0.24224,     0.24324,     0.24424,     0.24525,     0.24625,     0.24725,     0.24825,     0.24925,     0.25025,     0.25125,     0.25225,     0.25325,     0.25425,     0.25526,     0.25626,     0.25726,     0.25826,     0.25926,     0.26026,     0.26126,     0.26226,     0.26326,\n",
       "           0.26426,     0.26527,     0.26627,     0.26727,     0.26827,     0.26927,     0.27027,     0.27127,     0.27227,     0.27327,     0.27427,     0.27528,     0.27628,     0.27728,     0.27828,     0.27928,     0.28028,     0.28128,     0.28228,     0.28328,     0.28428,     0.28529,     0.28629,     0.28729,\n",
       "           0.28829,     0.28929,     0.29029,     0.29129,     0.29229,     0.29329,     0.29429,      0.2953,      0.2963,      0.2973,      0.2983,      0.2993,      0.3003,      0.3013,      0.3023,      0.3033,      0.3043,     0.30531,     0.30631,     0.30731,     0.30831,     0.30931,     0.31031,     0.31131,\n",
       "           0.31231,     0.31331,     0.31431,     0.31532,     0.31632,     0.31732,     0.31832,     0.31932,     0.32032,     0.32132,     0.32232,     0.32332,     0.32432,     0.32533,     0.32633,     0.32733,     0.32833,     0.32933,     0.33033,     0.33133,     0.33233,     0.33333,     0.33433,     0.33534,\n",
       "           0.33634,     0.33734,     0.33834,     0.33934,     0.34034,     0.34134,     0.34234,     0.34334,     0.34434,     0.34535,     0.34635,     0.34735,     0.34835,     0.34935,     0.35035,     0.35135,     0.35235,     0.35335,     0.35435,     0.35536,     0.35636,     0.35736,     0.35836,     0.35936,\n",
       "           0.36036,     0.36136,     0.36236,     0.36336,     0.36436,     0.36537,     0.36637,     0.36737,     0.36837,     0.36937,     0.37037,     0.37137,     0.37237,     0.37337,     0.37437,     0.37538,     0.37638,     0.37738,     0.37838,     0.37938,     0.38038,     0.38138,     0.38238,     0.38338,\n",
       "           0.38438,     0.38539,     0.38639,     0.38739,     0.38839,     0.38939,     0.39039,     0.39139,     0.39239,     0.39339,     0.39439,      0.3954,      0.3964,      0.3974,      0.3984,      0.3994,      0.4004,      0.4014,      0.4024,      0.4034,      0.4044,     0.40541,     0.40641,     0.40741,\n",
       "           0.40841,     0.40941,     0.41041,     0.41141,     0.41241,     0.41341,     0.41441,     0.41542,     0.41642,     0.41742,     0.41842,     0.41942,     0.42042,     0.42142,     0.42242,     0.42342,     0.42442,     0.42543,     0.42643,     0.42743,     0.42843,     0.42943,     0.43043,     0.43143,\n",
       "           0.43243,     0.43343,     0.43443,     0.43544,     0.43644,     0.43744,     0.43844,     0.43944,     0.44044,     0.44144,     0.44244,     0.44344,     0.44444,     0.44545,     0.44645,     0.44745,     0.44845,     0.44945,     0.45045,     0.45145,     0.45245,     0.45345,     0.45445,     0.45546,\n",
       "           0.45646,     0.45746,     0.45846,     0.45946,     0.46046,     0.46146,     0.46246,     0.46346,     0.46446,     0.46547,     0.46647,     0.46747,     0.46847,     0.46947,     0.47047,     0.47147,     0.47247,     0.47347,     0.47447,     0.47548,     0.47648,     0.47748,     0.47848,     0.47948,\n",
       "           0.48048,     0.48148,     0.48248,     0.48348,     0.48448,     0.48549,     0.48649,     0.48749,     0.48849,     0.48949,     0.49049,     0.49149,     0.49249,     0.49349,     0.49449,      0.4955,      0.4965,      0.4975,      0.4985,      0.4995,      0.5005,      0.5015,      0.5025,      0.5035,\n",
       "            0.5045,     0.50551,     0.50651,     0.50751,     0.50851,     0.50951,     0.51051,     0.51151,     0.51251,     0.51351,     0.51451,     0.51552,     0.51652,     0.51752,     0.51852,     0.51952,     0.52052,     0.52152,     0.52252,     0.52352,     0.52452,     0.52553,     0.52653,     0.52753,\n",
       "           0.52853,     0.52953,     0.53053,     0.53153,     0.53253,     0.53353,     0.53453,     0.53554,     0.53654,     0.53754,     0.53854,     0.53954,     0.54054,     0.54154,     0.54254,     0.54354,     0.54454,     0.54555,     0.54655,     0.54755,     0.54855,     0.54955,     0.55055,     0.55155,\n",
       "           0.55255,     0.55355,     0.55455,     0.55556,     0.55656,     0.55756,     0.55856,     0.55956,     0.56056,     0.56156,     0.56256,     0.56356,     0.56456,     0.56557,     0.56657,     0.56757,     0.56857,     0.56957,     0.57057,     0.57157,     0.57257,     0.57357,     0.57457,     0.57558,\n",
       "           0.57658,     0.57758,     0.57858,     0.57958,     0.58058,     0.58158,     0.58258,     0.58358,     0.58458,     0.58559,     0.58659,     0.58759,     0.58859,     0.58959,     0.59059,     0.59159,     0.59259,     0.59359,     0.59459,      0.5956,      0.5966,      0.5976,      0.5986,      0.5996,\n",
       "            0.6006,      0.6016,      0.6026,      0.6036,      0.6046,     0.60561,     0.60661,     0.60761,     0.60861,     0.60961,     0.61061,     0.61161,     0.61261,     0.61361,     0.61461,     0.61562,     0.61662,     0.61762,     0.61862,     0.61962,     0.62062,     0.62162,     0.62262,     0.62362,\n",
       "           0.62462,     0.62563,     0.62663,     0.62763,     0.62863,     0.62963,     0.63063,     0.63163,     0.63263,     0.63363,     0.63463,     0.63564,     0.63664,     0.63764,     0.63864,     0.63964,     0.64064,     0.64164,     0.64264,     0.64364,     0.64464,     0.64565,     0.64665,     0.64765,\n",
       "           0.64865,     0.64965,     0.65065,     0.65165,     0.65265,     0.65365,     0.65465,     0.65566,     0.65666,     0.65766,     0.65866,     0.65966,     0.66066,     0.66166,     0.66266,     0.66366,     0.66466,     0.66567,     0.66667,     0.66767,     0.66867,     0.66967,     0.67067,     0.67167,\n",
       "           0.67267,     0.67367,     0.67467,     0.67568,     0.67668,     0.67768,     0.67868,     0.67968,     0.68068,     0.68168,     0.68268,     0.68368,     0.68468,     0.68569,     0.68669,     0.68769,     0.68869,     0.68969,     0.69069,     0.69169,     0.69269,     0.69369,     0.69469,      0.6957,\n",
       "            0.6967,      0.6977,      0.6987,      0.6997,      0.7007,      0.7017,      0.7027,      0.7037,      0.7047,     0.70571,     0.70671,     0.70771,     0.70871,     0.70971,     0.71071,     0.71171,     0.71271,     0.71371,     0.71471,     0.71572,     0.71672,     0.71772,     0.71872,     0.71972,\n",
       "           0.72072,     0.72172,     0.72272,     0.72372,     0.72472,     0.72573,     0.72673,     0.72773,     0.72873,     0.72973,     0.73073,     0.73173,     0.73273,     0.73373,     0.73473,     0.73574,     0.73674,     0.73774,     0.73874,     0.73974,     0.74074,     0.74174,     0.74274,     0.74374,\n",
       "           0.74474,     0.74575,     0.74675,     0.74775,     0.74875,     0.74975,     0.75075,     0.75175,     0.75275,     0.75375,     0.75475,     0.75576,     0.75676,     0.75776,     0.75876,     0.75976,     0.76076,     0.76176,     0.76276,     0.76376,     0.76476,     0.76577,     0.76677,     0.76777,\n",
       "           0.76877,     0.76977,     0.77077,     0.77177,     0.77277,     0.77377,     0.77477,     0.77578,     0.77678,     0.77778,     0.77878,     0.77978,     0.78078,     0.78178,     0.78278,     0.78378,     0.78478,     0.78579,     0.78679,     0.78779,     0.78879,     0.78979,     0.79079,     0.79179,\n",
       "           0.79279,     0.79379,     0.79479,      0.7958,      0.7968,      0.7978,      0.7988,      0.7998,      0.8008,      0.8018,      0.8028,      0.8038,      0.8048,     0.80581,     0.80681,     0.80781,     0.80881,     0.80981,     0.81081,     0.81181,     0.81281,     0.81381,     0.81481,     0.81582,\n",
       "           0.81682,     0.81782,     0.81882,     0.81982,     0.82082,     0.82182,     0.82282,     0.82382,     0.82482,     0.82583,     0.82683,     0.82783,     0.82883,     0.82983,     0.83083,     0.83183,     0.83283,     0.83383,     0.83483,     0.83584,     0.83684,     0.83784,     0.83884,     0.83984,\n",
       "           0.84084,     0.84184,     0.84284,     0.84384,     0.84484,     0.84585,     0.84685,     0.84785,     0.84885,     0.84985,     0.85085,     0.85185,     0.85285,     0.85385,     0.85485,     0.85586,     0.85686,     0.85786,     0.85886,     0.85986,     0.86086,     0.86186,     0.86286,     0.86386,\n",
       "           0.86486,     0.86587,     0.86687,     0.86787,     0.86887,     0.86987,     0.87087,     0.87187,     0.87287,     0.87387,     0.87487,     0.87588,     0.87688,     0.87788,     0.87888,     0.87988,     0.88088,     0.88188,     0.88288,     0.88388,     0.88488,     0.88589,     0.88689,     0.88789,\n",
       "           0.88889,     0.88989,     0.89089,     0.89189,     0.89289,     0.89389,     0.89489,      0.8959,      0.8969,      0.8979,      0.8989,      0.8999,      0.9009,      0.9019,      0.9029,      0.9039,      0.9049,     0.90591,     0.90691,     0.90791,     0.90891,     0.90991,     0.91091,     0.91191,\n",
       "           0.91291,     0.91391,     0.91491,     0.91592,     0.91692,     0.91792,     0.91892,     0.91992,     0.92092,     0.92192,     0.92292,     0.92392,     0.92492,     0.92593,     0.92693,     0.92793,     0.92893,     0.92993,     0.93093,     0.93193,     0.93293,     0.93393,     0.93493,     0.93594,\n",
       "           0.93694,     0.93794,     0.93894,     0.93994,     0.94094,     0.94194,     0.94294,     0.94394,     0.94494,     0.94595,     0.94695,     0.94795,     0.94895,     0.94995,     0.95095,     0.95195,     0.95295,     0.95395,     0.95495,     0.95596,     0.95696,     0.95796,     0.95896,     0.95996,\n",
       "           0.96096,     0.96196,     0.96296,     0.96396,     0.96496,     0.96597,     0.96697,     0.96797,     0.96897,     0.96997,     0.97097,     0.97197,     0.97297,     0.97397,     0.97497,     0.97598,     0.97698,     0.97798,     0.97898,     0.97998,     0.98098,     0.98198,     0.98298,     0.98398,\n",
       "           0.98498,     0.98599,     0.98699,     0.98799,     0.98899,     0.98999,     0.99099,     0.99199,     0.99299,     0.99399,     0.99499,       0.996,       0.997,       0.998,       0.999,           1]), array([[  0.0089083,   0.0089083,   0.0098733, ...,           0,           0,           0],\n",
       "       [  0.0044928,   0.0044928,   0.0047102, ...,           0,           0,           0]]), 'Confidence', 'F1'], [array([          0,    0.001001,    0.002002,    0.003003,    0.004004,    0.005005,    0.006006,    0.007007,    0.008008,    0.009009,     0.01001,    0.011011,    0.012012,    0.013013,    0.014014,    0.015015,    0.016016,    0.017017,    0.018018,    0.019019,     0.02002,    0.021021,    0.022022,    0.023023,\n",
       "          0.024024,    0.025025,    0.026026,    0.027027,    0.028028,    0.029029,     0.03003,    0.031031,    0.032032,    0.033033,    0.034034,    0.035035,    0.036036,    0.037037,    0.038038,    0.039039,     0.04004,    0.041041,    0.042042,    0.043043,    0.044044,    0.045045,    0.046046,    0.047047,\n",
       "          0.048048,    0.049049,     0.05005,    0.051051,    0.052052,    0.053053,    0.054054,    0.055055,    0.056056,    0.057057,    0.058058,    0.059059,     0.06006,    0.061061,    0.062062,    0.063063,    0.064064,    0.065065,    0.066066,    0.067067,    0.068068,    0.069069,     0.07007,    0.071071,\n",
       "          0.072072,    0.073073,    0.074074,    0.075075,    0.076076,    0.077077,    0.078078,    0.079079,     0.08008,    0.081081,    0.082082,    0.083083,    0.084084,    0.085085,    0.086086,    0.087087,    0.088088,    0.089089,     0.09009,    0.091091,    0.092092,    0.093093,    0.094094,    0.095095,\n",
       "          0.096096,    0.097097,    0.098098,    0.099099,      0.1001,      0.1011,      0.1021,      0.1031,      0.1041,     0.10511,     0.10611,     0.10711,     0.10811,     0.10911,     0.11011,     0.11111,     0.11211,     0.11311,     0.11411,     0.11512,     0.11612,     0.11712,     0.11812,     0.11912,\n",
       "           0.12012,     0.12112,     0.12212,     0.12312,     0.12412,     0.12513,     0.12613,     0.12713,     0.12813,     0.12913,     0.13013,     0.13113,     0.13213,     0.13313,     0.13413,     0.13514,     0.13614,     0.13714,     0.13814,     0.13914,     0.14014,     0.14114,     0.14214,     0.14314,\n",
       "           0.14414,     0.14515,     0.14615,     0.14715,     0.14815,     0.14915,     0.15015,     0.15115,     0.15215,     0.15315,     0.15415,     0.15516,     0.15616,     0.15716,     0.15816,     0.15916,     0.16016,     0.16116,     0.16216,     0.16316,     0.16416,     0.16517,     0.16617,     0.16717,\n",
       "           0.16817,     0.16917,     0.17017,     0.17117,     0.17217,     0.17317,     0.17417,     0.17518,     0.17618,     0.17718,     0.17818,     0.17918,     0.18018,     0.18118,     0.18218,     0.18318,     0.18418,     0.18519,     0.18619,     0.18719,     0.18819,     0.18919,     0.19019,     0.19119,\n",
       "           0.19219,     0.19319,     0.19419,      0.1952,      0.1962,      0.1972,      0.1982,      0.1992,      0.2002,      0.2012,      0.2022,      0.2032,      0.2042,     0.20521,     0.20621,     0.20721,     0.20821,     0.20921,     0.21021,     0.21121,     0.21221,     0.21321,     0.21421,     0.21522,\n",
       "           0.21622,     0.21722,     0.21822,     0.21922,     0.22022,     0.22122,     0.22222,     0.22322,     0.22422,     0.22523,     0.22623,     0.22723,     0.22823,     0.22923,     0.23023,     0.23123,     0.23223,     0.23323,     0.23423,     0.23524,     0.23624,     0.23724,     0.23824,     0.23924,\n",
       "           0.24024,     0.24124,     0.24224,     0.24324,     0.24424,     0.24525,     0.24625,     0.24725,     0.24825,     0.24925,     0.25025,     0.25125,     0.25225,     0.25325,     0.25425,     0.25526,     0.25626,     0.25726,     0.25826,     0.25926,     0.26026,     0.26126,     0.26226,     0.26326,\n",
       "           0.26426,     0.26527,     0.26627,     0.26727,     0.26827,     0.26927,     0.27027,     0.27127,     0.27227,     0.27327,     0.27427,     0.27528,     0.27628,     0.27728,     0.27828,     0.27928,     0.28028,     0.28128,     0.28228,     0.28328,     0.28428,     0.28529,     0.28629,     0.28729,\n",
       "           0.28829,     0.28929,     0.29029,     0.29129,     0.29229,     0.29329,     0.29429,      0.2953,      0.2963,      0.2973,      0.2983,      0.2993,      0.3003,      0.3013,      0.3023,      0.3033,      0.3043,     0.30531,     0.30631,     0.30731,     0.30831,     0.30931,     0.31031,     0.31131,\n",
       "           0.31231,     0.31331,     0.31431,     0.31532,     0.31632,     0.31732,     0.31832,     0.31932,     0.32032,     0.32132,     0.32232,     0.32332,     0.32432,     0.32533,     0.32633,     0.32733,     0.32833,     0.32933,     0.33033,     0.33133,     0.33233,     0.33333,     0.33433,     0.33534,\n",
       "           0.33634,     0.33734,     0.33834,     0.33934,     0.34034,     0.34134,     0.34234,     0.34334,     0.34434,     0.34535,     0.34635,     0.34735,     0.34835,     0.34935,     0.35035,     0.35135,     0.35235,     0.35335,     0.35435,     0.35536,     0.35636,     0.35736,     0.35836,     0.35936,\n",
       "           0.36036,     0.36136,     0.36236,     0.36336,     0.36436,     0.36537,     0.36637,     0.36737,     0.36837,     0.36937,     0.37037,     0.37137,     0.37237,     0.37337,     0.37437,     0.37538,     0.37638,     0.37738,     0.37838,     0.37938,     0.38038,     0.38138,     0.38238,     0.38338,\n",
       "           0.38438,     0.38539,     0.38639,     0.38739,     0.38839,     0.38939,     0.39039,     0.39139,     0.39239,     0.39339,     0.39439,      0.3954,      0.3964,      0.3974,      0.3984,      0.3994,      0.4004,      0.4014,      0.4024,      0.4034,      0.4044,     0.40541,     0.40641,     0.40741,\n",
       "           0.40841,     0.40941,     0.41041,     0.41141,     0.41241,     0.41341,     0.41441,     0.41542,     0.41642,     0.41742,     0.41842,     0.41942,     0.42042,     0.42142,     0.42242,     0.42342,     0.42442,     0.42543,     0.42643,     0.42743,     0.42843,     0.42943,     0.43043,     0.43143,\n",
       "           0.43243,     0.43343,     0.43443,     0.43544,     0.43644,     0.43744,     0.43844,     0.43944,     0.44044,     0.44144,     0.44244,     0.44344,     0.44444,     0.44545,     0.44645,     0.44745,     0.44845,     0.44945,     0.45045,     0.45145,     0.45245,     0.45345,     0.45445,     0.45546,\n",
       "           0.45646,     0.45746,     0.45846,     0.45946,     0.46046,     0.46146,     0.46246,     0.46346,     0.46446,     0.46547,     0.46647,     0.46747,     0.46847,     0.46947,     0.47047,     0.47147,     0.47247,     0.47347,     0.47447,     0.47548,     0.47648,     0.47748,     0.47848,     0.47948,\n",
       "           0.48048,     0.48148,     0.48248,     0.48348,     0.48448,     0.48549,     0.48649,     0.48749,     0.48849,     0.48949,     0.49049,     0.49149,     0.49249,     0.49349,     0.49449,      0.4955,      0.4965,      0.4975,      0.4985,      0.4995,      0.5005,      0.5015,      0.5025,      0.5035,\n",
       "            0.5045,     0.50551,     0.50651,     0.50751,     0.50851,     0.50951,     0.51051,     0.51151,     0.51251,     0.51351,     0.51451,     0.51552,     0.51652,     0.51752,     0.51852,     0.51952,     0.52052,     0.52152,     0.52252,     0.52352,     0.52452,     0.52553,     0.52653,     0.52753,\n",
       "           0.52853,     0.52953,     0.53053,     0.53153,     0.53253,     0.53353,     0.53453,     0.53554,     0.53654,     0.53754,     0.53854,     0.53954,     0.54054,     0.54154,     0.54254,     0.54354,     0.54454,     0.54555,     0.54655,     0.54755,     0.54855,     0.54955,     0.55055,     0.55155,\n",
       "           0.55255,     0.55355,     0.55455,     0.55556,     0.55656,     0.55756,     0.55856,     0.55956,     0.56056,     0.56156,     0.56256,     0.56356,     0.56456,     0.56557,     0.56657,     0.56757,     0.56857,     0.56957,     0.57057,     0.57157,     0.57257,     0.57357,     0.57457,     0.57558,\n",
       "           0.57658,     0.57758,     0.57858,     0.57958,     0.58058,     0.58158,     0.58258,     0.58358,     0.58458,     0.58559,     0.58659,     0.58759,     0.58859,     0.58959,     0.59059,     0.59159,     0.59259,     0.59359,     0.59459,      0.5956,      0.5966,      0.5976,      0.5986,      0.5996,\n",
       "            0.6006,      0.6016,      0.6026,      0.6036,      0.6046,     0.60561,     0.60661,     0.60761,     0.60861,     0.60961,     0.61061,     0.61161,     0.61261,     0.61361,     0.61461,     0.61562,     0.61662,     0.61762,     0.61862,     0.61962,     0.62062,     0.62162,     0.62262,     0.62362,\n",
       "           0.62462,     0.62563,     0.62663,     0.62763,     0.62863,     0.62963,     0.63063,     0.63163,     0.63263,     0.63363,     0.63463,     0.63564,     0.63664,     0.63764,     0.63864,     0.63964,     0.64064,     0.64164,     0.64264,     0.64364,     0.64464,     0.64565,     0.64665,     0.64765,\n",
       "           0.64865,     0.64965,     0.65065,     0.65165,     0.65265,     0.65365,     0.65465,     0.65566,     0.65666,     0.65766,     0.65866,     0.65966,     0.66066,     0.66166,     0.66266,     0.66366,     0.66466,     0.66567,     0.66667,     0.66767,     0.66867,     0.66967,     0.67067,     0.67167,\n",
       "           0.67267,     0.67367,     0.67467,     0.67568,     0.67668,     0.67768,     0.67868,     0.67968,     0.68068,     0.68168,     0.68268,     0.68368,     0.68468,     0.68569,     0.68669,     0.68769,     0.68869,     0.68969,     0.69069,     0.69169,     0.69269,     0.69369,     0.69469,      0.6957,\n",
       "            0.6967,      0.6977,      0.6987,      0.6997,      0.7007,      0.7017,      0.7027,      0.7037,      0.7047,     0.70571,     0.70671,     0.70771,     0.70871,     0.70971,     0.71071,     0.71171,     0.71271,     0.71371,     0.71471,     0.71572,     0.71672,     0.71772,     0.71872,     0.71972,\n",
       "           0.72072,     0.72172,     0.72272,     0.72372,     0.72472,     0.72573,     0.72673,     0.72773,     0.72873,     0.72973,     0.73073,     0.73173,     0.73273,     0.73373,     0.73473,     0.73574,     0.73674,     0.73774,     0.73874,     0.73974,     0.74074,     0.74174,     0.74274,     0.74374,\n",
       "           0.74474,     0.74575,     0.74675,     0.74775,     0.74875,     0.74975,     0.75075,     0.75175,     0.75275,     0.75375,     0.75475,     0.75576,     0.75676,     0.75776,     0.75876,     0.75976,     0.76076,     0.76176,     0.76276,     0.76376,     0.76476,     0.76577,     0.76677,     0.76777,\n",
       "           0.76877,     0.76977,     0.77077,     0.77177,     0.77277,     0.77377,     0.77477,     0.77578,     0.77678,     0.77778,     0.77878,     0.77978,     0.78078,     0.78178,     0.78278,     0.78378,     0.78478,     0.78579,     0.78679,     0.78779,     0.78879,     0.78979,     0.79079,     0.79179,\n",
       "           0.79279,     0.79379,     0.79479,      0.7958,      0.7968,      0.7978,      0.7988,      0.7998,      0.8008,      0.8018,      0.8028,      0.8038,      0.8048,     0.80581,     0.80681,     0.80781,     0.80881,     0.80981,     0.81081,     0.81181,     0.81281,     0.81381,     0.81481,     0.81582,\n",
       "           0.81682,     0.81782,     0.81882,     0.81982,     0.82082,     0.82182,     0.82282,     0.82382,     0.82482,     0.82583,     0.82683,     0.82783,     0.82883,     0.82983,     0.83083,     0.83183,     0.83283,     0.83383,     0.83483,     0.83584,     0.83684,     0.83784,     0.83884,     0.83984,\n",
       "           0.84084,     0.84184,     0.84284,     0.84384,     0.84484,     0.84585,     0.84685,     0.84785,     0.84885,     0.84985,     0.85085,     0.85185,     0.85285,     0.85385,     0.85485,     0.85586,     0.85686,     0.85786,     0.85886,     0.85986,     0.86086,     0.86186,     0.86286,     0.86386,\n",
       "           0.86486,     0.86587,     0.86687,     0.86787,     0.86887,     0.86987,     0.87087,     0.87187,     0.87287,     0.87387,     0.87487,     0.87588,     0.87688,     0.87788,     0.87888,     0.87988,     0.88088,     0.88188,     0.88288,     0.88388,     0.88488,     0.88589,     0.88689,     0.88789,\n",
       "           0.88889,     0.88989,     0.89089,     0.89189,     0.89289,     0.89389,     0.89489,      0.8959,      0.8969,      0.8979,      0.8989,      0.8999,      0.9009,      0.9019,      0.9029,      0.9039,      0.9049,     0.90591,     0.90691,     0.90791,     0.90891,     0.90991,     0.91091,     0.91191,\n",
       "           0.91291,     0.91391,     0.91491,     0.91592,     0.91692,     0.91792,     0.91892,     0.91992,     0.92092,     0.92192,     0.92292,     0.92392,     0.92492,     0.92593,     0.92693,     0.92793,     0.92893,     0.92993,     0.93093,     0.93193,     0.93293,     0.93393,     0.93493,     0.93594,\n",
       "           0.93694,     0.93794,     0.93894,     0.93994,     0.94094,     0.94194,     0.94294,     0.94394,     0.94494,     0.94595,     0.94695,     0.94795,     0.94895,     0.94995,     0.95095,     0.95195,     0.95295,     0.95395,     0.95495,     0.95596,     0.95696,     0.95796,     0.95896,     0.95996,\n",
       "           0.96096,     0.96196,     0.96296,     0.96396,     0.96496,     0.96597,     0.96697,     0.96797,     0.96897,     0.96997,     0.97097,     0.97197,     0.97297,     0.97397,     0.97497,     0.97598,     0.97698,     0.97798,     0.97898,     0.97998,     0.98098,     0.98198,     0.98298,     0.98398,\n",
       "           0.98498,     0.98599,     0.98699,     0.98799,     0.98899,     0.98999,     0.99099,     0.99199,     0.99299,     0.99399,     0.99499,       0.996,       0.997,       0.998,       0.999,           1]), array([[  0.0044741,   0.0044741,   0.0049611, ...,           1,           1,           1],\n",
       "       [  0.0022515,   0.0022515,   0.0023606, ...,           1,           1,           1]]), 'Confidence', 'Precision'], [array([          0,    0.001001,    0.002002,    0.003003,    0.004004,    0.005005,    0.006006,    0.007007,    0.008008,    0.009009,     0.01001,    0.011011,    0.012012,    0.013013,    0.014014,    0.015015,    0.016016,    0.017017,    0.018018,    0.019019,     0.02002,    0.021021,    0.022022,    0.023023,\n",
       "          0.024024,    0.025025,    0.026026,    0.027027,    0.028028,    0.029029,     0.03003,    0.031031,    0.032032,    0.033033,    0.034034,    0.035035,    0.036036,    0.037037,    0.038038,    0.039039,     0.04004,    0.041041,    0.042042,    0.043043,    0.044044,    0.045045,    0.046046,    0.047047,\n",
       "          0.048048,    0.049049,     0.05005,    0.051051,    0.052052,    0.053053,    0.054054,    0.055055,    0.056056,    0.057057,    0.058058,    0.059059,     0.06006,    0.061061,    0.062062,    0.063063,    0.064064,    0.065065,    0.066066,    0.067067,    0.068068,    0.069069,     0.07007,    0.071071,\n",
       "          0.072072,    0.073073,    0.074074,    0.075075,    0.076076,    0.077077,    0.078078,    0.079079,     0.08008,    0.081081,    0.082082,    0.083083,    0.084084,    0.085085,    0.086086,    0.087087,    0.088088,    0.089089,     0.09009,    0.091091,    0.092092,    0.093093,    0.094094,    0.095095,\n",
       "          0.096096,    0.097097,    0.098098,    0.099099,      0.1001,      0.1011,      0.1021,      0.1031,      0.1041,     0.10511,     0.10611,     0.10711,     0.10811,     0.10911,     0.11011,     0.11111,     0.11211,     0.11311,     0.11411,     0.11512,     0.11612,     0.11712,     0.11812,     0.11912,\n",
       "           0.12012,     0.12112,     0.12212,     0.12312,     0.12412,     0.12513,     0.12613,     0.12713,     0.12813,     0.12913,     0.13013,     0.13113,     0.13213,     0.13313,     0.13413,     0.13514,     0.13614,     0.13714,     0.13814,     0.13914,     0.14014,     0.14114,     0.14214,     0.14314,\n",
       "           0.14414,     0.14515,     0.14615,     0.14715,     0.14815,     0.14915,     0.15015,     0.15115,     0.15215,     0.15315,     0.15415,     0.15516,     0.15616,     0.15716,     0.15816,     0.15916,     0.16016,     0.16116,     0.16216,     0.16316,     0.16416,     0.16517,     0.16617,     0.16717,\n",
       "           0.16817,     0.16917,     0.17017,     0.17117,     0.17217,     0.17317,     0.17417,     0.17518,     0.17618,     0.17718,     0.17818,     0.17918,     0.18018,     0.18118,     0.18218,     0.18318,     0.18418,     0.18519,     0.18619,     0.18719,     0.18819,     0.18919,     0.19019,     0.19119,\n",
       "           0.19219,     0.19319,     0.19419,      0.1952,      0.1962,      0.1972,      0.1982,      0.1992,      0.2002,      0.2012,      0.2022,      0.2032,      0.2042,     0.20521,     0.20621,     0.20721,     0.20821,     0.20921,     0.21021,     0.21121,     0.21221,     0.21321,     0.21421,     0.21522,\n",
       "           0.21622,     0.21722,     0.21822,     0.21922,     0.22022,     0.22122,     0.22222,     0.22322,     0.22422,     0.22523,     0.22623,     0.22723,     0.22823,     0.22923,     0.23023,     0.23123,     0.23223,     0.23323,     0.23423,     0.23524,     0.23624,     0.23724,     0.23824,     0.23924,\n",
       "           0.24024,     0.24124,     0.24224,     0.24324,     0.24424,     0.24525,     0.24625,     0.24725,     0.24825,     0.24925,     0.25025,     0.25125,     0.25225,     0.25325,     0.25425,     0.25526,     0.25626,     0.25726,     0.25826,     0.25926,     0.26026,     0.26126,     0.26226,     0.26326,\n",
       "           0.26426,     0.26527,     0.26627,     0.26727,     0.26827,     0.26927,     0.27027,     0.27127,     0.27227,     0.27327,     0.27427,     0.27528,     0.27628,     0.27728,     0.27828,     0.27928,     0.28028,     0.28128,     0.28228,     0.28328,     0.28428,     0.28529,     0.28629,     0.28729,\n",
       "           0.28829,     0.28929,     0.29029,     0.29129,     0.29229,     0.29329,     0.29429,      0.2953,      0.2963,      0.2973,      0.2983,      0.2993,      0.3003,      0.3013,      0.3023,      0.3033,      0.3043,     0.30531,     0.30631,     0.30731,     0.30831,     0.30931,     0.31031,     0.31131,\n",
       "           0.31231,     0.31331,     0.31431,     0.31532,     0.31632,     0.31732,     0.31832,     0.31932,     0.32032,     0.32132,     0.32232,     0.32332,     0.32432,     0.32533,     0.32633,     0.32733,     0.32833,     0.32933,     0.33033,     0.33133,     0.33233,     0.33333,     0.33433,     0.33534,\n",
       "           0.33634,     0.33734,     0.33834,     0.33934,     0.34034,     0.34134,     0.34234,     0.34334,     0.34434,     0.34535,     0.34635,     0.34735,     0.34835,     0.34935,     0.35035,     0.35135,     0.35235,     0.35335,     0.35435,     0.35536,     0.35636,     0.35736,     0.35836,     0.35936,\n",
       "           0.36036,     0.36136,     0.36236,     0.36336,     0.36436,     0.36537,     0.36637,     0.36737,     0.36837,     0.36937,     0.37037,     0.37137,     0.37237,     0.37337,     0.37437,     0.37538,     0.37638,     0.37738,     0.37838,     0.37938,     0.38038,     0.38138,     0.38238,     0.38338,\n",
       "           0.38438,     0.38539,     0.38639,     0.38739,     0.38839,     0.38939,     0.39039,     0.39139,     0.39239,     0.39339,     0.39439,      0.3954,      0.3964,      0.3974,      0.3984,      0.3994,      0.4004,      0.4014,      0.4024,      0.4034,      0.4044,     0.40541,     0.40641,     0.40741,\n",
       "           0.40841,     0.40941,     0.41041,     0.41141,     0.41241,     0.41341,     0.41441,     0.41542,     0.41642,     0.41742,     0.41842,     0.41942,     0.42042,     0.42142,     0.42242,     0.42342,     0.42442,     0.42543,     0.42643,     0.42743,     0.42843,     0.42943,     0.43043,     0.43143,\n",
       "           0.43243,     0.43343,     0.43443,     0.43544,     0.43644,     0.43744,     0.43844,     0.43944,     0.44044,     0.44144,     0.44244,     0.44344,     0.44444,     0.44545,     0.44645,     0.44745,     0.44845,     0.44945,     0.45045,     0.45145,     0.45245,     0.45345,     0.45445,     0.45546,\n",
       "           0.45646,     0.45746,     0.45846,     0.45946,     0.46046,     0.46146,     0.46246,     0.46346,     0.46446,     0.46547,     0.46647,     0.46747,     0.46847,     0.46947,     0.47047,     0.47147,     0.47247,     0.47347,     0.47447,     0.47548,     0.47648,     0.47748,     0.47848,     0.47948,\n",
       "           0.48048,     0.48148,     0.48248,     0.48348,     0.48448,     0.48549,     0.48649,     0.48749,     0.48849,     0.48949,     0.49049,     0.49149,     0.49249,     0.49349,     0.49449,      0.4955,      0.4965,      0.4975,      0.4985,      0.4995,      0.5005,      0.5015,      0.5025,      0.5035,\n",
       "            0.5045,     0.50551,     0.50651,     0.50751,     0.50851,     0.50951,     0.51051,     0.51151,     0.51251,     0.51351,     0.51451,     0.51552,     0.51652,     0.51752,     0.51852,     0.51952,     0.52052,     0.52152,     0.52252,     0.52352,     0.52452,     0.52553,     0.52653,     0.52753,\n",
       "           0.52853,     0.52953,     0.53053,     0.53153,     0.53253,     0.53353,     0.53453,     0.53554,     0.53654,     0.53754,     0.53854,     0.53954,     0.54054,     0.54154,     0.54254,     0.54354,     0.54454,     0.54555,     0.54655,     0.54755,     0.54855,     0.54955,     0.55055,     0.55155,\n",
       "           0.55255,     0.55355,     0.55455,     0.55556,     0.55656,     0.55756,     0.55856,     0.55956,     0.56056,     0.56156,     0.56256,     0.56356,     0.56456,     0.56557,     0.56657,     0.56757,     0.56857,     0.56957,     0.57057,     0.57157,     0.57257,     0.57357,     0.57457,     0.57558,\n",
       "           0.57658,     0.57758,     0.57858,     0.57958,     0.58058,     0.58158,     0.58258,     0.58358,     0.58458,     0.58559,     0.58659,     0.58759,     0.58859,     0.58959,     0.59059,     0.59159,     0.59259,     0.59359,     0.59459,      0.5956,      0.5966,      0.5976,      0.5986,      0.5996,\n",
       "            0.6006,      0.6016,      0.6026,      0.6036,      0.6046,     0.60561,     0.60661,     0.60761,     0.60861,     0.60961,     0.61061,     0.61161,     0.61261,     0.61361,     0.61461,     0.61562,     0.61662,     0.61762,     0.61862,     0.61962,     0.62062,     0.62162,     0.62262,     0.62362,\n",
       "           0.62462,     0.62563,     0.62663,     0.62763,     0.62863,     0.62963,     0.63063,     0.63163,     0.63263,     0.63363,     0.63463,     0.63564,     0.63664,     0.63764,     0.63864,     0.63964,     0.64064,     0.64164,     0.64264,     0.64364,     0.64464,     0.64565,     0.64665,     0.64765,\n",
       "           0.64865,     0.64965,     0.65065,     0.65165,     0.65265,     0.65365,     0.65465,     0.65566,     0.65666,     0.65766,     0.65866,     0.65966,     0.66066,     0.66166,     0.66266,     0.66366,     0.66466,     0.66567,     0.66667,     0.66767,     0.66867,     0.66967,     0.67067,     0.67167,\n",
       "           0.67267,     0.67367,     0.67467,     0.67568,     0.67668,     0.67768,     0.67868,     0.67968,     0.68068,     0.68168,     0.68268,     0.68368,     0.68468,     0.68569,     0.68669,     0.68769,     0.68869,     0.68969,     0.69069,     0.69169,     0.69269,     0.69369,     0.69469,      0.6957,\n",
       "            0.6967,      0.6977,      0.6987,      0.6997,      0.7007,      0.7017,      0.7027,      0.7037,      0.7047,     0.70571,     0.70671,     0.70771,     0.70871,     0.70971,     0.71071,     0.71171,     0.71271,     0.71371,     0.71471,     0.71572,     0.71672,     0.71772,     0.71872,     0.71972,\n",
       "           0.72072,     0.72172,     0.72272,     0.72372,     0.72472,     0.72573,     0.72673,     0.72773,     0.72873,     0.72973,     0.73073,     0.73173,     0.73273,     0.73373,     0.73473,     0.73574,     0.73674,     0.73774,     0.73874,     0.73974,     0.74074,     0.74174,     0.74274,     0.74374,\n",
       "           0.74474,     0.74575,     0.74675,     0.74775,     0.74875,     0.74975,     0.75075,     0.75175,     0.75275,     0.75375,     0.75475,     0.75576,     0.75676,     0.75776,     0.75876,     0.75976,     0.76076,     0.76176,     0.76276,     0.76376,     0.76476,     0.76577,     0.76677,     0.76777,\n",
       "           0.76877,     0.76977,     0.77077,     0.77177,     0.77277,     0.77377,     0.77477,     0.77578,     0.77678,     0.77778,     0.77878,     0.77978,     0.78078,     0.78178,     0.78278,     0.78378,     0.78478,     0.78579,     0.78679,     0.78779,     0.78879,     0.78979,     0.79079,     0.79179,\n",
       "           0.79279,     0.79379,     0.79479,      0.7958,      0.7968,      0.7978,      0.7988,      0.7998,      0.8008,      0.8018,      0.8028,      0.8038,      0.8048,     0.80581,     0.80681,     0.80781,     0.80881,     0.80981,     0.81081,     0.81181,     0.81281,     0.81381,     0.81481,     0.81582,\n",
       "           0.81682,     0.81782,     0.81882,     0.81982,     0.82082,     0.82182,     0.82282,     0.82382,     0.82482,     0.82583,     0.82683,     0.82783,     0.82883,     0.82983,     0.83083,     0.83183,     0.83283,     0.83383,     0.83483,     0.83584,     0.83684,     0.83784,     0.83884,     0.83984,\n",
       "           0.84084,     0.84184,     0.84284,     0.84384,     0.84484,     0.84585,     0.84685,     0.84785,     0.84885,     0.84985,     0.85085,     0.85185,     0.85285,     0.85385,     0.85485,     0.85586,     0.85686,     0.85786,     0.85886,     0.85986,     0.86086,     0.86186,     0.86286,     0.86386,\n",
       "           0.86486,     0.86587,     0.86687,     0.86787,     0.86887,     0.86987,     0.87087,     0.87187,     0.87287,     0.87387,     0.87487,     0.87588,     0.87688,     0.87788,     0.87888,     0.87988,     0.88088,     0.88188,     0.88288,     0.88388,     0.88488,     0.88589,     0.88689,     0.88789,\n",
       "           0.88889,     0.88989,     0.89089,     0.89189,     0.89289,     0.89389,     0.89489,      0.8959,      0.8969,      0.8979,      0.8989,      0.8999,      0.9009,      0.9019,      0.9029,      0.9039,      0.9049,     0.90591,     0.90691,     0.90791,     0.90891,     0.90991,     0.91091,     0.91191,\n",
       "           0.91291,     0.91391,     0.91491,     0.91592,     0.91692,     0.91792,     0.91892,     0.91992,     0.92092,     0.92192,     0.92292,     0.92392,     0.92492,     0.92593,     0.92693,     0.92793,     0.92893,     0.92993,     0.93093,     0.93193,     0.93293,     0.93393,     0.93493,     0.93594,\n",
       "           0.93694,     0.93794,     0.93894,     0.93994,     0.94094,     0.94194,     0.94294,     0.94394,     0.94494,     0.94595,     0.94695,     0.94795,     0.94895,     0.94995,     0.95095,     0.95195,     0.95295,     0.95395,     0.95495,     0.95596,     0.95696,     0.95796,     0.95896,     0.95996,\n",
       "           0.96096,     0.96196,     0.96296,     0.96396,     0.96496,     0.96597,     0.96697,     0.96797,     0.96897,     0.96997,     0.97097,     0.97197,     0.97297,     0.97397,     0.97497,     0.97598,     0.97698,     0.97798,     0.97898,     0.97998,     0.98098,     0.98198,     0.98298,     0.98398,\n",
       "           0.98498,     0.98599,     0.98699,     0.98799,     0.98899,     0.98999,     0.99099,     0.99199,     0.99299,     0.99399,     0.99499,       0.996,       0.997,       0.998,       0.999,           1]), array([[          1,           1,           1, ...,           0,           0,           0],\n",
       "       [          1,           1,           1, ...,           0,           0,           0]]), 'Confidence', 'Recall']]\n",
       "fitness: 0.8944276204363644\n",
       "keys: ['metrics/precision(B)', 'metrics/recall(B)', 'metrics/mAP50(B)', 'metrics/mAP50-95(B)']\n",
       "maps: array([    0.86785,      0.8987])\n",
       "names: {0: 'awake', 1: 'drowsy'}\n",
       "plot: True\n",
       "results_dict: {'metrics/precision(B)': 0.9384865234229303, 'metrics/recall(B)': 0.9973956826260779, 'metrics/mAP50(B)': 0.9948, 'metrics/mAP50-95(B)': 0.8832751338181826, 'fitness': 0.8944276204363644}\n",
       "save_dir: WindowsPath('runs/detect/train4')\n",
       "speed: {'preprocess': 2.6433022816975913, 'inference': 191.8082332611084, 'loss': 0.0, 'postprocess': 1.7742538452148438}\n",
       "task: 'detect'"
      ]
     },
     "execution_count": 16,
     "metadata": {},
     "output_type": "execute_result"
    }
   ],
   "source": [
    "model.train(\n",
    "    data='data.yaml',  # Path to your data configuration file\n",
    "    imgsz=640,         # Image size\n",
    "    epochs=50,         # Number of epochs\n",
    "    workers=4          # Number of data loading workers\n",
    ")"
   ]
  },
  {
   "cell_type": "markdown",
   "metadata": {},
   "source": [
    "## Load Custom Model"
   ]
  },
  {
   "cell_type": "code",
   "execution_count": 6,
   "metadata": {},
   "outputs": [],
   "source": [
    "model = YOLO('runs/detect/train4/weights/best.pt')"
   ]
  },
  {
   "cell_type": "code",
   "execution_count": 11,
   "metadata": {},
   "outputs": [],
   "source": [
    "img = os.path.join('data', 'test', 'images', '28_jpg.rf.7562d33f1f365fabf3db8226df66f579.jpg')"
   ]
  },
  {
   "cell_type": "code",
   "execution_count": 12,
   "metadata": {},
   "outputs": [
    {
     "name": "stdout",
     "output_type": "stream",
     "text": [
      "\n",
      "image 1/1 D:\\code\\drowsiness_detection_system\\data\\test\\images\\28_jpg.rf.7562d33f1f365fabf3db8226df66f579.jpg: 640x640 1 awake, 300.9ms\n",
      "Speed: 15.6ms preprocess, 300.9ms inference, 0.0ms postprocess per image at shape (1, 3, 640, 640)\n"
     ]
    }
   ],
   "source": [
    "results = model(img)"
   ]
  },
  {
   "cell_type": "code",
   "execution_count": 13,
   "metadata": {},
   "outputs": [],
   "source": [
    "results[0].show()"
   ]
  },
  {
   "cell_type": "markdown",
   "metadata": {},
   "source": [
    "# Step 4: Live Detection"
   ]
  },
  {
   "cell_type": "code",
   "execution_count": 21,
   "metadata": {},
   "outputs": [],
   "source": [
    "def object_detection(frame):\n",
    "    results = model(frame)\n",
    "    annotated_frame = results[0].plot()\n",
    "    return annotated_frame"
   ]
  },
  {
   "cell_type": "code",
   "execution_count": 24,
   "metadata": {
    "collapsed": true,
    "jupyter": {
     "outputs_hidden": true
    },
    "scrolled": true
   },
   "outputs": [
    {
     "name": "stdout",
     "output_type": "stream",
     "text": [
      "\n",
      "0: 480x640 1 awake, 150.0ms\n",
      "Speed: 1.0ms preprocess, 150.0ms inference, 1.0ms postprocess per image at shape (1, 3, 480, 640)\n",
      "\n",
      "0: 480x640 1 awake, 172.0ms\n",
      "Speed: 2.0ms preprocess, 172.0ms inference, 0.0ms postprocess per image at shape (1, 3, 480, 640)\n",
      "\n",
      "0: 480x640 1 awake, 152.0ms\n",
      "Speed: 1.0ms preprocess, 152.0ms inference, 0.0ms postprocess per image at shape (1, 3, 480, 640)\n",
      "\n",
      "0: 480x640 1 awake, 156.0ms\n",
      "Speed: 1.0ms preprocess, 156.0ms inference, 1.0ms postprocess per image at shape (1, 3, 480, 640)\n",
      "\n",
      "0: 480x640 1 awake, 150.0ms\n",
      "Speed: 2.0ms preprocess, 150.0ms inference, 1.0ms postprocess per image at shape (1, 3, 480, 640)\n",
      "\n",
      "0: 480x640 1 awake, 146.0ms\n",
      "Speed: 2.0ms preprocess, 146.0ms inference, 1.0ms postprocess per image at shape (1, 3, 480, 640)\n",
      "\n",
      "0: 480x640 1 awake, 148.0ms\n",
      "Speed: 1.0ms preprocess, 148.0ms inference, 0.0ms postprocess per image at shape (1, 3, 480, 640)\n",
      "\n",
      "0: 480x640 1 awake, 143.0ms\n",
      "Speed: 1.0ms preprocess, 143.0ms inference, 0.0ms postprocess per image at shape (1, 3, 480, 640)\n",
      "\n",
      "0: 480x640 1 awake, 149.0ms\n",
      "Speed: 1.0ms preprocess, 149.0ms inference, 0.0ms postprocess per image at shape (1, 3, 480, 640)\n",
      "\n",
      "0: 480x640 1 awake, 144.0ms\n",
      "Speed: 2.0ms preprocess, 144.0ms inference, 1.0ms postprocess per image at shape (1, 3, 480, 640)\n",
      "\n",
      "0: 480x640 1 awake, 145.0ms\n",
      "Speed: 1.0ms preprocess, 145.0ms inference, 1.0ms postprocess per image at shape (1, 3, 480, 640)\n",
      "\n",
      "0: 480x640 1 awake, 148.3ms\n",
      "Speed: 2.0ms preprocess, 148.3ms inference, 1.0ms postprocess per image at shape (1, 3, 480, 640)\n",
      "\n",
      "0: 480x640 1 awake, 144.0ms\n",
      "Speed: 1.0ms preprocess, 144.0ms inference, 1.0ms postprocess per image at shape (1, 3, 480, 640)\n",
      "\n",
      "0: 480x640 1 awake, 148.0ms\n",
      "Speed: 2.0ms preprocess, 148.0ms inference, 0.0ms postprocess per image at shape (1, 3, 480, 640)\n",
      "\n",
      "0: 480x640 1 awake, 150.6ms\n",
      "Speed: 1.0ms preprocess, 150.6ms inference, 0.0ms postprocess per image at shape (1, 3, 480, 640)\n",
      "\n",
      "0: 480x640 1 awake, 147.0ms\n",
      "Speed: 2.0ms preprocess, 147.0ms inference, 1.0ms postprocess per image at shape (1, 3, 480, 640)\n",
      "\n",
      "0: 480x640 1 awake, 143.0ms\n",
      "Speed: 2.0ms preprocess, 143.0ms inference, 0.0ms postprocess per image at shape (1, 3, 480, 640)\n",
      "\n",
      "0: 480x640 1 awake, 141.0ms\n",
      "Speed: 2.0ms preprocess, 141.0ms inference, 1.0ms postprocess per image at shape (1, 3, 480, 640)\n",
      "\n",
      "0: 480x640 1 awake, 136.0ms\n",
      "Speed: 2.0ms preprocess, 136.0ms inference, 1.0ms postprocess per image at shape (1, 3, 480, 640)\n",
      "\n",
      "0: 480x640 1 awake, 132.0ms\n",
      "Speed: 1.0ms preprocess, 132.0ms inference, 0.0ms postprocess per image at shape (1, 3, 480, 640)\n",
      "\n",
      "0: 480x640 1 awake, 127.0ms\n",
      "Speed: 3.0ms preprocess, 127.0ms inference, 1.0ms postprocess per image at shape (1, 3, 480, 640)\n",
      "\n",
      "0: 480x640 1 awake, 126.0ms\n",
      "Speed: 2.0ms preprocess, 126.0ms inference, 0.0ms postprocess per image at shape (1, 3, 480, 640)\n",
      "\n",
      "0: 480x640 1 awake, 129.0ms\n",
      "Speed: 1.0ms preprocess, 129.0ms inference, 1.0ms postprocess per image at shape (1, 3, 480, 640)\n",
      "\n",
      "0: 480x640 1 awake, 125.0ms\n",
      "Speed: 1.0ms preprocess, 125.0ms inference, 1.0ms postprocess per image at shape (1, 3, 480, 640)\n",
      "\n",
      "0: 480x640 1 awake, 131.0ms\n",
      "Speed: 1.0ms preprocess, 131.0ms inference, 1.0ms postprocess per image at shape (1, 3, 480, 640)\n",
      "\n",
      "0: 480x640 1 awake, 128.0ms\n",
      "Speed: 1.0ms preprocess, 128.0ms inference, 1.0ms postprocess per image at shape (1, 3, 480, 640)\n",
      "\n",
      "0: 480x640 1 awake, 133.0ms\n",
      "Speed: 1.0ms preprocess, 133.0ms inference, 0.0ms postprocess per image at shape (1, 3, 480, 640)\n",
      "\n",
      "0: 480x640 1 awake, 132.0ms\n",
      "Speed: 2.0ms preprocess, 132.0ms inference, 0.0ms postprocess per image at shape (1, 3, 480, 640)\n",
      "\n",
      "0: 480x640 1 awake, 129.0ms\n",
      "Speed: 2.0ms preprocess, 129.0ms inference, 0.0ms postprocess per image at shape (1, 3, 480, 640)\n",
      "\n",
      "0: 480x640 1 awake, 135.0ms\n",
      "Speed: 1.0ms preprocess, 135.0ms inference, 1.0ms postprocess per image at shape (1, 3, 480, 640)\n",
      "\n",
      "0: 480x640 1 awake, 133.0ms\n",
      "Speed: 2.0ms preprocess, 133.0ms inference, 0.0ms postprocess per image at shape (1, 3, 480, 640)\n",
      "\n",
      "0: 480x640 1 awake, 129.0ms\n",
      "Speed: 2.0ms preprocess, 129.0ms inference, 1.0ms postprocess per image at shape (1, 3, 480, 640)\n",
      "\n",
      "0: 480x640 1 awake, 132.0ms\n",
      "Speed: 2.0ms preprocess, 132.0ms inference, 0.0ms postprocess per image at shape (1, 3, 480, 640)\n",
      "\n",
      "0: 480x640 1 awake, 135.0ms\n",
      "Speed: 1.0ms preprocess, 135.0ms inference, 1.0ms postprocess per image at shape (1, 3, 480, 640)\n",
      "\n",
      "0: 480x640 1 awake, 133.0ms\n",
      "Speed: 2.0ms preprocess, 133.0ms inference, 0.0ms postprocess per image at shape (1, 3, 480, 640)\n",
      "\n",
      "0: 480x640 1 awake, 132.0ms\n",
      "Speed: 2.0ms preprocess, 132.0ms inference, 1.0ms postprocess per image at shape (1, 3, 480, 640)\n",
      "\n",
      "0: 480x640 1 awake, 127.0ms\n",
      "Speed: 2.0ms preprocess, 127.0ms inference, 2.0ms postprocess per image at shape (1, 3, 480, 640)\n",
      "\n",
      "0: 480x640 1 awake, 133.0ms\n",
      "Speed: 2.0ms preprocess, 133.0ms inference, 1.0ms postprocess per image at shape (1, 3, 480, 640)\n",
      "\n",
      "0: 480x640 1 awake, 133.0ms\n",
      "Speed: 1.0ms preprocess, 133.0ms inference, 1.0ms postprocess per image at shape (1, 3, 480, 640)\n",
      "\n",
      "0: 480x640 1 awake, 124.0ms\n",
      "Speed: 2.0ms preprocess, 124.0ms inference, 1.0ms postprocess per image at shape (1, 3, 480, 640)\n",
      "\n",
      "0: 480x640 1 awake, 133.0ms\n",
      "Speed: 2.0ms preprocess, 133.0ms inference, 1.0ms postprocess per image at shape (1, 3, 480, 640)\n",
      "\n",
      "0: 480x640 1 awake, 128.0ms\n",
      "Speed: 2.0ms preprocess, 128.0ms inference, 0.0ms postprocess per image at shape (1, 3, 480, 640)\n",
      "\n",
      "0: 480x640 1 awake, 128.0ms\n",
      "Speed: 2.0ms preprocess, 128.0ms inference, 1.0ms postprocess per image at shape (1, 3, 480, 640)\n",
      "\n",
      "0: 480x640 1 awake, 128.0ms\n",
      "Speed: 2.0ms preprocess, 128.0ms inference, 0.0ms postprocess per image at shape (1, 3, 480, 640)\n",
      "\n",
      "0: 480x640 1 awake, 122.0ms\n",
      "Speed: 2.0ms preprocess, 122.0ms inference, 1.0ms postprocess per image at shape (1, 3, 480, 640)\n",
      "\n",
      "0: 480x640 1 awake, 131.0ms\n",
      "Speed: 2.0ms preprocess, 131.0ms inference, 1.0ms postprocess per image at shape (1, 3, 480, 640)\n",
      "\n",
      "0: 480x640 1 awake, 133.0ms\n",
      "Speed: 2.0ms preprocess, 133.0ms inference, 1.0ms postprocess per image at shape (1, 3, 480, 640)\n",
      "\n",
      "0: 480x640 1 awake, 127.0ms\n",
      "Speed: 1.0ms preprocess, 127.0ms inference, 1.0ms postprocess per image at shape (1, 3, 480, 640)\n",
      "\n",
      "0: 480x640 1 awake, 132.0ms\n",
      "Speed: 1.0ms preprocess, 132.0ms inference, 0.0ms postprocess per image at shape (1, 3, 480, 640)\n",
      "\n",
      "0: 480x640 1 awake, 129.0ms\n",
      "Speed: 1.0ms preprocess, 129.0ms inference, 0.0ms postprocess per image at shape (1, 3, 480, 640)\n",
      "\n",
      "0: 480x640 1 awake, 126.0ms\n",
      "Speed: 2.0ms preprocess, 126.0ms inference, 1.0ms postprocess per image at shape (1, 3, 480, 640)\n",
      "\n",
      "0: 480x640 1 awake, 136.0ms\n",
      "Speed: 1.0ms preprocess, 136.0ms inference, 1.0ms postprocess per image at shape (1, 3, 480, 640)\n",
      "\n",
      "0: 480x640 1 awake, 129.0ms\n",
      "Speed: 2.0ms preprocess, 129.0ms inference, 1.0ms postprocess per image at shape (1, 3, 480, 640)\n",
      "\n",
      "0: 480x640 1 drowsy, 129.0ms\n",
      "Speed: 1.0ms preprocess, 129.0ms inference, 1.0ms postprocess per image at shape (1, 3, 480, 640)\n",
      "\n",
      "0: 480x640 1 awake, 1 drowsy, 128.0ms\n",
      "Speed: 1.0ms preprocess, 128.0ms inference, 1.0ms postprocess per image at shape (1, 3, 480, 640)\n",
      "\n",
      "0: 480x640 1 awake, 1 drowsy, 127.0ms\n",
      "Speed: 1.0ms preprocess, 127.0ms inference, 0.0ms postprocess per image at shape (1, 3, 480, 640)\n",
      "\n",
      "0: 480x640 1 drowsy, 130.0ms\n",
      "Speed: 2.0ms preprocess, 130.0ms inference, 1.0ms postprocess per image at shape (1, 3, 480, 640)\n",
      "\n",
      "0: 480x640 1 awake, 1 drowsy, 129.0ms\n",
      "Speed: 1.0ms preprocess, 129.0ms inference, 1.0ms postprocess per image at shape (1, 3, 480, 640)\n",
      "\n",
      "0: 480x640 1 awake, 1 drowsy, 125.0ms\n",
      "Speed: 1.0ms preprocess, 125.0ms inference, 1.0ms postprocess per image at shape (1, 3, 480, 640)\n",
      "\n",
      "0: 480x640 1 awake, 129.0ms\n",
      "Speed: 1.0ms preprocess, 129.0ms inference, 1.0ms postprocess per image at shape (1, 3, 480, 640)\n",
      "\n",
      "0: 480x640 1 awake, 127.0ms\n",
      "Speed: 2.0ms preprocess, 127.0ms inference, 0.0ms postprocess per image at shape (1, 3, 480, 640)\n",
      "\n",
      "0: 480x640 1 drowsy, 129.0ms\n",
      "Speed: 1.0ms preprocess, 129.0ms inference, 0.0ms postprocess per image at shape (1, 3, 480, 640)\n",
      "\n",
      "0: 480x640 1 drowsy, 129.0ms\n",
      "Speed: 2.0ms preprocess, 129.0ms inference, 1.0ms postprocess per image at shape (1, 3, 480, 640)\n",
      "\n",
      "0: 480x640 1 drowsy, 127.0ms\n",
      "Speed: 2.0ms preprocess, 127.0ms inference, 1.0ms postprocess per image at shape (1, 3, 480, 640)\n",
      "\n",
      "0: 480x640 1 drowsy, 127.0ms\n",
      "Speed: 2.0ms preprocess, 127.0ms inference, 1.0ms postprocess per image at shape (1, 3, 480, 640)\n",
      "\n",
      "0: 480x640 1 drowsy, 122.0ms\n",
      "Speed: 1.0ms preprocess, 122.0ms inference, 1.0ms postprocess per image at shape (1, 3, 480, 640)\n",
      "\n",
      "0: 480x640 1 drowsy, 126.0ms\n",
      "Speed: 2.0ms preprocess, 126.0ms inference, 1.0ms postprocess per image at shape (1, 3, 480, 640)\n",
      "\n",
      "0: 480x640 1 drowsy, 123.0ms\n",
      "Speed: 2.0ms preprocess, 123.0ms inference, 1.0ms postprocess per image at shape (1, 3, 480, 640)\n",
      "\n",
      "0: 480x640 1 awake, 126.0ms\n",
      "Speed: 1.0ms preprocess, 126.0ms inference, 1.0ms postprocess per image at shape (1, 3, 480, 640)\n",
      "\n",
      "0: 480x640 1 awake, 1 drowsy, 125.0ms\n",
      "Speed: 2.0ms preprocess, 125.0ms inference, 1.0ms postprocess per image at shape (1, 3, 480, 640)\n",
      "\n",
      "0: 480x640 1 awake, 134.0ms\n",
      "Speed: 2.0ms preprocess, 134.0ms inference, 1.0ms postprocess per image at shape (1, 3, 480, 640)\n",
      "\n",
      "0: 480x640 1 awake, 127.0ms\n",
      "Speed: 2.0ms preprocess, 127.0ms inference, 0.0ms postprocess per image at shape (1, 3, 480, 640)\n",
      "\n",
      "0: 480x640 1 awake, 119.0ms\n",
      "Speed: 1.0ms preprocess, 119.0ms inference, 0.0ms postprocess per image at shape (1, 3, 480, 640)\n",
      "\n",
      "0: 480x640 1 awake, 124.0ms\n",
      "Speed: 1.0ms preprocess, 124.0ms inference, 0.0ms postprocess per image at shape (1, 3, 480, 640)\n",
      "\n",
      "0: 480x640 1 awake, 126.0ms\n",
      "Speed: 1.0ms preprocess, 126.0ms inference, 1.0ms postprocess per image at shape (1, 3, 480, 640)\n",
      "\n",
      "0: 480x640 1 awake, 130.0ms\n",
      "Speed: 1.0ms preprocess, 130.0ms inference, 1.0ms postprocess per image at shape (1, 3, 480, 640)\n",
      "\n",
      "0: 480x640 1 awake, 1 drowsy, 126.0ms\n",
      "Speed: 1.0ms preprocess, 126.0ms inference, 1.0ms postprocess per image at shape (1, 3, 480, 640)\n",
      "\n",
      "0: 480x640 1 awake, 130.0ms\n",
      "Speed: 1.0ms preprocess, 130.0ms inference, 0.0ms postprocess per image at shape (1, 3, 480, 640)\n",
      "\n",
      "0: 480x640 1 awake, 124.0ms\n",
      "Speed: 2.0ms preprocess, 124.0ms inference, 1.0ms postprocess per image at shape (1, 3, 480, 640)\n",
      "\n",
      "0: 480x640 1 awake, 132.0ms\n",
      "Speed: 1.0ms preprocess, 132.0ms inference, 1.0ms postprocess per image at shape (1, 3, 480, 640)\n",
      "\n",
      "0: 480x640 1 awake, 124.0ms\n",
      "Speed: 1.0ms preprocess, 124.0ms inference, 0.0ms postprocess per image at shape (1, 3, 480, 640)\n",
      "\n",
      "0: 480x640 1 awake, 125.0ms\n",
      "Speed: 1.0ms preprocess, 125.0ms inference, 1.0ms postprocess per image at shape (1, 3, 480, 640)\n",
      "\n",
      "0: 480x640 1 awake, 128.0ms\n",
      "Speed: 1.0ms preprocess, 128.0ms inference, 1.0ms postprocess per image at shape (1, 3, 480, 640)\n",
      "\n",
      "0: 480x640 1 awake, 128.0ms\n",
      "Speed: 1.0ms preprocess, 128.0ms inference, 1.0ms postprocess per image at shape (1, 3, 480, 640)\n",
      "\n",
      "0: 480x640 1 awake, 126.0ms\n",
      "Speed: 1.0ms preprocess, 126.0ms inference, 1.0ms postprocess per image at shape (1, 3, 480, 640)\n",
      "\n",
      "0: 480x640 1 drowsy, 129.0ms\n",
      "Speed: 1.0ms preprocess, 129.0ms inference, 1.0ms postprocess per image at shape (1, 3, 480, 640)\n",
      "\n",
      "0: 480x640 1 drowsy, 129.1ms\n",
      "Speed: 3.0ms preprocess, 129.1ms inference, 1.0ms postprocess per image at shape (1, 3, 480, 640)\n",
      "\n",
      "0: 480x640 1 drowsy, 136.0ms\n",
      "Speed: 1.0ms preprocess, 136.0ms inference, 1.0ms postprocess per image at shape (1, 3, 480, 640)\n",
      "\n",
      "0: 480x640 1 drowsy, 124.0ms\n",
      "Speed: 1.0ms preprocess, 124.0ms inference, 0.0ms postprocess per image at shape (1, 3, 480, 640)\n",
      "\n",
      "0: 480x640 1 drowsy, 130.0ms\n",
      "Speed: 1.0ms preprocess, 130.0ms inference, 1.0ms postprocess per image at shape (1, 3, 480, 640)\n",
      "\n",
      "0: 480x640 1 drowsy, 122.0ms\n",
      "Speed: 1.0ms preprocess, 122.0ms inference, 1.0ms postprocess per image at shape (1, 3, 480, 640)\n",
      "\n",
      "0: 480x640 1 drowsy, 124.0ms\n",
      "Speed: 1.0ms preprocess, 124.0ms inference, 1.0ms postprocess per image at shape (1, 3, 480, 640)\n",
      "\n",
      "0: 480x640 1 drowsy, 129.0ms\n",
      "Speed: 1.0ms preprocess, 129.0ms inference, 1.0ms postprocess per image at shape (1, 3, 480, 640)\n",
      "\n",
      "0: 480x640 1 drowsy, 129.0ms\n",
      "Speed: 1.0ms preprocess, 129.0ms inference, 1.0ms postprocess per image at shape (1, 3, 480, 640)\n",
      "\n",
      "0: 480x640 1 drowsy, 131.0ms\n",
      "Speed: 1.0ms preprocess, 131.0ms inference, 0.0ms postprocess per image at shape (1, 3, 480, 640)\n",
      "\n",
      "0: 480x640 1 drowsy, 128.0ms\n",
      "Speed: 2.0ms preprocess, 128.0ms inference, 0.0ms postprocess per image at shape (1, 3, 480, 640)\n",
      "\n",
      "0: 480x640 1 awake, 1 drowsy, 131.0ms\n",
      "Speed: 2.0ms preprocess, 131.0ms inference, 1.0ms postprocess per image at shape (1, 3, 480, 640)\n",
      "\n",
      "0: 480x640 1 drowsy, 126.0ms\n",
      "Speed: 1.0ms preprocess, 126.0ms inference, 0.0ms postprocess per image at shape (1, 3, 480, 640)\n",
      "\n",
      "0: 480x640 1 drowsy, 124.0ms\n",
      "Speed: 2.0ms preprocess, 124.0ms inference, 0.0ms postprocess per image at shape (1, 3, 480, 640)\n",
      "\n",
      "0: 480x640 1 drowsy, 128.0ms\n",
      "Speed: 1.0ms preprocess, 128.0ms inference, 1.0ms postprocess per image at shape (1, 3, 480, 640)\n",
      "\n",
      "0: 480x640 1 awake, 124.0ms\n",
      "Speed: 2.0ms preprocess, 124.0ms inference, 1.0ms postprocess per image at shape (1, 3, 480, 640)\n",
      "\n",
      "0: 480x640 1 awake, 130.0ms\n",
      "Speed: 1.0ms preprocess, 130.0ms inference, 1.0ms postprocess per image at shape (1, 3, 480, 640)\n",
      "\n",
      "0: 480x640 1 awake, 132.0ms\n",
      "Speed: 2.0ms preprocess, 132.0ms inference, 1.0ms postprocess per image at shape (1, 3, 480, 640)\n",
      "\n",
      "0: 480x640 1 awake, 125.0ms\n",
      "Speed: 1.0ms preprocess, 125.0ms inference, 1.0ms postprocess per image at shape (1, 3, 480, 640)\n",
      "\n",
      "0: 480x640 1 awake, 130.0ms\n",
      "Speed: 2.0ms preprocess, 130.0ms inference, 1.0ms postprocess per image at shape (1, 3, 480, 640)\n",
      "\n",
      "0: 480x640 1 awake, 127.0ms\n",
      "Speed: 1.0ms preprocess, 127.0ms inference, 1.0ms postprocess per image at shape (1, 3, 480, 640)\n",
      "\n",
      "0: 480x640 1 awake, 122.0ms\n",
      "Speed: 2.0ms preprocess, 122.0ms inference, 1.0ms postprocess per image at shape (1, 3, 480, 640)\n",
      "\n",
      "0: 480x640 1 awake, 122.0ms\n",
      "Speed: 2.0ms preprocess, 122.0ms inference, 1.0ms postprocess per image at shape (1, 3, 480, 640)\n",
      "\n",
      "0: 480x640 1 awake, 129.0ms\n",
      "Speed: 2.0ms preprocess, 129.0ms inference, 0.0ms postprocess per image at shape (1, 3, 480, 640)\n",
      "\n",
      "0: 480x640 1 awake, 131.0ms\n",
      "Speed: 1.0ms preprocess, 131.0ms inference, 1.0ms postprocess per image at shape (1, 3, 480, 640)\n",
      "\n",
      "0: 480x640 1 awake, 122.0ms\n",
      "Speed: 2.0ms preprocess, 122.0ms inference, 0.0ms postprocess per image at shape (1, 3, 480, 640)\n",
      "\n",
      "0: 480x640 1 awake, 125.0ms\n",
      "Speed: 1.0ms preprocess, 125.0ms inference, 1.0ms postprocess per image at shape (1, 3, 480, 640)\n",
      "\n",
      "0: 480x640 1 awake, 127.0ms\n",
      "Speed: 1.0ms preprocess, 127.0ms inference, 0.0ms postprocess per image at shape (1, 3, 480, 640)\n",
      "\n",
      "0: 480x640 1 awake, 126.0ms\n",
      "Speed: 1.0ms preprocess, 126.0ms inference, 1.0ms postprocess per image at shape (1, 3, 480, 640)\n",
      "\n",
      "0: 480x640 1 awake, 131.0ms\n",
      "Speed: 2.0ms preprocess, 131.0ms inference, 1.0ms postprocess per image at shape (1, 3, 480, 640)\n",
      "\n",
      "0: 480x640 1 awake, 128.0ms\n",
      "Speed: 2.0ms preprocess, 128.0ms inference, 1.0ms postprocess per image at shape (1, 3, 480, 640)\n",
      "\n",
      "0: 480x640 1 awake, 125.0ms\n",
      "Speed: 2.0ms preprocess, 125.0ms inference, 1.0ms postprocess per image at shape (1, 3, 480, 640)\n",
      "\n",
      "0: 480x640 1 awake, 125.0ms\n",
      "Speed: 1.0ms preprocess, 125.0ms inference, 0.0ms postprocess per image at shape (1, 3, 480, 640)\n",
      "\n",
      "0: 480x640 1 awake, 129.0ms\n",
      "Speed: 2.0ms preprocess, 129.0ms inference, 1.0ms postprocess per image at shape (1, 3, 480, 640)\n",
      "\n",
      "0: 480x640 1 awake, 128.0ms\n",
      "Speed: 1.0ms preprocess, 128.0ms inference, 1.0ms postprocess per image at shape (1, 3, 480, 640)\n",
      "\n",
      "0: 480x640 1 awake, 122.0ms\n",
      "Speed: 1.0ms preprocess, 122.0ms inference, 0.0ms postprocess per image at shape (1, 3, 480, 640)\n",
      "\n",
      "0: 480x640 1 awake, 124.0ms\n",
      "Speed: 1.0ms preprocess, 124.0ms inference, 1.0ms postprocess per image at shape (1, 3, 480, 640)\n",
      "\n",
      "0: 480x640 1 awake, 125.0ms\n",
      "Speed: 2.0ms preprocess, 125.0ms inference, 1.0ms postprocess per image at shape (1, 3, 480, 640)\n",
      "\n",
      "0: 480x640 1 awake, 122.0ms\n",
      "Speed: 2.0ms preprocess, 122.0ms inference, 1.0ms postprocess per image at shape (1, 3, 480, 640)\n",
      "\n",
      "0: 480x640 1 awake, 129.0ms\n",
      "Speed: 2.0ms preprocess, 129.0ms inference, 0.0ms postprocess per image at shape (1, 3, 480, 640)\n",
      "\n",
      "0: 480x640 1 awake, 122.0ms\n",
      "Speed: 2.0ms preprocess, 122.0ms inference, 1.0ms postprocess per image at shape (1, 3, 480, 640)\n",
      "\n",
      "0: 480x640 1 awake, 126.0ms\n",
      "Speed: 2.0ms preprocess, 126.0ms inference, 1.0ms postprocess per image at shape (1, 3, 480, 640)\n",
      "\n",
      "0: 480x640 1 awake, 127.0ms\n",
      "Speed: 2.0ms preprocess, 127.0ms inference, 1.0ms postprocess per image at shape (1, 3, 480, 640)\n",
      "\n",
      "0: 480x640 1 awake, 130.0ms\n",
      "Speed: 2.0ms preprocess, 130.0ms inference, 0.0ms postprocess per image at shape (1, 3, 480, 640)\n",
      "\n",
      "0: 480x640 1 awake, 129.0ms\n",
      "Speed: 1.0ms preprocess, 129.0ms inference, 0.0ms postprocess per image at shape (1, 3, 480, 640)\n",
      "\n",
      "0: 480x640 1 awake, 128.0ms\n",
      "Speed: 1.0ms preprocess, 128.0ms inference, 1.0ms postprocess per image at shape (1, 3, 480, 640)\n",
      "\n",
      "0: 480x640 1 awake, 117.0ms\n",
      "Speed: 2.0ms preprocess, 117.0ms inference, 1.0ms postprocess per image at shape (1, 3, 480, 640)\n",
      "\n",
      "0: 480x640 1 awake, 126.0ms\n",
      "Speed: 1.0ms preprocess, 126.0ms inference, 0.0ms postprocess per image at shape (1, 3, 480, 640)\n",
      "\n",
      "0: 480x640 1 awake, 125.0ms\n",
      "Speed: 1.0ms preprocess, 125.0ms inference, 1.0ms postprocess per image at shape (1, 3, 480, 640)\n",
      "\n",
      "0: 480x640 1 awake, 134.0ms\n",
      "Speed: 1.0ms preprocess, 134.0ms inference, 0.0ms postprocess per image at shape (1, 3, 480, 640)\n",
      "\n",
      "0: 480x640 1 awake, 127.0ms\n",
      "Speed: 1.0ms preprocess, 127.0ms inference, 0.0ms postprocess per image at shape (1, 3, 480, 640)\n",
      "\n",
      "0: 480x640 1 awake, 129.0ms\n",
      "Speed: 1.0ms preprocess, 129.0ms inference, 1.0ms postprocess per image at shape (1, 3, 480, 640)\n",
      "\n",
      "0: 480x640 1 awake, 130.0ms\n",
      "Speed: 1.0ms preprocess, 130.0ms inference, 1.0ms postprocess per image at shape (1, 3, 480, 640)\n",
      "\n",
      "0: 480x640 1 awake, 130.0ms\n",
      "Speed: 2.0ms preprocess, 130.0ms inference, 1.0ms postprocess per image at shape (1, 3, 480, 640)\n",
      "\n",
      "0: 480x640 1 awake, 128.0ms\n",
      "Speed: 1.0ms preprocess, 128.0ms inference, 1.0ms postprocess per image at shape (1, 3, 480, 640)\n",
      "\n",
      "0: 480x640 1 awake, 125.0ms\n",
      "Speed: 2.0ms preprocess, 125.0ms inference, 0.0ms postprocess per image at shape (1, 3, 480, 640)\n",
      "\n",
      "0: 480x640 1 awake, 128.0ms\n",
      "Speed: 1.0ms preprocess, 128.0ms inference, 0.0ms postprocess per image at shape (1, 3, 480, 640)\n",
      "\n",
      "0: 480x640 1 awake, 120.0ms\n",
      "Speed: 1.0ms preprocess, 120.0ms inference, 1.0ms postprocess per image at shape (1, 3, 480, 640)\n",
      "\n",
      "0: 480x640 1 awake, 125.0ms\n",
      "Speed: 2.0ms preprocess, 125.0ms inference, 1.0ms postprocess per image at shape (1, 3, 480, 640)\n",
      "\n",
      "0: 480x640 1 awake, 122.0ms\n",
      "Speed: 1.0ms preprocess, 122.0ms inference, 1.0ms postprocess per image at shape (1, 3, 480, 640)\n",
      "\n",
      "0: 480x640 1 awake, 127.0ms\n",
      "Speed: 2.0ms preprocess, 127.0ms inference, 1.0ms postprocess per image at shape (1, 3, 480, 640)\n",
      "\n",
      "0: 480x640 1 awake, 122.0ms\n",
      "Speed: 1.0ms preprocess, 122.0ms inference, 1.0ms postprocess per image at shape (1, 3, 480, 640)\n",
      "\n",
      "0: 480x640 1 awake, 131.0ms\n",
      "Speed: 2.0ms preprocess, 131.0ms inference, 1.0ms postprocess per image at shape (1, 3, 480, 640)\n",
      "\n",
      "0: 480x640 1 awake, 125.0ms\n",
      "Speed: 2.0ms preprocess, 125.0ms inference, 1.0ms postprocess per image at shape (1, 3, 480, 640)\n",
      "\n",
      "0: 480x640 1 awake, 124.0ms\n",
      "Speed: 1.0ms preprocess, 124.0ms inference, 1.0ms postprocess per image at shape (1, 3, 480, 640)\n",
      "\n",
      "0: 480x640 2 awakes, 125.0ms\n",
      "Speed: 2.0ms preprocess, 125.0ms inference, 1.0ms postprocess per image at shape (1, 3, 480, 640)\n",
      "\n",
      "0: 480x640 1 awake, 127.0ms\n",
      "Speed: 2.0ms preprocess, 127.0ms inference, 1.0ms postprocess per image at shape (1, 3, 480, 640)\n",
      "\n",
      "0: 480x640 2 awakes, 126.0ms\n",
      "Speed: 2.0ms preprocess, 126.0ms inference, 1.0ms postprocess per image at shape (1, 3, 480, 640)\n",
      "\n",
      "0: 480x640 1 awake, 126.0ms\n",
      "Speed: 1.0ms preprocess, 126.0ms inference, 1.0ms postprocess per image at shape (1, 3, 480, 640)\n",
      "\n",
      "0: 480x640 1 awake, 125.0ms\n",
      "Speed: 1.0ms preprocess, 125.0ms inference, 1.0ms postprocess per image at shape (1, 3, 480, 640)\n",
      "\n",
      "0: 480x640 2 awakes, 122.0ms\n",
      "Speed: 1.0ms preprocess, 122.0ms inference, 0.0ms postprocess per image at shape (1, 3, 480, 640)\n",
      "\n",
      "0: 480x640 2 awakes, 129.0ms\n",
      "Speed: 1.0ms preprocess, 129.0ms inference, 1.0ms postprocess per image at shape (1, 3, 480, 640)\n",
      "\n",
      "0: 480x640 1 awake, 133.0ms\n",
      "Speed: 2.0ms preprocess, 133.0ms inference, 1.0ms postprocess per image at shape (1, 3, 480, 640)\n",
      "\n",
      "0: 480x640 1 awake, 127.0ms\n",
      "Speed: 2.0ms preprocess, 127.0ms inference, 1.0ms postprocess per image at shape (1, 3, 480, 640)\n",
      "\n",
      "0: 480x640 1 awake, 133.0ms\n",
      "Speed: 2.0ms preprocess, 133.0ms inference, 0.0ms postprocess per image at shape (1, 3, 480, 640)\n",
      "\n",
      "0: 480x640 1 awake, 129.0ms\n",
      "Speed: 1.0ms preprocess, 129.0ms inference, 1.0ms postprocess per image at shape (1, 3, 480, 640)\n",
      "\n",
      "0: 480x640 1 awake, 128.9ms\n",
      "Speed: 1.0ms preprocess, 128.9ms inference, 0.0ms postprocess per image at shape (1, 3, 480, 640)\n",
      "\n",
      "0: 480x640 1 awake, 127.5ms\n",
      "Speed: 1.0ms preprocess, 127.5ms inference, 1.0ms postprocess per image at shape (1, 3, 480, 640)\n",
      "\n",
      "0: 480x640 1 awake, 126.0ms\n",
      "Speed: 1.0ms preprocess, 126.0ms inference, 1.0ms postprocess per image at shape (1, 3, 480, 640)\n",
      "\n",
      "0: 480x640 1 awake, 134.0ms\n",
      "Speed: 1.0ms preprocess, 134.0ms inference, 1.0ms postprocess per image at shape (1, 3, 480, 640)\n",
      "\n",
      "0: 480x640 1 awake, 134.0ms\n",
      "Speed: 1.0ms preprocess, 134.0ms inference, 0.0ms postprocess per image at shape (1, 3, 480, 640)\n",
      "\n",
      "0: 480x640 1 awake, 127.0ms\n",
      "Speed: 1.0ms preprocess, 127.0ms inference, 1.0ms postprocess per image at shape (1, 3, 480, 640)\n",
      "\n",
      "0: 480x640 1 awake, 125.0ms\n",
      "Speed: 1.0ms preprocess, 125.0ms inference, 1.0ms postprocess per image at shape (1, 3, 480, 640)\n",
      "\n",
      "0: 480x640 1 awake, 129.0ms\n",
      "Speed: 1.0ms preprocess, 129.0ms inference, 0.0ms postprocess per image at shape (1, 3, 480, 640)\n",
      "\n",
      "0: 480x640 1 awake, 124.0ms\n",
      "Speed: 2.0ms preprocess, 124.0ms inference, 1.0ms postprocess per image at shape (1, 3, 480, 640)\n",
      "\n",
      "0: 480x640 1 awake, 127.0ms\n",
      "Speed: 2.0ms preprocess, 127.0ms inference, 1.0ms postprocess per image at shape (1, 3, 480, 640)\n",
      "\n",
      "0: 480x640 1 awake, 125.0ms\n",
      "Speed: 2.0ms preprocess, 125.0ms inference, 1.0ms postprocess per image at shape (1, 3, 480, 640)\n",
      "\n",
      "0: 480x640 1 awake, 120.0ms\n",
      "Speed: 1.0ms preprocess, 120.0ms inference, 1.0ms postprocess per image at shape (1, 3, 480, 640)\n",
      "\n",
      "0: 480x640 1 awake, 131.0ms\n",
      "Speed: 2.0ms preprocess, 131.0ms inference, 1.0ms postprocess per image at shape (1, 3, 480, 640)\n",
      "\n",
      "0: 480x640 1 awake, 129.0ms\n",
      "Speed: 1.0ms preprocess, 129.0ms inference, 1.0ms postprocess per image at shape (1, 3, 480, 640)\n",
      "\n",
      "0: 480x640 1 awake, 125.0ms\n",
      "Speed: 1.0ms preprocess, 125.0ms inference, 1.0ms postprocess per image at shape (1, 3, 480, 640)\n",
      "\n",
      "0: 480x640 1 awake, 126.0ms\n",
      "Speed: 1.0ms preprocess, 126.0ms inference, 1.0ms postprocess per image at shape (1, 3, 480, 640)\n",
      "\n",
      "0: 480x640 1 awake, 125.0ms\n",
      "Speed: 2.0ms preprocess, 125.0ms inference, 0.0ms postprocess per image at shape (1, 3, 480, 640)\n",
      "\n",
      "0: 480x640 1 awake, 123.0ms\n",
      "Speed: 1.0ms preprocess, 123.0ms inference, 0.0ms postprocess per image at shape (1, 3, 480, 640)\n",
      "\n",
      "0: 480x640 1 awake, 130.0ms\n",
      "Speed: 1.0ms preprocess, 130.0ms inference, 1.0ms postprocess per image at shape (1, 3, 480, 640)\n",
      "\n",
      "0: 480x640 1 awake, 125.0ms\n",
      "Speed: 2.0ms preprocess, 125.0ms inference, 1.0ms postprocess per image at shape (1, 3, 480, 640)\n",
      "\n",
      "0: 480x640 1 awake, 123.0ms\n",
      "Speed: 2.0ms preprocess, 123.0ms inference, 1.0ms postprocess per image at shape (1, 3, 480, 640)\n",
      "\n",
      "0: 480x640 1 awake, 130.0ms\n",
      "Speed: 1.0ms preprocess, 130.0ms inference, 0.0ms postprocess per image at shape (1, 3, 480, 640)\n",
      "\n",
      "0: 480x640 1 awake, 131.0ms\n",
      "Speed: 1.0ms preprocess, 131.0ms inference, 1.0ms postprocess per image at shape (1, 3, 480, 640)\n",
      "\n",
      "0: 480x640 1 awake, 125.0ms\n",
      "Speed: 1.0ms preprocess, 125.0ms inference, 1.0ms postprocess per image at shape (1, 3, 480, 640)\n",
      "\n",
      "0: 480x640 1 awake, 125.0ms\n",
      "Speed: 1.0ms preprocess, 125.0ms inference, 0.0ms postprocess per image at shape (1, 3, 480, 640)\n",
      "\n",
      "0: 480x640 1 awake, 133.0ms\n",
      "Speed: 2.0ms preprocess, 133.0ms inference, 0.0ms postprocess per image at shape (1, 3, 480, 640)\n",
      "\n",
      "0: 480x640 1 awake, 125.0ms\n",
      "Speed: 2.0ms preprocess, 125.0ms inference, 1.0ms postprocess per image at shape (1, 3, 480, 640)\n",
      "\n",
      "0: 480x640 1 awake, 129.0ms\n",
      "Speed: 2.0ms preprocess, 129.0ms inference, 1.0ms postprocess per image at shape (1, 3, 480, 640)\n",
      "\n",
      "0: 480x640 1 awake, 124.0ms\n",
      "Speed: 2.0ms preprocess, 124.0ms inference, 1.0ms postprocess per image at shape (1, 3, 480, 640)\n",
      "\n",
      "0: 480x640 1 awake, 130.0ms\n",
      "Speed: 2.0ms preprocess, 130.0ms inference, 1.0ms postprocess per image at shape (1, 3, 480, 640)\n",
      "\n",
      "0: 480x640 1 awake, 127.0ms\n",
      "Speed: 1.0ms preprocess, 127.0ms inference, 1.0ms postprocess per image at shape (1, 3, 480, 640)\n",
      "\n",
      "0: 480x640 1 awake, 119.0ms\n",
      "Speed: 2.0ms preprocess, 119.0ms inference, 1.0ms postprocess per image at shape (1, 3, 480, 640)\n",
      "\n",
      "0: 480x640 1 awake, 125.0ms\n",
      "Speed: 2.0ms preprocess, 125.0ms inference, 1.0ms postprocess per image at shape (1, 3, 480, 640)\n",
      "\n",
      "0: 480x640 1 awake, 127.0ms\n",
      "Speed: 2.0ms preprocess, 127.0ms inference, 0.0ms postprocess per image at shape (1, 3, 480, 640)\n",
      "\n",
      "0: 480x640 1 awake, 126.0ms\n",
      "Speed: 1.0ms preprocess, 126.0ms inference, 0.0ms postprocess per image at shape (1, 3, 480, 640)\n",
      "\n",
      "0: 480x640 1 awake, 124.0ms\n",
      "Speed: 1.0ms preprocess, 124.0ms inference, 1.0ms postprocess per image at shape (1, 3, 480, 640)\n",
      "\n",
      "0: 480x640 1 awake, 129.0ms\n",
      "Speed: 2.0ms preprocess, 129.0ms inference, 0.0ms postprocess per image at shape (1, 3, 480, 640)\n",
      "\n",
      "0: 480x640 1 awake, 123.0ms\n",
      "Speed: 2.0ms preprocess, 123.0ms inference, 1.0ms postprocess per image at shape (1, 3, 480, 640)\n",
      "\n",
      "0: 480x640 1 awake, 132.0ms\n",
      "Speed: 2.0ms preprocess, 132.0ms inference, 1.0ms postprocess per image at shape (1, 3, 480, 640)\n",
      "\n",
      "0: 480x640 1 awake, 124.0ms\n",
      "Speed: 2.0ms preprocess, 124.0ms inference, 1.0ms postprocess per image at shape (1, 3, 480, 640)\n",
      "\n",
      "0: 480x640 1 awake, 131.0ms\n",
      "Speed: 2.0ms preprocess, 131.0ms inference, 1.0ms postprocess per image at shape (1, 3, 480, 640)\n",
      "\n",
      "0: 480x640 1 awake, 127.0ms\n",
      "Speed: 1.0ms preprocess, 127.0ms inference, 1.0ms postprocess per image at shape (1, 3, 480, 640)\n",
      "\n",
      "0: 480x640 1 awake, 127.0ms\n",
      "Speed: 1.0ms preprocess, 127.0ms inference, 0.0ms postprocess per image at shape (1, 3, 480, 640)\n",
      "\n",
      "0: 480x640 1 awake, 126.0ms\n",
      "Speed: 2.0ms preprocess, 126.0ms inference, 1.0ms postprocess per image at shape (1, 3, 480, 640)\n",
      "\n",
      "0: 480x640 1 awake, 127.0ms\n",
      "Speed: 2.0ms preprocess, 127.0ms inference, 1.0ms postprocess per image at shape (1, 3, 480, 640)\n",
      "\n",
      "0: 480x640 (no detections), 128.0ms\n",
      "Speed: 2.0ms preprocess, 128.0ms inference, 1.0ms postprocess per image at shape (1, 3, 480, 640)\n",
      "\n",
      "0: 480x640 1 awake, 128.0ms\n",
      "Speed: 1.0ms preprocess, 128.0ms inference, 1.0ms postprocess per image at shape (1, 3, 480, 640)\n",
      "\n",
      "0: 480x640 1 awake, 123.0ms\n",
      "Speed: 1.0ms preprocess, 123.0ms inference, 1.0ms postprocess per image at shape (1, 3, 480, 640)\n",
      "\n",
      "0: 480x640 1 awake, 121.0ms\n",
      "Speed: 1.0ms preprocess, 121.0ms inference, 1.0ms postprocess per image at shape (1, 3, 480, 640)\n",
      "\n",
      "0: 480x640 1 awake, 124.0ms\n",
      "Speed: 1.0ms preprocess, 124.0ms inference, 1.0ms postprocess per image at shape (1, 3, 480, 640)\n",
      "\n",
      "0: 480x640 1 awake, 130.0ms\n",
      "Speed: 1.0ms preprocess, 130.0ms inference, 0.0ms postprocess per image at shape (1, 3, 480, 640)\n",
      "\n",
      "0: 480x640 1 awake, 129.0ms\n",
      "Speed: 2.0ms preprocess, 129.0ms inference, 1.0ms postprocess per image at shape (1, 3, 480, 640)\n",
      "\n",
      "0: 480x640 1 awake, 126.0ms\n",
      "Speed: 2.0ms preprocess, 126.0ms inference, 1.0ms postprocess per image at shape (1, 3, 480, 640)\n",
      "\n",
      "0: 480x640 1 awake, 125.0ms\n",
      "Speed: 1.0ms preprocess, 125.0ms inference, 1.0ms postprocess per image at shape (1, 3, 480, 640)\n",
      "\n",
      "0: 480x640 1 awake, 1 drowsy, 122.0ms\n",
      "Speed: 2.0ms preprocess, 122.0ms inference, 1.0ms postprocess per image at shape (1, 3, 480, 640)\n",
      "\n",
      "0: 480x640 1 awake, 1 drowsy, 127.0ms\n",
      "Speed: 2.0ms preprocess, 127.0ms inference, 1.0ms postprocess per image at shape (1, 3, 480, 640)\n",
      "\n",
      "0: 480x640 1 awake, 132.0ms\n",
      "Speed: 1.0ms preprocess, 132.0ms inference, 1.0ms postprocess per image at shape (1, 3, 480, 640)\n",
      "\n",
      "0: 480x640 1 awake, 1 drowsy, 129.0ms\n",
      "Speed: 1.0ms preprocess, 129.0ms inference, 1.0ms postprocess per image at shape (1, 3, 480, 640)\n",
      "\n",
      "0: 480x640 1 awake, 128.0ms\n",
      "Speed: 1.0ms preprocess, 128.0ms inference, 1.0ms postprocess per image at shape (1, 3, 480, 640)\n",
      "\n",
      "0: 480x640 1 awake, 1 drowsy, 120.0ms\n",
      "Speed: 2.0ms preprocess, 120.0ms inference, 1.0ms postprocess per image at shape (1, 3, 480, 640)\n",
      "\n",
      "0: 480x640 1 awake, 127.0ms\n",
      "Speed: 2.0ms preprocess, 127.0ms inference, 1.0ms postprocess per image at shape (1, 3, 480, 640)\n",
      "\n",
      "0: 480x640 1 awake, 123.0ms\n",
      "Speed: 1.0ms preprocess, 123.0ms inference, 1.0ms postprocess per image at shape (1, 3, 480, 640)\n",
      "\n",
      "0: 480x640 1 awake, 1 drowsy, 130.0ms\n",
      "Speed: 1.0ms preprocess, 130.0ms inference, 1.0ms postprocess per image at shape (1, 3, 480, 640)\n",
      "\n",
      "0: 480x640 1 awake, 124.0ms\n",
      "Speed: 1.0ms preprocess, 124.0ms inference, 1.0ms postprocess per image at shape (1, 3, 480, 640)\n",
      "\n",
      "0: 480x640 1 awake, 124.0ms\n",
      "Speed: 1.0ms preprocess, 124.0ms inference, 1.0ms postprocess per image at shape (1, 3, 480, 640)\n",
      "\n",
      "0: 480x640 1 awake, 1 drowsy, 124.0ms\n",
      "Speed: 1.0ms preprocess, 124.0ms inference, 1.0ms postprocess per image at shape (1, 3, 480, 640)\n",
      "\n",
      "0: 480x640 1 awake, 1 drowsy, 127.0ms\n",
      "Speed: 1.0ms preprocess, 127.0ms inference, 1.0ms postprocess per image at shape (1, 3, 480, 640)\n",
      "\n",
      "0: 480x640 1 drowsy, 128.0ms\n",
      "Speed: 2.0ms preprocess, 128.0ms inference, 0.0ms postprocess per image at shape (1, 3, 480, 640)\n",
      "\n",
      "0: 480x640 1 drowsy, 121.1ms\n",
      "Speed: 2.0ms preprocess, 121.1ms inference, 1.0ms postprocess per image at shape (1, 3, 480, 640)\n",
      "\n",
      "0: 480x640 1 drowsy, 130.0ms\n",
      "Speed: 2.0ms preprocess, 130.0ms inference, 1.0ms postprocess per image at shape (1, 3, 480, 640)\n",
      "\n",
      "0: 480x640 1 drowsy, 131.0ms\n",
      "Speed: 1.0ms preprocess, 131.0ms inference, 1.0ms postprocess per image at shape (1, 3, 480, 640)\n",
      "\n",
      "0: 480x640 1 drowsy, 124.0ms\n",
      "Speed: 2.0ms preprocess, 124.0ms inference, 1.0ms postprocess per image at shape (1, 3, 480, 640)\n",
      "\n",
      "0: 480x640 1 drowsy, 130.4ms\n",
      "Speed: 2.0ms preprocess, 130.4ms inference, 1.0ms postprocess per image at shape (1, 3, 480, 640)\n",
      "\n",
      "0: 480x640 1 drowsy, 129.0ms\n",
      "Speed: 1.0ms preprocess, 129.0ms inference, 1.0ms postprocess per image at shape (1, 3, 480, 640)\n",
      "\n",
      "0: 480x640 1 drowsy, 122.0ms\n",
      "Speed: 1.0ms preprocess, 122.0ms inference, 1.0ms postprocess per image at shape (1, 3, 480, 640)\n",
      "\n",
      "0: 480x640 1 drowsy, 127.0ms\n",
      "Speed: 1.0ms preprocess, 127.0ms inference, 1.0ms postprocess per image at shape (1, 3, 480, 640)\n",
      "\n",
      "0: 480x640 1 awake, 1 drowsy, 128.0ms\n",
      "Speed: 2.0ms preprocess, 128.0ms inference, 1.0ms postprocess per image at shape (1, 3, 480, 640)\n",
      "\n",
      "0: 480x640 1 awake, 129.0ms\n",
      "Speed: 2.0ms preprocess, 129.0ms inference, 1.0ms postprocess per image at shape (1, 3, 480, 640)\n",
      "\n",
      "0: 480x640 1 awake, 122.0ms\n",
      "Speed: 2.0ms preprocess, 122.0ms inference, 1.0ms postprocess per image at shape (1, 3, 480, 640)\n",
      "\n",
      "0: 480x640 1 awake, 129.0ms\n",
      "Speed: 1.0ms preprocess, 129.0ms inference, 1.0ms postprocess per image at shape (1, 3, 480, 640)\n",
      "\n",
      "0: 480x640 1 awake, 130.0ms\n",
      "Speed: 1.0ms preprocess, 130.0ms inference, 0.0ms postprocess per image at shape (1, 3, 480, 640)\n",
      "\n",
      "0: 480x640 1 awake, 127.0ms\n",
      "Speed: 1.0ms preprocess, 127.0ms inference, 1.0ms postprocess per image at shape (1, 3, 480, 640)\n",
      "\n",
      "0: 480x640 1 awake, 124.0ms\n",
      "Speed: 1.0ms preprocess, 124.0ms inference, 1.0ms postprocess per image at shape (1, 3, 480, 640)\n",
      "\n",
      "0: 480x640 1 awake, 127.0ms\n",
      "Speed: 2.0ms preprocess, 127.0ms inference, 1.0ms postprocess per image at shape (1, 3, 480, 640)\n",
      "\n",
      "0: 480x640 1 drowsy, 128.0ms\n",
      "Speed: 1.0ms preprocess, 128.0ms inference, 1.0ms postprocess per image at shape (1, 3, 480, 640)\n",
      "\n",
      "0: 480x640 1 awake, 124.0ms\n",
      "Speed: 1.0ms preprocess, 124.0ms inference, 1.0ms postprocess per image at shape (1, 3, 480, 640)\n",
      "\n",
      "0: 480x640 1 drowsy, 118.0ms\n",
      "Speed: 2.0ms preprocess, 118.0ms inference, 1.0ms postprocess per image at shape (1, 3, 480, 640)\n",
      "\n",
      "0: 480x640 1 awake, 121.0ms\n",
      "Speed: 2.0ms preprocess, 121.0ms inference, 1.0ms postprocess per image at shape (1, 3, 480, 640)\n",
      "\n",
      "0: 480x640 1 drowsy, 128.0ms\n",
      "Speed: 2.0ms preprocess, 128.0ms inference, 1.0ms postprocess per image at shape (1, 3, 480, 640)\n",
      "\n",
      "0: 480x640 1 drowsy, 129.0ms\n",
      "Speed: 1.0ms preprocess, 129.0ms inference, 1.0ms postprocess per image at shape (1, 3, 480, 640)\n",
      "\n",
      "0: 480x640 1 awake, 123.0ms\n",
      "Speed: 2.0ms preprocess, 123.0ms inference, 1.0ms postprocess per image at shape (1, 3, 480, 640)\n",
      "\n",
      "0: 480x640 1 drowsy, 126.0ms\n",
      "Speed: 3.0ms preprocess, 126.0ms inference, 0.0ms postprocess per image at shape (1, 3, 480, 640)\n",
      "\n",
      "0: 480x640 1 drowsy, 128.0ms\n",
      "Speed: 2.0ms preprocess, 128.0ms inference, 1.0ms postprocess per image at shape (1, 3, 480, 640)\n",
      "\n",
      "0: 480x640 1 drowsy, 123.0ms\n",
      "Speed: 1.0ms preprocess, 123.0ms inference, 1.0ms postprocess per image at shape (1, 3, 480, 640)\n",
      "\n",
      "0: 480x640 1 drowsy, 129.0ms\n",
      "Speed: 2.0ms preprocess, 129.0ms inference, 1.0ms postprocess per image at shape (1, 3, 480, 640)\n",
      "\n",
      "0: 480x640 1 drowsy, 131.0ms\n",
      "Speed: 2.0ms preprocess, 131.0ms inference, 1.0ms postprocess per image at shape (1, 3, 480, 640)\n",
      "\n",
      "0: 480x640 1 drowsy, 125.0ms\n",
      "Speed: 2.0ms preprocess, 125.0ms inference, 1.0ms postprocess per image at shape (1, 3, 480, 640)\n",
      "\n",
      "0: 480x640 1 drowsy, 128.0ms\n",
      "Speed: 1.0ms preprocess, 128.0ms inference, 1.0ms postprocess per image at shape (1, 3, 480, 640)\n",
      "\n",
      "0: 480x640 1 awake, 122.0ms\n",
      "Speed: 2.0ms preprocess, 122.0ms inference, 1.0ms postprocess per image at shape (1, 3, 480, 640)\n",
      "\n",
      "0: 480x640 1 awake, 132.0ms\n",
      "Speed: 1.0ms preprocess, 132.0ms inference, 1.0ms postprocess per image at shape (1, 3, 480, 640)\n",
      "\n",
      "0: 480x640 1 awake, 1 drowsy, 126.0ms\n",
      "Speed: 1.0ms preprocess, 126.0ms inference, 1.0ms postprocess per image at shape (1, 3, 480, 640)\n",
      "\n",
      "0: 480x640 1 drowsy, 124.0ms\n",
      "Speed: 1.0ms preprocess, 124.0ms inference, 1.0ms postprocess per image at shape (1, 3, 480, 640)\n",
      "\n",
      "0: 480x640 1 awake, 1 drowsy, 121.0ms\n",
      "Speed: 2.0ms preprocess, 121.0ms inference, 1.0ms postprocess per image at shape (1, 3, 480, 640)\n",
      "\n",
      "0: 480x640 1 awake, 126.0ms\n",
      "Speed: 1.0ms preprocess, 126.0ms inference, 1.0ms postprocess per image at shape (1, 3, 480, 640)\n",
      "\n",
      "0: 480x640 1 awake, 126.0ms\n",
      "Speed: 1.0ms preprocess, 126.0ms inference, 0.0ms postprocess per image at shape (1, 3, 480, 640)\n",
      "\n",
      "0: 480x640 1 awake, 127.0ms\n",
      "Speed: 2.0ms preprocess, 127.0ms inference, 1.0ms postprocess per image at shape (1, 3, 480, 640)\n",
      "\n",
      "0: 480x640 1 awake, 124.0ms\n",
      "Speed: 1.0ms preprocess, 124.0ms inference, 1.0ms postprocess per image at shape (1, 3, 480, 640)\n",
      "\n",
      "0: 480x640 1 awake, 130.0ms\n",
      "Speed: 1.0ms preprocess, 130.0ms inference, 1.0ms postprocess per image at shape (1, 3, 480, 640)\n",
      "\n",
      "0: 480x640 1 awake, 129.0ms\n",
      "Speed: 1.0ms preprocess, 129.0ms inference, 1.0ms postprocess per image at shape (1, 3, 480, 640)\n",
      "\n",
      "0: 480x640 1 drowsy, 128.0ms\n",
      "Speed: 1.0ms preprocess, 128.0ms inference, 1.0ms postprocess per image at shape (1, 3, 480, 640)\n",
      "\n",
      "0: 480x640 1 drowsy, 126.0ms\n",
      "Speed: 1.0ms preprocess, 126.0ms inference, 1.0ms postprocess per image at shape (1, 3, 480, 640)\n",
      "\n",
      "0: 480x640 1 drowsy, 127.0ms\n",
      "Speed: 1.0ms preprocess, 127.0ms inference, 1.0ms postprocess per image at shape (1, 3, 480, 640)\n",
      "\n",
      "0: 480x640 1 drowsy, 142.0ms\n",
      "Speed: 2.0ms preprocess, 142.0ms inference, 1.0ms postprocess per image at shape (1, 3, 480, 640)\n",
      "\n",
      "0: 480x640 1 drowsy, 132.0ms\n",
      "Speed: 1.0ms preprocess, 132.0ms inference, 1.0ms postprocess per image at shape (1, 3, 480, 640)\n",
      "\n",
      "0: 480x640 1 drowsy, 137.0ms\n",
      "Speed: 2.0ms preprocess, 137.0ms inference, 1.0ms postprocess per image at shape (1, 3, 480, 640)\n",
      "\n",
      "0: 480x640 1 drowsy, 135.0ms\n",
      "Speed: 3.0ms preprocess, 135.0ms inference, 1.0ms postprocess per image at shape (1, 3, 480, 640)\n",
      "\n",
      "0: 480x640 1 awake, 1 drowsy, 134.0ms\n",
      "Speed: 2.0ms preprocess, 134.0ms inference, 1.0ms postprocess per image at shape (1, 3, 480, 640)\n",
      "\n",
      "0: 480x640 1 awake, 141.0ms\n",
      "Speed: 2.0ms preprocess, 141.0ms inference, 1.0ms postprocess per image at shape (1, 3, 480, 640)\n",
      "\n",
      "0: 480x640 1 awake, 140.0ms\n",
      "Speed: 2.0ms preprocess, 140.0ms inference, 1.0ms postprocess per image at shape (1, 3, 480, 640)\n",
      "\n",
      "0: 480x640 1 awake, 137.0ms\n",
      "Speed: 1.0ms preprocess, 137.0ms inference, 0.0ms postprocess per image at shape (1, 3, 480, 640)\n",
      "\n",
      "0: 480x640 1 awake, 135.0ms\n",
      "Speed: 2.0ms preprocess, 135.0ms inference, 1.0ms postprocess per image at shape (1, 3, 480, 640)\n",
      "\n",
      "0: 480x640 1 awake, 135.0ms\n",
      "Speed: 1.0ms preprocess, 135.0ms inference, 1.0ms postprocess per image at shape (1, 3, 480, 640)\n",
      "\n",
      "0: 480x640 1 awake, 135.0ms\n",
      "Speed: 2.0ms preprocess, 135.0ms inference, 1.0ms postprocess per image at shape (1, 3, 480, 640)\n",
      "\n",
      "0: 480x640 1 awake, 136.0ms\n",
      "Speed: 1.0ms preprocess, 136.0ms inference, 0.0ms postprocess per image at shape (1, 3, 480, 640)\n",
      "\n",
      "0: 480x640 1 awake, 127.0ms\n",
      "Speed: 2.0ms preprocess, 127.0ms inference, 1.0ms postprocess per image at shape (1, 3, 480, 640)\n",
      "\n",
      "0: 480x640 1 drowsy, 121.0ms\n",
      "Speed: 1.0ms preprocess, 121.0ms inference, 1.0ms postprocess per image at shape (1, 3, 480, 640)\n",
      "\n",
      "0: 480x640 1 drowsy, 129.0ms\n",
      "Speed: 1.0ms preprocess, 129.0ms inference, 1.0ms postprocess per image at shape (1, 3, 480, 640)\n",
      "\n",
      "0: 480x640 1 drowsy, 128.0ms\n",
      "Speed: 1.0ms preprocess, 128.0ms inference, 0.0ms postprocess per image at shape (1, 3, 480, 640)\n",
      "\n",
      "0: 480x640 1 awake, 1 drowsy, 130.0ms\n",
      "Speed: 1.0ms preprocess, 130.0ms inference, 1.0ms postprocess per image at shape (1, 3, 480, 640)\n",
      "\n",
      "0: 480x640 1 drowsy, 130.0ms\n",
      "Speed: 1.0ms preprocess, 130.0ms inference, 1.0ms postprocess per image at shape (1, 3, 480, 640)\n",
      "\n",
      "0: 480x640 1 drowsy, 123.0ms\n",
      "Speed: 1.0ms preprocess, 123.0ms inference, 0.0ms postprocess per image at shape (1, 3, 480, 640)\n",
      "\n",
      "0: 480x640 1 drowsy, 123.0ms\n",
      "Speed: 1.0ms preprocess, 123.0ms inference, 1.0ms postprocess per image at shape (1, 3, 480, 640)\n",
      "\n",
      "0: 480x640 1 drowsy, 123.0ms\n",
      "Speed: 2.0ms preprocess, 123.0ms inference, 1.0ms postprocess per image at shape (1, 3, 480, 640)\n",
      "\n",
      "0: 480x640 1 drowsy, 135.0ms\n",
      "Speed: 1.0ms preprocess, 135.0ms inference, 1.0ms postprocess per image at shape (1, 3, 480, 640)\n",
      "\n",
      "0: 480x640 1 drowsy, 124.0ms\n",
      "Speed: 3.0ms preprocess, 124.0ms inference, 1.0ms postprocess per image at shape (1, 3, 480, 640)\n",
      "\n",
      "0: 480x640 1 awake, 1 drowsy, 128.0ms\n",
      "Speed: 2.0ms preprocess, 128.0ms inference, 1.0ms postprocess per image at shape (1, 3, 480, 640)\n",
      "\n",
      "0: 480x640 1 awake, 1 drowsy, 128.0ms\n",
      "Speed: 1.0ms preprocess, 128.0ms inference, 1.0ms postprocess per image at shape (1, 3, 480, 640)\n",
      "\n",
      "0: 480x640 1 awake, 1 drowsy, 134.0ms\n",
      "Speed: 2.0ms preprocess, 134.0ms inference, 1.0ms postprocess per image at shape (1, 3, 480, 640)\n",
      "\n",
      "0: 480x640 1 awake, 1 drowsy, 138.0ms\n",
      "Speed: 1.0ms preprocess, 138.0ms inference, 1.0ms postprocess per image at shape (1, 3, 480, 640)\n",
      "\n",
      "0: 480x640 1 drowsy, 132.0ms\n",
      "Speed: 2.0ms preprocess, 132.0ms inference, 1.0ms postprocess per image at shape (1, 3, 480, 640)\n",
      "\n",
      "0: 480x640 1 awake, 1 drowsy, 130.0ms\n",
      "Speed: 2.0ms preprocess, 130.0ms inference, 1.0ms postprocess per image at shape (1, 3, 480, 640)\n",
      "\n",
      "0: 480x640 1 awake, 1 drowsy, 126.0ms\n",
      "Speed: 1.0ms preprocess, 126.0ms inference, 0.0ms postprocess per image at shape (1, 3, 480, 640)\n",
      "\n",
      "0: 480x640 1 awake, 1 drowsy, 131.0ms\n",
      "Speed: 1.0ms preprocess, 131.0ms inference, 1.0ms postprocess per image at shape (1, 3, 480, 640)\n",
      "\n",
      "0: 480x640 1 awake, 1 drowsy, 119.0ms\n",
      "Speed: 2.0ms preprocess, 119.0ms inference, 0.0ms postprocess per image at shape (1, 3, 480, 640)\n",
      "\n",
      "0: 480x640 1 awake, 1 drowsy, 132.0ms\n",
      "Speed: 1.0ms preprocess, 132.0ms inference, 1.0ms postprocess per image at shape (1, 3, 480, 640)\n",
      "\n",
      "0: 480x640 1 awake, 1 drowsy, 126.0ms\n",
      "Speed: 1.0ms preprocess, 126.0ms inference, 0.0ms postprocess per image at shape (1, 3, 480, 640)\n",
      "\n",
      "0: 480x640 1 awake, 1 drowsy, 125.0ms\n",
      "Speed: 1.0ms preprocess, 125.0ms inference, 1.0ms postprocess per image at shape (1, 3, 480, 640)\n",
      "\n",
      "0: 480x640 1 awake, 129.0ms\n",
      "Speed: 2.0ms preprocess, 129.0ms inference, 1.0ms postprocess per image at shape (1, 3, 480, 640)\n",
      "\n",
      "0: 480x640 1 awake, 1 drowsy, 127.0ms\n",
      "Speed: 2.0ms preprocess, 127.0ms inference, 1.0ms postprocess per image at shape (1, 3, 480, 640)\n",
      "\n",
      "0: 480x640 1 awake, 126.0ms\n",
      "Speed: 2.0ms preprocess, 126.0ms inference, 1.0ms postprocess per image at shape (1, 3, 480, 640)\n",
      "\n",
      "0: 480x640 1 awake, 132.0ms\n",
      "Speed: 2.0ms preprocess, 132.0ms inference, 1.0ms postprocess per image at shape (1, 3, 480, 640)\n",
      "\n",
      "0: 480x640 1 awake, 129.0ms\n",
      "Speed: 1.0ms preprocess, 129.0ms inference, 1.0ms postprocess per image at shape (1, 3, 480, 640)\n",
      "\n",
      "0: 480x640 1 awake, 122.0ms\n",
      "Speed: 1.0ms preprocess, 122.0ms inference, 1.0ms postprocess per image at shape (1, 3, 480, 640)\n",
      "\n",
      "0: 480x640 1 awake, 128.0ms\n",
      "Speed: 1.0ms preprocess, 128.0ms inference, 1.0ms postprocess per image at shape (1, 3, 480, 640)\n",
      "\n",
      "0: 480x640 1 awake, 123.0ms\n",
      "Speed: 2.0ms preprocess, 123.0ms inference, 1.0ms postprocess per image at shape (1, 3, 480, 640)\n",
      "\n",
      "0: 480x640 1 awake, 128.0ms\n",
      "Speed: 2.0ms preprocess, 128.0ms inference, 1.0ms postprocess per image at shape (1, 3, 480, 640)\n",
      "\n",
      "0: 480x640 1 awake, 126.0ms\n",
      "Speed: 2.0ms preprocess, 126.0ms inference, 1.0ms postprocess per image at shape (1, 3, 480, 640)\n",
      "\n",
      "0: 480x640 1 awake, 131.0ms\n",
      "Speed: 1.0ms preprocess, 131.0ms inference, 1.0ms postprocess per image at shape (1, 3, 480, 640)\n",
      "\n",
      "0: 480x640 1 awake, 125.0ms\n",
      "Speed: 2.0ms preprocess, 125.0ms inference, 1.0ms postprocess per image at shape (1, 3, 480, 640)\n",
      "\n",
      "0: 480x640 1 awake, 128.0ms\n",
      "Speed: 2.0ms preprocess, 128.0ms inference, 1.0ms postprocess per image at shape (1, 3, 480, 640)\n",
      "\n",
      "0: 480x640 1 awake, 124.0ms\n",
      "Speed: 2.0ms preprocess, 124.0ms inference, 0.0ms postprocess per image at shape (1, 3, 480, 640)\n",
      "\n",
      "0: 480x640 1 awake, 128.0ms\n",
      "Speed: 2.0ms preprocess, 128.0ms inference, 0.0ms postprocess per image at shape (1, 3, 480, 640)\n",
      "\n",
      "0: 480x640 1 awake, 124.0ms\n",
      "Speed: 2.0ms preprocess, 124.0ms inference, 1.0ms postprocess per image at shape (1, 3, 480, 640)\n",
      "\n",
      "0: 480x640 1 awake, 130.0ms\n",
      "Speed: 2.0ms preprocess, 130.0ms inference, 0.0ms postprocess per image at shape (1, 3, 480, 640)\n",
      "\n",
      "0: 480x640 1 awake, 124.0ms\n",
      "Speed: 1.0ms preprocess, 124.0ms inference, 1.0ms postprocess per image at shape (1, 3, 480, 640)\n",
      "\n",
      "0: 480x640 1 awake, 125.0ms\n",
      "Speed: 1.0ms preprocess, 125.0ms inference, 1.0ms postprocess per image at shape (1, 3, 480, 640)\n",
      "\n",
      "0: 480x640 1 awake, 123.0ms\n",
      "Speed: 2.0ms preprocess, 123.0ms inference, 1.0ms postprocess per image at shape (1, 3, 480, 640)\n",
      "\n",
      "0: 480x640 1 awake, 130.0ms\n",
      "Speed: 2.0ms preprocess, 130.0ms inference, 1.0ms postprocess per image at shape (1, 3, 480, 640)\n",
      "\n",
      "0: 480x640 1 awake, 120.0ms\n",
      "Speed: 2.0ms preprocess, 120.0ms inference, 1.0ms postprocess per image at shape (1, 3, 480, 640)\n",
      "\n",
      "0: 480x640 1 awake, 127.0ms\n",
      "Speed: 1.0ms preprocess, 127.0ms inference, 0.0ms postprocess per image at shape (1, 3, 480, 640)\n",
      "\n",
      "0: 480x640 1 awake, 129.0ms\n",
      "Speed: 1.0ms preprocess, 129.0ms inference, 0.0ms postprocess per image at shape (1, 3, 480, 640)\n",
      "\n",
      "0: 480x640 1 awake, 128.0ms\n",
      "Speed: 1.0ms preprocess, 128.0ms inference, 1.0ms postprocess per image at shape (1, 3, 480, 640)\n",
      "\n",
      "0: 480x640 1 awake, 129.0ms\n",
      "Speed: 2.0ms preprocess, 129.0ms inference, 1.0ms postprocess per image at shape (1, 3, 480, 640)\n",
      "\n",
      "0: 480x640 1 awake, 132.0ms\n",
      "Speed: 1.0ms preprocess, 132.0ms inference, 1.0ms postprocess per image at shape (1, 3, 480, 640)\n",
      "\n",
      "0: 480x640 1 awake, 131.0ms\n",
      "Speed: 1.0ms preprocess, 131.0ms inference, 1.0ms postprocess per image at shape (1, 3, 480, 640)\n"
     ]
    }
   ],
   "source": [
    "cap = cv2.VideoCapture(0)\n",
    "while cap.isOpened():\n",
    "    ret, frame = cap.read()\n",
    "    \n",
    "    processed_frame = object_detection(frame)\n",
    "    cv2.imshow('YOLO', processed_frame)\n",
    "    \n",
    "    if cv2.waitKey(10) & 0xFF == ord('q'):\n",
    "        break\n",
    "cap.release()\n",
    "cv2.destroyAllWindows()"
   ]
  },
  {
   "cell_type": "markdown",
   "metadata": {},
   "source": [
    "# Step 5: Performance Assessment"
   ]
  },
  {
   "cell_type": "code",
   "execution_count": 29,
   "metadata": {
    "scrolled": true
   },
   "outputs": [
    {
     "name": "stdout",
     "output_type": "stream",
     "text": [
      "Ultralytics 8.3.57  Python-3.10.10 torch-2.5.1+cu118 CPU (AMD Ryzen 5 PRO 4650U with Radeon Graphics)\n"
     ]
    },
    {
     "name": "stderr",
     "output_type": "stream",
     "text": [
      "\u001b[34m\u001b[1mval: \u001b[0mScanning D:\\code\\drowsiness_detection_system\\data\\valid\\labels.cache... 75 images, 0 backgrounds, 0 corrupt: 100%|\u001b[0m\n",
      "                 Class     Images  Instances      Box(P          R      mAP50  mAP50-95): 100%|██████████| 5/5 [00:13<0\n"
     ]
    },
    {
     "name": "stdout",
     "output_type": "stream",
     "text": [
      "                   all         75         75      0.945          1      0.995       0.91\n",
      "                 awake         49         49      0.891          1      0.995      0.895\n",
      "                drowsy         26         26          1          1      0.995      0.924\n",
      "Speed: 2.0ms preprocess, 168.6ms inference, 0.0ms loss, 0.4ms postprocess per image\n",
      "Saving runs\\detect\\val4\\predictions.json...\n",
      "Results saved to \u001b[1mruns\\detect\\val4\u001b[0m\n",
      "\n",
      "Evaluation Metrics:\n",
      "Precision (mean): 0.945\n",
      "Recall (mean): 1.000\n",
      "mAP@0.5: 0.995\n",
      "mAP@0.5:0.95: 0.910\n",
      "\n",
      "Class-Wise Metrics:\n",
      "Class: awake\n",
      "  Precision: 0.891\n",
      "  Recall: 1.000\n",
      "  mAP@0.5: 0.995\n",
      "  mAP@0.5:0.95: 0.895\n",
      "Class: drowsy\n",
      "  Precision: 1.000\n",
      "  Recall: 1.000\n",
      "  mAP@0.5: 0.995\n",
      "  mAP@0.5:0.95: 0.924\n"
     ]
    }
   ],
   "source": [
    "metrics = model.val(\n",
    "    data='data.yaml',\n",
    "    imgsz=640,\n",
    "    conf=0.25,       # Confidence threshold (adjustable)\n",
    "    iou=0.5,         # IoU threshold (default 0.5)\n",
    "    save_json=True\n",
    ")\n",
    "box_metrics = metrics.box\n",
    "\n",
    "# Overall metrics\n",
    "print(\"\\nEvaluation Metrics:\")\n",
    "print(f\"Precision (mean): {box_metrics.p.mean():.3f}\")\n",
    "print(f\"Recall (mean): {box_metrics.r.mean():.3f}\")\n",
    "print(f\"mAP@0.5: {box_metrics.map50:.3f}\")\n",
    "print(f\"mAP@0.5:0.95: {box_metrics.map:.3f}\")\n",
    "\n",
    "# Class-wise metrics\n",
    "print(\"\\nClass-Wise Metrics:\")\n",
    "for cls_id, cls_name in metrics.names.items():\n",
    "    print(f\"Class: {cls_name}\")\n",
    "    print(f\"  Precision: {box_metrics.p[cls_id]:.3f}\")\n",
    "    print(f\"  Recall: {box_metrics.r[cls_id]:.3f}\")\n",
    "    print(f\"  mAP@0.5: {box_metrics.ap50[cls_id]:.3f}\")\n",
    "    print(f\"  mAP@0.5:0.95: {box_metrics.ap[cls_id]:.3f}\")"
   ]
  },
  {
   "cell_type": "code",
   "execution_count": 2,
   "metadata": {
    "scrolled": true
   },
   "outputs": [
    {
     "data": {
      "image/png": "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",
      "text/plain": [
       "<IPython.core.display.Image object>"
      ]
     },
     "execution_count": 2,
     "metadata": {},
     "output_type": "execute_result"
    }
   ],
   "source": [
    "from IPython.display import Image\n",
    "\n",
    "Image(filename='runs/detect/val4/confusion_matrix_normalized.png')"
   ]
},
  "nbformat": 4,
  "nbformat_minor": 0
}